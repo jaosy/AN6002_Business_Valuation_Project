{
 "cells": [
  {
   "cell_type": "code",
   "execution_count": 2,
   "id": "4d26c6a9-3ffa-4ce0-b0c9-472eae5d4e3f",
   "metadata": {},
   "outputs": [
    {
     "name": "stdout",
     "output_type": "stream",
     "text": [
      "Collecting pmdarimaNote: you may need to restart the kernel to use updated packages.\n",
      "\n",
      "  Using cached pmdarima-2.0.4-cp312-cp312-win_amd64.whl.metadata (8.0 kB)\n",
      "Requirement already satisfied: joblib>=0.11 in c:\\users\\jaosy\\anaconda3\\lib\\site-packages (from pmdarima) (1.4.2)\n",
      "Collecting Cython!=0.29.18,!=0.29.31,>=0.29 (from pmdarima)\n",
      "  Using cached Cython-3.0.11-cp312-cp312-win_amd64.whl.metadata (3.2 kB)\n",
      "Requirement already satisfied: numpy>=1.21.2 in c:\\users\\jaosy\\anaconda3\\lib\\site-packages (from pmdarima) (1.26.4)\n",
      "Requirement already satisfied: pandas>=0.19 in c:\\users\\jaosy\\anaconda3\\lib\\site-packages (from pmdarima) (2.2.2)\n",
      "Requirement already satisfied: scikit-learn>=0.22 in c:\\users\\jaosy\\anaconda3\\lib\\site-packages (from pmdarima) (1.4.2)\n",
      "Requirement already satisfied: scipy>=1.3.2 in c:\\users\\jaosy\\anaconda3\\lib\\site-packages (from pmdarima) (1.13.1)\n",
      "Requirement already satisfied: statsmodels>=0.13.2 in c:\\users\\jaosy\\anaconda3\\lib\\site-packages (from pmdarima) (0.14.2)\n",
      "Requirement already satisfied: urllib3 in c:\\users\\jaosy\\anaconda3\\lib\\site-packages (from pmdarima) (2.2.2)\n",
      "Requirement already satisfied: setuptools!=50.0.0,>=38.6.0 in c:\\users\\jaosy\\anaconda3\\lib\\site-packages (from pmdarima) (69.5.1)\n",
      "Requirement already satisfied: packaging>=17.1 in c:\\users\\jaosy\\appdata\\roaming\\python\\python312\\site-packages (from pmdarima) (24.1)\n",
      "Requirement already satisfied: python-dateutil>=2.8.2 in c:\\users\\jaosy\\appdata\\roaming\\python\\python312\\site-packages (from pandas>=0.19->pmdarima) (2.9.0.post0)\n",
      "Requirement already satisfied: pytz>=2020.1 in c:\\users\\jaosy\\anaconda3\\lib\\site-packages (from pandas>=0.19->pmdarima) (2024.1)\n",
      "Requirement already satisfied: tzdata>=2022.7 in c:\\users\\jaosy\\anaconda3\\lib\\site-packages (from pandas>=0.19->pmdarima) (2023.3)\n",
      "Requirement already satisfied: threadpoolctl>=2.0.0 in c:\\users\\jaosy\\anaconda3\\lib\\site-packages (from scikit-learn>=0.22->pmdarima) (2.2.0)\n",
      "Requirement already satisfied: patsy>=0.5.6 in c:\\users\\jaosy\\anaconda3\\lib\\site-packages (from statsmodels>=0.13.2->pmdarima) (0.5.6)\n",
      "Requirement already satisfied: six in c:\\users\\jaosy\\appdata\\roaming\\python\\python312\\site-packages (from patsy>=0.5.6->statsmodels>=0.13.2->pmdarima) (1.16.0)\n",
      "Using cached pmdarima-2.0.4-cp312-cp312-win_amd64.whl (625 kB)\n",
      "Using cached Cython-3.0.11-cp312-cp312-win_amd64.whl (2.8 MB)\n",
      "Installing collected packages: Cython, pmdarima\n",
      "Successfully installed Cython-3.0.11 pmdarima-2.0.4\n",
      "Select an industry:\n",
      "1: Information Technology\n",
      "2: Industrials\n",
      "3: Consumer Staples\n",
      "4: Health Care\n",
      "5: Materials\n",
      "6: Communication Services\n",
      "7: Consumer Discretionary\n",
      "8: Energy\n",
      "9: Utilities\n",
      "10: Real Estate\n",
      "11: Financials\n",
      "You selected the industry: Energy\n",
      "Select a company ticker from the following:\n",
      "1: APA - APA Corporation\n",
      "2: BKR - Baker Hughes\n",
      "3: CVX - Chevron Corporation\n",
      "4: COP - ConocoPhillips\n",
      "5: CTRA - Coterra\n",
      "6: DVN - Devon Energy\n",
      "7: FANG - Diamondback Energy\n",
      "8: EOG - EOG Resources\n",
      "9: EQT - EQT Corporation\n",
      "10: XOM - ExxonMobil\n",
      "11: HAL - Halliburton\n",
      "12: HES - Hess Corporation\n",
      "13: KMI - Kinder Morgan\n",
      "14: MRO - Marathon Oil\n",
      "15: MPC - Marathon Petroleum\n",
      "16: OXY - Occidental Petroleum\n",
      "17: OKE - ONEOK\n",
      "18: PSX - Phillips 66\n",
      "19: SLB - Schlumberger\n",
      "20: TRGP - Targa Resources\n",
      "21: VLO - Valero Energy\n",
      "22: WMB - Williams Companies\n",
      "\n",
      "Company Information for Baker Hughes (BKR):\n",
      "Full Address: 575 North Dairy Ashford Road, Suite 100 Houston, TX 77079-1121, United States\n",
      "Full-Time Employees: 57000\n",
      "Company Summary: Baker Hughes Company provides a portfolio of technologies and services to energy and industrial value chain worldwide. The company operates through Oilfield Services & Equipment (OFSE) and Industrial & Energy Technology (IET) segments. The OFSE segment designs and manufactures products and provides related services, including exploration, appraisal, development, production, rejuvenation, and decommissioning for onshore and offshore oilfield operations. This segment also provides drilling services, drill bits, and drilling and completions fluids; completions, intervention, measurements, pressure pumping, and wireline services; artificial lift systems, and oilfield and industrial chemicals; subsea projects and services, flexible pipe systems, and surface pressure control systems; and integrated well services and solutions. It serves oil and natural gas companies; the United States and international independent oil and natural gas companies; national or state-owned oil companies; engineering, procurement, and construction contractors; geothermal companies; and other oilfield service companies. The IET segment provides gas technology equipment, including drivers, driven equipment, flow control, and turnkey solutions for the mechanical-drive, compression, and power-generation applications; and energy sectors, such as oil and gas, LNG operations, petrochemical, and carbon solutions. This segment also provides rack-based vibration monitoring equipment and sensors; integrated asset performance management products; inspection services; pumps, valves, and gears; precision sensors and instrumentation, and condition monitoring solutions. It serves upstream, midstream, downstream, onshore, offshore, and small and large scale customers. The company was formerly known as Baker Hughes, a GE company and changed its name to Baker Hughes Company in October 2019. Baker Hughes Company was incorporated in 2016 and is based in Houston, Texas.\n",
      "\n",
      "Governance Risks:\n",
      "Audit Risk: 2\n",
      "Board Risk: 5\n",
      "Compensation Risk: 5\n",
      "Shareholder Rights Risk: 2\n",
      "Overall Risk: 2\n",
      "\n",
      "Fetching data for BKR...\n",
      "\n"
     ]
    },
    {
     "name": "stderr",
     "output_type": "stream",
     "text": [
      "[*********************100%***********************]  1 of 1 completed\n"
     ]
    },
    {
     "name": "stdout",
     "output_type": "stream",
     "text": [
      "ADF Statistic: -1.807886541367349\n",
      "p-value: 0.3765533341289072\n",
      "Performing stepwise search to minimize aic\n",
      " ARIMA(2,0,2)(0,0,0)[0]             : AIC=5951.672, Time=0.54 sec\n",
      " ARIMA(0,0,0)(0,0,0)[0]             : AIC=5950.020, Time=0.09 sec\n",
      " ARIMA(1,0,0)(0,0,0)[0]             : AIC=5949.034, Time=0.07 sec\n",
      " ARIMA(0,0,1)(0,0,0)[0]             : AIC=5948.844, Time=0.11 sec\n",
      " ARIMA(1,0,1)(0,0,0)[0]             : AIC=5947.760, Time=0.28 sec\n",
      " ARIMA(2,0,1)(0,0,0)[0]             : AIC=5949.553, Time=0.32 sec\n",
      " ARIMA(1,0,2)(0,0,0)[0]             : AIC=5949.558, Time=0.42 sec\n",
      " ARIMA(0,0,2)(0,0,0)[0]             : AIC=5948.763, Time=0.18 sec\n",
      " ARIMA(2,0,0)(0,0,0)[0]             : AIC=5949.016, Time=0.14 sec\n",
      " ARIMA(1,0,1)(0,0,0)[0] intercept   : AIC=5949.434, Time=1.17 sec\n",
      "\n",
      "Best model:  ARIMA(1,0,1)(0,0,0)[0]          \n",
      "Total fit time: 3.352 seconds\n"
     ]
    },
    {
     "name": "stderr",
     "output_type": "stream",
     "text": [
      "c:\\Users\\jaosy\\anaconda3\\Lib\\site-packages\\statsmodels\\tsa\\base\\tsa_model.py:836: ValueWarning: No supported index is available. Prediction results will be given with an integer index beginning at `start`.\n",
      "  return get_prediction_index(\n",
      "c:\\Users\\jaosy\\anaconda3\\Lib\\site-packages\\statsmodels\\tsa\\base\\tsa_model.py:836: FutureWarning: No supported index is available. In the next version, calling this method in a model without a supported index will result in an exception.\n",
      "  return get_prediction_index(\n"
     ]
    },
    {
     "data": {
      "image/png": "[encoded data removed]",
      "text/plain": [
       "<Figure size 1000x600 with 1 Axes>"
      ]
     },
     "metadata": {},
     "output_type": "display_data"
    }
   ],
   "source": [
    "%pip install pmdarima \n",
    "\n",
    "import yfinance as yf\n",
    "import pandas as pd\n",
    "import matplotlib.pyplot as plt\n",
    "import statsmodels.api as sm\n",
    "from pmdarima import auto_arima\n",
    "\n",
    "# Function to fetch S&P 500 tickers and industries from Wikipedia\n",
    "def get_sp500_tickers_and_industries():\n",
    "    url = 'https://en.wikipedia.org/wiki/List_of_S%26P_500_companies'\n",
    "    tables = pd.read_html(url)\n",
    "    df = tables[0]  # The first table contains the S&P 500 data\n",
    "    df = df[['Symbol', 'GICS Sector', 'Security']]  # Select relevant columns\n",
    "    tickers_data = df.set_index('Symbol')[['GICS Sector', 'Security']].to_dict(orient='index')  # Create a dictionary of tickers, sectors, and company names\n",
    "    return tickers_data\n",
    "\n",
    "# Function to fetch data for a list of tickers\n",
    "def get_data(tickers):\n",
    "    data = {}\n",
    "    for ticker in tickers:\n",
    "        try:\n",
    "            df = yf.download(ticker, start=\"2010-01-01\", end=\"2024-10-01\")\n",
    "            data[ticker] = df\n",
    "        except Exception as e:\n",
    "            print(f\"Could not retrieve data for {ticker}: {e}\")\n",
    "    return data\n",
    "\n",
    "# Function to select an industry and get its tickers\n",
    "def industry_selection(tickers_data):\n",
    "    print(\"Select an industry:\")\n",
    "    industry_options = set(data['GICS Sector'] for data in tickers_data.values())\n",
    "    for idx, industry in enumerate(industry_options):\n",
    "        print(f\"{idx + 1}: {industry}\")\n",
    "\n",
    "    industry_choice = int(input(\"Enter the number of the industry you want to select: \")) - 1\n",
    "    selected_industry = list(industry_options)[industry_choice]\n",
    "\n",
    "    print(f\"You selected the industry: {selected_industry}\")\n",
    "    \n",
    "    selected_tickers = [(ticker, data['Security']) for ticker, data in tickers_data.items() if data['GICS Sector'] == selected_industry]\n",
    "    return selected_tickers\n",
    "\n",
    "# Function to get company information using Yahoo Finance\n",
    "def get_company_info(ticker, company_name):\n",
    "    stock = yf.Ticker(ticker)\n",
    "    info = stock.info\n",
    "    address1 = info.get('address1', 'N/A')\n",
    "    address2 = info.get('address2', '')\n",
    "    city = info.get('city', '')\n",
    "    state = info.get('state', '')\n",
    "    zip_code = info.get('zip', '')\n",
    "    country = info.get('country', 'N/A')\n",
    "    full_address = f\"{address1}, {address2} {city}, {state} {zip_code}, {country}\".strip(\", \")\n",
    "    full_time_employees = info.get('fullTimeEmployees', 'N/A')\n",
    "    company_summary = info.get('longBusinessSummary', 'N/A')\n",
    "    audit_risk = info.get('auditRisk', 'N/A')\n",
    "    board_risk = info.get('boardRisk', 'N/A')\n",
    "    compensation_risk = info.get('compensationRisk', 'N/A')\n",
    "    shareholder_rights_risk = info.get('shareHolderRightsRisk', 'N/A')\n",
    "    overall_risk = info.get('overallRisk', 'N/A')\n",
    "\n",
    "    return full_address, full_time_employees, company_summary, {\n",
    "        'Audit Risk': audit_risk,\n",
    "        'Board Risk': board_risk,\n",
    "        'Compensation Risk': compensation_risk,\n",
    "        'Shareholder Rights Risk': shareholder_rights_risk,\n",
    "        'Overall Risk': overall_risk\n",
    "    }\n",
    "\n",
    "# Function to forecast stock prices using ARIMA\n",
    "def forecast_stock(ticker):\n",
    "    print(f\"\\nFetching data for {ticker}...\\n\")\n",
    "    stock_data = yf.download(ticker, start=\"2015-01-01\", end=\"2024-01-01\")\n",
    "\n",
    "    # Augmented Dickey-Fuller test to check if time series is statonary\n",
    "    result = sm.tsa.adfuller(stock_data['Close'])\n",
    "    print(f'ADF Statistic: {result[0]}')\n",
    "    print(f'p-value: {result[1]}')\n",
    "\n",
    "    stock_diff = stock_data['Close'].diff().dropna()\n",
    "    arima_model = auto_arima(stock_diff, seasonal=False, trace=True, stepwise=True)\n",
    "\n",
    "    # Forecast 30 business days\n",
    "    n_periods = 30\n",
    "    forecast, conf_int = arima_model.predict(n_periods=n_periods, return_conf_int=True)\n",
    "    forecast_dates = pd.date_range(stock_data.index[-1], periods=n_periods, freq='B')\n",
    "\n",
    "    plt.figure(figsize=(10, 6))\n",
    "    plt.plot(stock_data.index, stock_data['Close'], label=f'{ticker} Stock Price')\n",
    "    plt.plot(forecast_dates, forecast.cumsum() + stock_data['Close'].iloc[-1], label='Forecast', color='red')\n",
    "    plt.fill_between(forecast_dates, \n",
    "                     conf_int[:, 0].cumsum() + stock_data['Close'].iloc[-1], \n",
    "                     conf_int[:, 1].cumsum() + stock_data['Close'].iloc[-1], \n",
    "                     color='red', alpha=0.3)\n",
    "    plt.title(f'{ticker} Stock Price Forecast')\n",
    "    plt.legend()\n",
    "    plt.show()\n",
    "\n",
    "# Main Execution\n",
    "tickers_data = get_sp500_tickers_and_industries()\n",
    "selected_tickers = industry_selection(tickers_data)\n",
    "\n",
    "print(\"Select a company ticker from the following:\")\n",
    "for idx, (ticker, company_name) in enumerate(selected_tickers):\n",
    "    print(f\"{idx + 1}: {ticker} - {company_name}\")\n",
    "\n",
    "company_choice = int(input(\"Enter the number of the company you want to select: \")) - 1\n",
    "selected_ticker, selected_company_name = selected_tickers[company_choice]\n",
    "\n",
    "# Get and display company information\n",
    "full_address, full_time_employees, company_summary, governance_risks = get_company_info(selected_ticker, selected_company_name)\n",
    "\n",
    "print(f\"\\nCompany Information for {selected_company_name} ({selected_ticker}):\")\n",
    "print(f\"Full Address: {full_address}\")\n",
    "print(f\"Full-Time Employees: {full_time_employees}\")\n",
    "print(f\"Company Summary: {company_summary}\")\n",
    "print(\"\\nGovernance Risks:\")\n",
    "for key, value in governance_risks.items():\n",
    "    print(f\"{key}: {value}\")\n",
    "\n",
    "# Forecast the stock price of the selected company\n",
    "forecast_stock(selected_ticker)"
   ]
  },
  {
   "cell_type": "code",
   "execution_count": 3,
   "id": "e58e40f0-e800-48a7-b3bf-1fc645b38907",
   "metadata": {},
   "outputs": [
    {
     "name": "stdout",
     "output_type": "stream",
     "text": [
      "Processing MMM...\n"
     ]
    },
    {
     "name": "stderr",
     "output_type": "stream",
     "text": [
      "[*********************100%***********************]  1 of 1 completed\n"
     ]
    },
    {
     "name": "stdout",
     "output_type": "stream",
     "text": [
      "Processing AOS...\n"
     ]
    },
    {
     "name": "stderr",
     "output_type": "stream",
     "text": [
      "[*********************100%***********************]  1 of 1 completed\n"
     ]
    },
    {
     "name": "stdout",
     "output_type": "stream",
     "text": [
      "Processing ABT...\n"
     ]
    },
    {
     "name": "stderr",
     "output_type": "stream",
     "text": [
      "[*********************100%***********************]  1 of 1 completed\n"
     ]
    },
    {
     "name": "stdout",
     "output_type": "stream",
     "text": [
      "Processing ABBV...\n"
     ]
    },
    {
     "name": "stderr",
     "output_type": "stream",
     "text": [
      "[*********************100%***********************]  1 of 1 completed\n",
      "[*********************100%***********************]  1 of 1 completed"
     ]
    },
    {
     "name": "stdout",
     "output_type": "stream",
     "text": [
      "Processing ACN...\n"
     ]
    },
    {
     "name": "stderr",
     "output_type": "stream",
     "text": [
      "\n"
     ]
    },
    {
     "name": "stdout",
     "output_type": "stream",
     "text": [
      "Processing ADBE...\n"
     ]
    },
    {
     "name": "stderr",
     "output_type": "stream",
     "text": [
      "[*********************100%***********************]  1 of 1 completed\n",
      "[*********************100%***********************]  1 of 1 completed\n",
      "\n",
      "1 Failed download:\n",
      "['AMD']: ConnectionError(ProtocolError('Connection aborted.', RemoteDisconnected('Remote end closed connection without response')))\n"
     ]
    },
    {
     "name": "stdout",
     "output_type": "stream",
     "text": [
      "Processing AMD...\n",
      "Skipping AMD: Not enough data\n",
      "Processing AES...\n"
     ]
    },
    {
     "name": "stderr",
     "output_type": "stream",
     "text": [
      "[*********************100%***********************]  1 of 1 completed\n"
     ]
    },
    {
     "name": "stdout",
     "output_type": "stream",
     "text": [
      "Processing AFL...\n"
     ]
    },
    {
     "name": "stderr",
     "output_type": "stream",
     "text": [
      "[*********************100%***********************]  1 of 1 completed\n"
     ]
    },
    {
     "name": "stdout",
     "output_type": "stream",
     "text": [
      "Processing A...\n"
     ]
    },
    {
     "name": "stderr",
     "output_type": "stream",
     "text": [
      "[*********************100%***********************]  1 of 1 completed\n"
     ]
    },
    {
     "name": "stdout",
     "output_type": "stream",
     "text": [
      "Processing APD...\n"
     ]
    },
    {
     "name": "stderr",
     "output_type": "stream",
     "text": [
      "[*********************100%***********************]  1 of 1 completed\n",
      "[*********************100%***********************]  1 of 1 completed"
     ]
    },
    {
     "name": "stdout",
     "output_type": "stream",
     "text": [
      "Processing ABNB...\n"
     ]
    },
    {
     "name": "stderr",
     "output_type": "stream",
     "text": [
      "\n"
     ]
    },
    {
     "name": "stdout",
     "output_type": "stream",
     "text": [
      "Processing AKAM...\n"
     ]
    },
    {
     "name": "stderr",
     "output_type": "stream",
     "text": [
      "[*********************100%***********************]  1 of 1 completed\n",
      "[*********************100%***********************]  1 of 1 completed"
     ]
    },
    {
     "name": "stdout",
     "output_type": "stream",
     "text": [
      "Processing ALB...\n"
     ]
    },
    {
     "name": "stderr",
     "output_type": "stream",
     "text": [
      "\n",
      "[*********************100%***********************]  1 of 1 completed"
     ]
    },
    {
     "name": "stdout",
     "output_type": "stream",
     "text": [
      "Processing ARE...\n"
     ]
    },
    {
     "name": "stderr",
     "output_type": "stream",
     "text": [
      "\n",
      "[*********************100%***********************]  1 of 1 completed"
     ]
    },
    {
     "name": "stdout",
     "output_type": "stream",
     "text": [
      "Processing ALGN...\n"
     ]
    },
    {
     "name": "stderr",
     "output_type": "stream",
     "text": [
      "\n",
      "[*********************100%***********************]  1 of 1 completed"
     ]
    },
    {
     "name": "stdout",
     "output_type": "stream",
     "text": [
      "Processing ALLE...\n"
     ]
    },
    {
     "name": "stderr",
     "output_type": "stream",
     "text": [
      "\n",
      "[*********************100%***********************]  1 of 1 completed"
     ]
    },
    {
     "name": "stdout",
     "output_type": "stream",
     "text": [
      "Processing LNT...\n"
     ]
    },
    {
     "name": "stderr",
     "output_type": "stream",
     "text": [
      "\n",
      "[*********************100%***********************]  1 of 1 completed"
     ]
    },
    {
     "name": "stdout",
     "output_type": "stream",
     "text": [
      "Processing ALL...\n"
     ]
    },
    {
     "name": "stderr",
     "output_type": "stream",
     "text": [
      "\n",
      "[*********************100%***********************]  1 of 1 completed"
     ]
    },
    {
     "name": "stdout",
     "output_type": "stream",
     "text": [
      "Processing GOOGL...\n"
     ]
    },
    {
     "name": "stderr",
     "output_type": "stream",
     "text": [
      "\n",
      "[*********************100%***********************]  1 of 1 completed"
     ]
    },
    {
     "name": "stdout",
     "output_type": "stream",
     "text": [
      "Processing GOOG...\n"
     ]
    },
    {
     "name": "stderr",
     "output_type": "stream",
     "text": [
      "\n"
     ]
    },
    {
     "name": "stdout",
     "output_type": "stream",
     "text": [
      "Processing MO...\n"
     ]
    },
    {
     "name": "stderr",
     "output_type": "stream",
     "text": [
      "[*********************100%***********************]  1 of 1 completed\n",
      "[*********************100%***********************]  1 of 1 completed"
     ]
    },
    {
     "name": "stdout",
     "output_type": "stream",
     "text": [
      "Processing AMZN...\n"
     ]
    },
    {
     "name": "stderr",
     "output_type": "stream",
     "text": [
      "\n",
      "[*********************100%***********************]  1 of 1 completed"
     ]
    },
    {
     "name": "stdout",
     "output_type": "stream",
     "text": [
      "Processing AMCR...\n"
     ]
    },
    {
     "name": "stderr",
     "output_type": "stream",
     "text": [
      "\n",
      "[*********************100%***********************]  1 of 1 completed\n",
      "\n",
      "1 Failed download:\n",
      "['AMTM']: ConnectionError(ProtocolError('Connection aborted.', RemoteDisconnected('Remote end closed connection without response')))\n"
     ]
    },
    {
     "name": "stdout",
     "output_type": "stream",
     "text": [
      "Processing AMTM...\n",
      "Skipping AMTM: Not enough data\n",
      "Processing AEE...\n"
     ]
    },
    {
     "name": "stderr",
     "output_type": "stream",
     "text": [
      "[*********************100%***********************]  1 of 1 completed\n",
      "[*********************100%***********************]  1 of 1 completed"
     ]
    },
    {
     "name": "stdout",
     "output_type": "stream",
     "text": [
      "Processing AEP...\n"
     ]
    },
    {
     "name": "stderr",
     "output_type": "stream",
     "text": [
      "\n",
      "[*********************100%***********************]  1 of 1 completed"
     ]
    },
    {
     "name": "stdout",
     "output_type": "stream",
     "text": [
      "Processing AXP...\n"
     ]
    },
    {
     "name": "stderr",
     "output_type": "stream",
     "text": [
      "\n",
      "[*********************100%***********************]  1 of 1 completed"
     ]
    },
    {
     "name": "stdout",
     "output_type": "stream",
     "text": [
      "Processing AIG...\n"
     ]
    },
    {
     "name": "stderr",
     "output_type": "stream",
     "text": [
      "\n"
     ]
    },
    {
     "name": "stdout",
     "output_type": "stream",
     "text": [
      "Processing AMT...\n"
     ]
    },
    {
     "name": "stderr",
     "output_type": "stream",
     "text": [
      "[*********************100%***********************]  1 of 1 completed\n"
     ]
    },
    {
     "name": "stdout",
     "output_type": "stream",
     "text": [
      "Processing AWK...\n"
     ]
    },
    {
     "name": "stderr",
     "output_type": "stream",
     "text": [
      "[*********************100%***********************]  1 of 1 completed\n"
     ]
    },
    {
     "name": "stdout",
     "output_type": "stream",
     "text": [
      "Processing AMP...\n"
     ]
    },
    {
     "name": "stderr",
     "output_type": "stream",
     "text": [
      "[*********************100%***********************]  1 of 1 completed\n"
     ]
    },
    {
     "name": "stdout",
     "output_type": "stream",
     "text": [
      "Processing AME...\n"
     ]
    },
    {
     "name": "stderr",
     "output_type": "stream",
     "text": [
      "[*********************100%***********************]  1 of 1 completed\n",
      "[*********************100%***********************]  1 of 1 completed"
     ]
    },
    {
     "name": "stdout",
     "output_type": "stream",
     "text": [
      "Processing AMGN...\n"
     ]
    },
    {
     "name": "stderr",
     "output_type": "stream",
     "text": [
      "\n",
      "[*********************100%***********************]  1 of 1 completed"
     ]
    },
    {
     "name": "stdout",
     "output_type": "stream",
     "text": [
      "Processing APH...\n"
     ]
    },
    {
     "name": "stderr",
     "output_type": "stream",
     "text": [
      "\n",
      "[*********************100%***********************]  1 of 1 completed"
     ]
    },
    {
     "name": "stdout",
     "output_type": "stream",
     "text": [
      "Processing ADI...\n"
     ]
    },
    {
     "name": "stderr",
     "output_type": "stream",
     "text": [
      "\n",
      "[*********************100%***********************]  1 of 1 completed\n",
      "\n",
      "1 Failed download:\n",
      "['ANSS']: ConnectionError(ProtocolError('Connection aborted.', RemoteDisconnected('Remote end closed connection without response')))\n"
     ]
    },
    {
     "name": "stdout",
     "output_type": "stream",
     "text": [
      "Processing ANSS...\n",
      "Skipping ANSS: Not enough data\n",
      "Processing AON...\n"
     ]
    },
    {
     "name": "stderr",
     "output_type": "stream",
     "text": [
      "[*********************100%***********************]  1 of 1 completed\n",
      "[*********************100%***********************]  1 of 1 completed"
     ]
    },
    {
     "name": "stdout",
     "output_type": "stream",
     "text": [
      "Processing APA...\n"
     ]
    },
    {
     "name": "stderr",
     "output_type": "stream",
     "text": [
      "\n"
     ]
    },
    {
     "name": "stdout",
     "output_type": "stream",
     "text": [
      "Processing AAPL...\n"
     ]
    },
    {
     "name": "stderr",
     "output_type": "stream",
     "text": [
      "[*********************100%***********************]  1 of 1 completed\n",
      "[*********************100%***********************]  1 of 1 completed"
     ]
    },
    {
     "name": "stdout",
     "output_type": "stream",
     "text": [
      "Processing AMAT...\n"
     ]
    },
    {
     "name": "stderr",
     "output_type": "stream",
     "text": [
      "\n"
     ]
    },
    {
     "name": "stdout",
     "output_type": "stream",
     "text": [
      "Processing APTV...\n"
     ]
    },
    {
     "name": "stderr",
     "output_type": "stream",
     "text": [
      "[*********************100%***********************]  1 of 1 completed\n",
      "[*********************100%***********************]  1 of 1 completed"
     ]
    },
    {
     "name": "stdout",
     "output_type": "stream",
     "text": [
      "Processing ACGL...\n"
     ]
    },
    {
     "name": "stderr",
     "output_type": "stream",
     "text": [
      "\n"
     ]
    },
    {
     "name": "stdout",
     "output_type": "stream",
     "text": [
      "Processing ADM...\n"
     ]
    },
    {
     "name": "stderr",
     "output_type": "stream",
     "text": [
      "[*********************100%***********************]  1 of 1 completed\n",
      "[*********************100%***********************]  1 of 1 completed"
     ]
    },
    {
     "name": "stdout",
     "output_type": "stream",
     "text": [
      "Processing ANET...\n"
     ]
    },
    {
     "name": "stderr",
     "output_type": "stream",
     "text": [
      "\n"
     ]
    },
    {
     "name": "stdout",
     "output_type": "stream",
     "text": [
      "Processing AJG...\n"
     ]
    },
    {
     "name": "stderr",
     "output_type": "stream",
     "text": [
      "[*********************100%***********************]  1 of 1 completed\n",
      "[*********************100%***********************]  1 of 1 completed"
     ]
    },
    {
     "name": "stdout",
     "output_type": "stream",
     "text": [
      "Processing AIZ...\n"
     ]
    },
    {
     "name": "stderr",
     "output_type": "stream",
     "text": [
      "\n",
      "[*********************100%***********************]  1 of 1 completed\n",
      "\n",
      "1 Failed download:\n",
      "['T']: ConnectionError(ProtocolError('Connection aborted.', RemoteDisconnected('Remote end closed connection without response')))\n"
     ]
    },
    {
     "name": "stdout",
     "output_type": "stream",
     "text": [
      "Processing T...\n",
      "Skipping T: Not enough data\n",
      "Processing ATO...\n"
     ]
    },
    {
     "name": "stderr",
     "output_type": "stream",
     "text": [
      "[*********************100%***********************]  1 of 1 completed\n"
     ]
    },
    {
     "name": "stdout",
     "output_type": "stream",
     "text": [
      "Processing ADSK...\n"
     ]
    },
    {
     "name": "stderr",
     "output_type": "stream",
     "text": [
      "[*********************100%***********************]  1 of 1 completed\n"
     ]
    },
    {
     "name": "stdout",
     "output_type": "stream",
     "text": [
      "Processing ADP...\n"
     ]
    },
    {
     "name": "stderr",
     "output_type": "stream",
     "text": [
      "[*********************100%***********************]  1 of 1 completed\n",
      "[*********************100%***********************]  1 of 1 completed"
     ]
    },
    {
     "name": "stdout",
     "output_type": "stream",
     "text": [
      "Processing AZO...\n"
     ]
    },
    {
     "name": "stderr",
     "output_type": "stream",
     "text": [
      "\n"
     ]
    },
    {
     "name": "stdout",
     "output_type": "stream",
     "text": [
      "Processing AVB...\n"
     ]
    },
    {
     "name": "stderr",
     "output_type": "stream",
     "text": [
      "[*********************100%***********************]  1 of 1 completed\n",
      "[*********************100%***********************]  1 of 1 completed"
     ]
    },
    {
     "name": "stdout",
     "output_type": "stream",
     "text": [
      "Processing AVY...\n"
     ]
    },
    {
     "name": "stderr",
     "output_type": "stream",
     "text": [
      "\n",
      "[*********************100%***********************]  1 of 1 completed"
     ]
    },
    {
     "name": "stdout",
     "output_type": "stream",
     "text": [
      "Processing AXON...\n"
     ]
    },
    {
     "name": "stderr",
     "output_type": "stream",
     "text": [
      "\n",
      "[*********************100%***********************]  1 of 1 completed"
     ]
    },
    {
     "name": "stdout",
     "output_type": "stream",
     "text": [
      "Processing BKR...\n"
     ]
    },
    {
     "name": "stderr",
     "output_type": "stream",
     "text": [
      "\n",
      "[*********************100%***********************]  1 of 1 completed"
     ]
    },
    {
     "name": "stdout",
     "output_type": "stream",
     "text": [
      "Processing BALL...\n"
     ]
    },
    {
     "name": "stderr",
     "output_type": "stream",
     "text": [
      "\n",
      "[*********************100%***********************]  1 of 1 completed"
     ]
    },
    {
     "name": "stdout",
     "output_type": "stream",
     "text": [
      "Processing BAC...\n"
     ]
    },
    {
     "name": "stderr",
     "output_type": "stream",
     "text": [
      "\n"
     ]
    },
    {
     "name": "stdout",
     "output_type": "stream",
     "text": [
      "Processing BAX...\n"
     ]
    },
    {
     "name": "stderr",
     "output_type": "stream",
     "text": [
      "[*********************100%***********************]  1 of 1 completed\n"
     ]
    },
    {
     "name": "stdout",
     "output_type": "stream",
     "text": [
      "Processing BDX...\n"
     ]
    },
    {
     "name": "stderr",
     "output_type": "stream",
     "text": [
      "[*********************100%***********************]  1 of 1 completed\n"
     ]
    },
    {
     "name": "stdout",
     "output_type": "stream",
     "text": [
      "Processing BRK.B...\n"
     ]
    },
    {
     "name": "stderr",
     "output_type": "stream",
     "text": [
      "Failed to get ticker 'BRK.B' reason: HTTPSConnectionPool(host='query1.finance.yahoo.com', port=443): Read timed out. (read timeout=10)\n",
      "[*********************100%***********************]  1 of 1 completed\n",
      "\n",
      "1 Failed download:\n",
      "['BRK.B']: YFTzMissingError('$%ticker%: possibly delisted; no timezone found')\n"
     ]
    },
    {
     "name": "stdout",
     "output_type": "stream",
     "text": [
      "Skipping BRK.B: Not enough data\n",
      "Processing BBY...\n"
     ]
    },
    {
     "name": "stderr",
     "output_type": "stream",
     "text": [
      "[*********************100%***********************]  1 of 1 completed\n"
     ]
    },
    {
     "name": "stdout",
     "output_type": "stream",
     "text": [
      "Processing TECH...\n"
     ]
    },
    {
     "name": "stderr",
     "output_type": "stream",
     "text": [
      "[*********************100%***********************]  1 of 1 completed\n",
      "[*********************100%***********************]  1 of 1 completed"
     ]
    },
    {
     "name": "stdout",
     "output_type": "stream",
     "text": [
      "Processing BIIB...\n"
     ]
    },
    {
     "name": "stderr",
     "output_type": "stream",
     "text": [
      "\n",
      "[*********************100%***********************]  1 of 1 completed\n",
      "\n",
      "1 Failed download:\n",
      "['BLK']: ConnectionError(ProtocolError('Connection aborted.', RemoteDisconnected('Remote end closed connection without response')))\n"
     ]
    },
    {
     "name": "stdout",
     "output_type": "stream",
     "text": [
      "Processing BLK...\n",
      "Skipping BLK: Not enough data\n",
      "Processing BX...\n"
     ]
    },
    {
     "name": "stderr",
     "output_type": "stream",
     "text": [
      "[*********************100%***********************]  1 of 1 completed\n"
     ]
    },
    {
     "name": "stdout",
     "output_type": "stream",
     "text": [
      "Processing BK...\n"
     ]
    },
    {
     "name": "stderr",
     "output_type": "stream",
     "text": [
      "[*********************100%***********************]  1 of 1 completed\n",
      "[*********************100%***********************]  1 of 1 completed"
     ]
    },
    {
     "name": "stdout",
     "output_type": "stream",
     "text": [
      "Processing BA...\n"
     ]
    },
    {
     "name": "stderr",
     "output_type": "stream",
     "text": [
      "\n",
      "[*********************100%***********************]  1 of 1 completed"
     ]
    },
    {
     "name": "stdout",
     "output_type": "stream",
     "text": [
      "Processing BKNG...\n"
     ]
    },
    {
     "name": "stderr",
     "output_type": "stream",
     "text": [
      "\n",
      "[*********************100%***********************]  1 of 1 completed"
     ]
    },
    {
     "name": "stdout",
     "output_type": "stream",
     "text": [
      "Processing BWA...\n"
     ]
    },
    {
     "name": "stderr",
     "output_type": "stream",
     "text": [
      "\n",
      "[*********************100%***********************]  1 of 1 completed"
     ]
    },
    {
     "name": "stdout",
     "output_type": "stream",
     "text": [
      "Processing BSX...\n"
     ]
    },
    {
     "name": "stderr",
     "output_type": "stream",
     "text": [
      "\n"
     ]
    },
    {
     "name": "stdout",
     "output_type": "stream",
     "text": [
      "Processing BMY...\n"
     ]
    },
    {
     "name": "stderr",
     "output_type": "stream",
     "text": [
      "[*********************100%***********************]  1 of 1 completed\n",
      "[*********************100%***********************]  1 of 1 completed"
     ]
    },
    {
     "name": "stdout",
     "output_type": "stream",
     "text": [
      "Processing AVGO...\n"
     ]
    },
    {
     "name": "stderr",
     "output_type": "stream",
     "text": [
      "\n",
      "[*********************100%***********************]  1 of 1 completed"
     ]
    },
    {
     "name": "stdout",
     "output_type": "stream",
     "text": [
      "Processing BR...\n"
     ]
    },
    {
     "name": "stderr",
     "output_type": "stream",
     "text": [
      "\n"
     ]
    },
    {
     "name": "stdout",
     "output_type": "stream",
     "text": [
      "Processing BRO...\n"
     ]
    },
    {
     "name": "stderr",
     "output_type": "stream",
     "text": [
      "[*********************100%***********************]  1 of 1 completed\n",
      "[*********************100%***********************]  1 of 1 completed\n",
      "\n",
      "1 Failed download:\n",
      "['BF.B']: YFPricesMissingError('$%ticker%: possibly delisted; no price data found  (1d 2015-01-01 -> 2024-01-01)')\n",
      "[*********************100%***********************]  1 of 1 completed"
     ]
    },
    {
     "name": "stdout",
     "output_type": "stream",
     "text": [
      "Processing BF.B...\n",
      "Skipping BF.B: Not enough data\n",
      "Processing BLDR...\n"
     ]
    },
    {
     "name": "stderr",
     "output_type": "stream",
     "text": [
      "\n",
      "[*********************100%***********************]  1 of 1 completed"
     ]
    },
    {
     "name": "stdout",
     "output_type": "stream",
     "text": [
      "Processing BG...\n"
     ]
    },
    {
     "name": "stderr",
     "output_type": "stream",
     "text": [
      "\n",
      "[*********************100%***********************]  1 of 1 completed"
     ]
    },
    {
     "name": "stdout",
     "output_type": "stream",
     "text": [
      "Processing BXP...\n"
     ]
    },
    {
     "name": "stderr",
     "output_type": "stream",
     "text": [
      "\n"
     ]
    },
    {
     "name": "stdout",
     "output_type": "stream",
     "text": [
      "Processing CHRW...\n"
     ]
    },
    {
     "name": "stderr",
     "output_type": "stream",
     "text": [
      "[*********************100%***********************]  1 of 1 completed\n"
     ]
    },
    {
     "name": "stdout",
     "output_type": "stream",
     "text": [
      "Processing CDNS...\n"
     ]
    },
    {
     "name": "stderr",
     "output_type": "stream",
     "text": [
      "[*********************100%***********************]  1 of 1 completed\n"
     ]
    }
   ],
   "source": [
    "import yfinance as yf\n",
    "import pandas as pd\n",
    "import pickle\n",
    "from pmdarima import auto_arima\n",
    "import os\n",
    "\n",
    "# Fetch S&P 500 tickers and industries from Wikipedia\n",
    "def get_sp500_tickers_and_industries():\n",
    "    url = 'https://en.wikipedia.org/wiki/List_of_S%26P_500_companies'\n",
    "    tables = pd.read_html(url)\n",
    "    df = tables[0]  # The first table contains the S&P 500 data\n",
    "    df = df[['Symbol', 'GICS Sector', 'Security']]  # Select relevant columns\n",
    "    tickers_data = df.set_index('Symbol')[['GICS Sector', 'Security']].to_dict(orient='index')  # Create a dictionary of tickers, sectors, and company names\n",
    "    return tickers_data\n",
    "\n",
    "# Train ARIMA models for all stocks and store them in a dictionary\n",
    "def train_all_arima_models(tickers_data, save_path='combined_arima_models.pkl'):\n",
    "    all_models = {}  # Dictionary to hold all ARIMA models\n",
    "\n",
    "    # Loop through each ticker\n",
    "    for ticker, info in tickers_data.items():\n",
    "        try:\n",
    "            print(f\"Processing {ticker}...\")\n",
    "            \n",
    "            # Download historical stock data\n",
    "            stock_data = yf.download(ticker, start=\"2015-01-01\", end=\"2024-01-01\")\n",
    "\n",
    "            # Check if we have enough data to train the model\n",
    "            if len(stock_data) < 100:  # Arbitrary threshold for sufficient data\n",
    "                print(f\"Skipping {ticker}: Not enough data\")\n",
    "                continue\n",
    "\n",
    "            # Differencing to make the series stationary\n",
    "            stock_diff = stock_data['Close'].diff().dropna()\n",
    "\n",
    "            # Train an ARIMA model\n",
    "            arima_model = auto_arima(stock_diff, seasonal=False, trace=False, stepwise=True)\n",
    "\n",
    "            # Store the model in the dictionary\n",
    "            all_models[ticker] = arima_model\n",
    "            \n",
    "        except Exception as e:\n",
    "            print(f\"Error processing {ticker}: {e}\")\n",
    "\n",
    "    # Save the combined dictionary of models to a single file\n",
    "    with open(save_path, 'wb') as f:\n",
    "        pickle.dump(all_models, f)\n",
    "\n",
    "    print(f\"All models saved to {save_path}\")\n",
    "\n",
    "# Load the combined ARIMA model dictionary\n",
    "def load_combined_arima_models(save_path='combined_arima_models.pkl'):\n",
    "    with open(save_path, 'rb') as f:\n",
    "        all_models = pickle.load(f)\n",
    "    return all_models\n",
    "\n",
    "# Main Execution\n",
    "tickers_data = get_sp500_tickers_and_industries()\n",
    "\n",
    "# Train and save all ARIMA models\n",
    "train_all_arima_models(tickers_data)\n",
    "\n",
    "# To load the models later, use:\n",
    "# models = load_combined_arima_models()"
   ]
  }
 ],
 "metadata": {
  "kernelspec": {
   "display_name": "Python 3 (ipykernel)",
   "language": "python",
   "name": "python3"
  },
  "language_info": {
   "codemirror_mode": {
    "name": "ipython",
    "version": 3
   },
   "file_extension": ".py",
   "mimetype": "text/x-python",
   "name": "python",
   "nbconvert_exporter": "python",
   "pygments_lexer": "ipython3",
   "version": "3.12.4"
  }
 },
 "nbformat": 4,
 "nbformat_minor": 5
}
