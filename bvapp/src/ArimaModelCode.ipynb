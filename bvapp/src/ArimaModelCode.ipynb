{
 "cells": [
  {
   "cell_type": "code",
   "execution_count": 2,
   "id": "4d26c6a9-3ffa-4ce0-b0c9-472eae5d4e3f",
   "metadata": {},
   "outputs": [
    {
     "name": "stdout",
     "output_type": "stream",
     "text": [
      "Collecting pmdarimaNote: you may need to restart the kernel to use updated packages.\n",
      "\n",
      "  Using cached pmdarima-2.0.4-cp312-cp312-win_amd64.whl.metadata (8.0 kB)\n",
      "Requirement already satisfied: joblib>=0.11 in c:\\users\\jaosy\\anaconda3\\lib\\site-packages (from pmdarima) (1.4.2)\n",
      "Collecting Cython!=0.29.18,!=0.29.31,>=0.29 (from pmdarima)\n",
      "  Using cached Cython-3.0.11-cp312-cp312-win_amd64.whl.metadata (3.2 kB)\n",
      "Requirement already satisfied: numpy>=1.21.2 in c:\\users\\jaosy\\anaconda3\\lib\\site-packages (from pmdarima) (1.26.4)\n",
      "Requirement already satisfied: pandas>=0.19 in c:\\users\\jaosy\\anaconda3\\lib\\site-packages (from pmdarima) (2.2.2)\n",
      "Requirement already satisfied: scikit-learn>=0.22 in c:\\users\\jaosy\\anaconda3\\lib\\site-packages (from pmdarima) (1.4.2)\n",
      "Requirement already satisfied: scipy>=1.3.2 in c:\\users\\jaosy\\anaconda3\\lib\\site-packages (from pmdarima) (1.13.1)\n",
      "Requirement already satisfied: statsmodels>=0.13.2 in c:\\users\\jaosy\\anaconda3\\lib\\site-packages (from pmdarima) (0.14.2)\n",
      "Requirement already satisfied: urllib3 in c:\\users\\jaosy\\anaconda3\\lib\\site-packages (from pmdarima) (2.2.2)\n",
      "Requirement already satisfied: setuptools!=50.0.0,>=38.6.0 in c:\\users\\jaosy\\anaconda3\\lib\\site-packages (from pmdarima) (69.5.1)\n",
      "Requirement already satisfied: packaging>=17.1 in c:\\users\\jaosy\\appdata\\roaming\\python\\python312\\site-packages (from pmdarima) (24.1)\n",
      "Requirement already satisfied: python-dateutil>=2.8.2 in c:\\users\\jaosy\\appdata\\roaming\\python\\python312\\site-packages (from pandas>=0.19->pmdarima) (2.9.0.post0)\n",
      "Requirement already satisfied: pytz>=2020.1 in c:\\users\\jaosy\\anaconda3\\lib\\site-packages (from pandas>=0.19->pmdarima) (2024.1)\n",
      "Requirement already satisfied: tzdata>=2022.7 in c:\\users\\jaosy\\anaconda3\\lib\\site-packages (from pandas>=0.19->pmdarima) (2023.3)\n",
      "Requirement already satisfied: threadpoolctl>=2.0.0 in c:\\users\\jaosy\\anaconda3\\lib\\site-packages (from scikit-learn>=0.22->pmdarima) (2.2.0)\n",
      "Requirement already satisfied: patsy>=0.5.6 in c:\\users\\jaosy\\anaconda3\\lib\\site-packages (from statsmodels>=0.13.2->pmdarima) (0.5.6)\n",
      "Requirement already satisfied: six in c:\\users\\jaosy\\appdata\\roaming\\python\\python312\\site-packages (from patsy>=0.5.6->statsmodels>=0.13.2->pmdarima) (1.16.0)\n",
      "Using cached pmdarima-2.0.4-cp312-cp312-win_amd64.whl (625 kB)\n",
      "Using cached Cython-3.0.11-cp312-cp312-win_amd64.whl (2.8 MB)\n",
      "Installing collected packages: Cython, pmdarima\n",
      "Successfully installed Cython-3.0.11 pmdarima-2.0.4\n",
      "Select an industry:\n",
      "1: Information Technology\n",
      "2: Industrials\n",
      "3: Consumer Staples\n",
      "4: Health Care\n",
      "5: Materials\n",
      "6: Communication Services\n",
      "7: Consumer Discretionary\n",
      "8: Energy\n",
      "9: Utilities\n",
      "10: Real Estate\n",
      "11: Financials\n",
      "You selected the industry: Energy\n",
      "Select a company ticker from the following:\n",
      "1: APA - APA Corporation\n",
      "2: BKR - Baker Hughes\n",
      "3: CVX - Chevron Corporation\n",
      "4: COP - ConocoPhillips\n",
      "5: CTRA - Coterra\n",
      "6: DVN - Devon Energy\n",
      "7: FANG - Diamondback Energy\n",
      "8: EOG - EOG Resources\n",
      "9: EQT - EQT Corporation\n",
      "10: XOM - ExxonMobil\n",
      "11: HAL - Halliburton\n",
      "12: HES - Hess Corporation\n",
      "13: KMI - Kinder Morgan\n",
      "14: MRO - Marathon Oil\n",
      "15: MPC - Marathon Petroleum\n",
      "16: OXY - Occidental Petroleum\n",
      "17: OKE - ONEOK\n",
      "18: PSX - Phillips 66\n",
      "19: SLB - Schlumberger\n",
      "20: TRGP - Targa Resources\n",
      "21: VLO - Valero Energy\n",
      "22: WMB - Williams Companies\n",
      "\n",
      "Company Information for Baker Hughes (BKR):\n",
      "Full Address: 575 North Dairy Ashford Road, Suite 100 Houston, TX 77079-1121, United States\n",
      "Full-Time Employees: 57000\n",
      "Company Summary: Baker Hughes Company provides a portfolio of technologies and services to energy and industrial value chain worldwide. The company operates through Oilfield Services & Equipment (OFSE) and Industrial & Energy Technology (IET) segments. The OFSE segment designs and manufactures products and provides related services, including exploration, appraisal, development, production, rejuvenation, and decommissioning for onshore and offshore oilfield operations. This segment also provides drilling services, drill bits, and drilling and completions fluids; completions, intervention, measurements, pressure pumping, and wireline services; artificial lift systems, and oilfield and industrial chemicals; subsea projects and services, flexible pipe systems, and surface pressure control systems; and integrated well services and solutions. It serves oil and natural gas companies; the United States and international independent oil and natural gas companies; national or state-owned oil companies; engineering, procurement, and construction contractors; geothermal companies; and other oilfield service companies. The IET segment provides gas technology equipment, including drivers, driven equipment, flow control, and turnkey solutions for the mechanical-drive, compression, and power-generation applications; and energy sectors, such as oil and gas, LNG operations, petrochemical, and carbon solutions. This segment also provides rack-based vibration monitoring equipment and sensors; integrated asset performance management products; inspection services; pumps, valves, and gears; precision sensors and instrumentation, and condition monitoring solutions. It serves upstream, midstream, downstream, onshore, offshore, and small and large scale customers. The company was formerly known as Baker Hughes, a GE company and changed its name to Baker Hughes Company in October 2019. Baker Hughes Company was incorporated in 2016 and is based in Houston, Texas.\n",
      "\n",
      "Governance Risks:\n",
      "Audit Risk: 2\n",
      "Board Risk: 5\n",
      "Compensation Risk: 5\n",
      "Shareholder Rights Risk: 2\n",
      "Overall Risk: 2\n",
      "\n",
      "Fetching data for BKR...\n",
      "\n"
     ]
    },
    {
     "name": "stderr",
     "output_type": "stream",
     "text": [
      "[*********************100%***********************]  1 of 1 completed\n"
     ]
    },
    {
     "name": "stdout",
     "output_type": "stream",
     "text": [
      "ADF Statistic: -1.807886541367349\n",
      "p-value: 0.3765533341289072\n",
      "Performing stepwise search to minimize aic\n",
      " ARIMA(2,0,2)(0,0,0)[0]             : AIC=5951.672, Time=0.54 sec\n",
      " ARIMA(0,0,0)(0,0,0)[0]             : AIC=5950.020, Time=0.09 sec\n",
      " ARIMA(1,0,0)(0,0,0)[0]             : AIC=5949.034, Time=0.07 sec\n",
      " ARIMA(0,0,1)(0,0,0)[0]             : AIC=5948.844, Time=0.11 sec\n",
      " ARIMA(1,0,1)(0,0,0)[0]             : AIC=5947.760, Time=0.28 sec\n",
      " ARIMA(2,0,1)(0,0,0)[0]             : AIC=5949.553, Time=0.32 sec\n",
      " ARIMA(1,0,2)(0,0,0)[0]             : AIC=5949.558, Time=0.42 sec\n",
      " ARIMA(0,0,2)(0,0,0)[0]             : AIC=5948.763, Time=0.18 sec\n",
      " ARIMA(2,0,0)(0,0,0)[0]             : AIC=5949.016, Time=0.14 sec\n",
      " ARIMA(1,0,1)(0,0,0)[0] intercept   : AIC=5949.434, Time=1.17 sec\n",
      "\n",
      "Best model:  ARIMA(1,0,1)(0,0,0)[0]          \n",
      "Total fit time: 3.352 seconds\n"
     ]
    },
    {
     "name": "stderr",
     "output_type": "stream",
     "text": [
      "c:\\Users\\jaosy\\anaconda3\\Lib\\site-packages\\statsmodels\\tsa\\base\\tsa_model.py:836: ValueWarning: No supported index is available. Prediction results will be given with an integer index beginning at `start`.\n",
      "  return get_prediction_index(\n",
      "c:\\Users\\jaosy\\anaconda3\\Lib\\site-packages\\statsmodels\\tsa\\base\\tsa_model.py:836: FutureWarning: No supported index is available. In the next version, calling this method in a model without a supported index will result in an exception.\n",
      "  return get_prediction_index(\n"
     ]
    },
    {
     "data": {
      "image/png": "[encoded data removed]",
      "text/plain": [
       "<Figure size 1000x600 with 1 Axes>"
      ]
     },
     "metadata": {},
     "output_type": "display_data"
    }
   ],
   "source": [
    "%pip install pmdarima \n",
    "\n",
    "import yfinance as yf\n",
    "import pandas as pd\n",
    "import matplotlib.pyplot as plt\n",
    "import statsmodels.api as sm\n",
    "from pmdarima import auto_arima\n",
    "\n",
    "# Function to fetch S&P 500 tickers and industries from Wikipedia\n",
    "def get_sp500_tickers_and_industries():\n",
    "    url = 'https://en.wikipedia.org/wiki/List_of_S%26P_500_companies'\n",
    "    tables = pd.read_html(url)\n",
    "    df = tables[0]  # The first table contains the S&P 500 data\n",
    "    df = df[['Symbol', 'GICS Sector', 'Security']]  # Select relevant columns\n",
    "    tickers_data = df.set_index('Symbol')[['GICS Sector', 'Security']].to_dict(orient='index')  # Create a dictionary of tickers, sectors, and company names\n",
    "    return tickers_data\n",
    "\n",
    "# Function to fetch data for a list of tickers\n",
    "def get_data(tickers):\n",
    "    data = {}\n",
    "    for ticker in tickers:\n",
    "        try:\n",
    "            df = yf.download(ticker, start=\"2010-01-01\", end=\"2024-10-01\")\n",
    "            data[ticker] = df\n",
    "        except Exception as e:\n",
    "            print(f\"Could not retrieve data for {ticker}: {e}\")\n",
    "    return data\n",
    "\n",
    "# Function to select an industry and get its tickers\n",
    "def industry_selection(tickers_data):\n",
    "    print(\"Select an industry:\")\n",
    "    industry_options = set(data['GICS Sector'] for data in tickers_data.values())\n",
    "    for idx, industry in enumerate(industry_options):\n",
    "        print(f\"{idx + 1}: {industry}\")\n",
    "\n",
    "    industry_choice = int(input(\"Enter the number of the industry you want to select: \")) - 1\n",
    "    selected_industry = list(industry_options)[industry_choice]\n",
    "\n",
    "    print(f\"You selected the industry: {selected_industry}\")\n",
    "    \n",
    "    selected_tickers = [(ticker, data['Security']) for ticker, data in tickers_data.items() if data['GICS Sector'] == selected_industry]\n",
    "    return selected_tickers\n",
    "\n",
    "# Function to get company information using Yahoo Finance\n",
    "def get_company_info(ticker, company_name):\n",
    "    stock = yf.Ticker(ticker)\n",
    "    info = stock.info\n",
    "    address1 = info.get('address1', 'N/A')\n",
    "    address2 = info.get('address2', '')\n",
    "    city = info.get('city', '')\n",
    "    state = info.get('state', '')\n",
    "    zip_code = info.get('zip', '')\n",
    "    country = info.get('country', 'N/A')\n",
    "    full_address = f\"{address1}, {address2} {city}, {state} {zip_code}, {country}\".strip(\", \")\n",
    "    full_time_employees = info.get('fullTimeEmployees', 'N/A')\n",
    "    company_summary = info.get('longBusinessSummary', 'N/A')\n",
    "    audit_risk = info.get('auditRisk', 'N/A')\n",
    "    board_risk = info.get('boardRisk', 'N/A')\n",
    "    compensation_risk = info.get('compensationRisk', 'N/A')\n",
    "    shareholder_rights_risk = info.get('shareHolderRightsRisk', 'N/A')\n",
    "    overall_risk = info.get('overallRisk', 'N/A')\n",
    "\n",
    "    return full_address, full_time_employees, company_summary, {\n",
    "        'Audit Risk': audit_risk,\n",
    "        'Board Risk': board_risk,\n",
    "        'Compensation Risk': compensation_risk,\n",
    "        'Shareholder Rights Risk': shareholder_rights_risk,\n",
    "        'Overall Risk': overall_risk\n",
    "    }\n",
    "\n",
    "# Function to forecast stock prices using ARIMA\n",
    "def forecast_stock(ticker):\n",
    "    print(f\"\\nFetching data for {ticker}...\\n\")\n",
    "    stock_data = yf.download(ticker, start=\"2015-01-01\", end=\"2024-01-01\")\n",
    "\n",
    "    # Augmented Dickey-Fuller test to check if time series is statonary\n",
    "    result = sm.tsa.adfuller(stock_data['Close'])\n",
    "    print(f'ADF Statistic: {result[0]}')\n",
    "    print(f'p-value: {result[1]}')\n",
    "\n",
    "    stock_diff = stock_data['Close'].diff().dropna()\n",
    "    arima_model = auto_arima(stock_diff, seasonal=False, trace=True, stepwise=True)\n",
    "\n",
    "    # Forecast 30 business days\n",
    "    n_periods = 30\n",
    "    forecast, conf_int = arima_model.predict(n_periods=n_periods, return_conf_int=True)\n",
    "    forecast_dates = pd.date_range(stock_data.index[-1], periods=n_periods, freq='B')\n",
    "\n",
    "    plt.figure(figsize=(10, 6))\n",
    "    plt.plot(stock_data.index, stock_data['Close'], label=f'{ticker} Stock Price')\n",
    "    plt.plot(forecast_dates, forecast.cumsum() + stock_data['Close'].iloc[-1], label='Forecast', color='red')\n",
    "    plt.fill_between(forecast_dates, \n",
    "                     conf_int[:, 0].cumsum() + stock_data['Close'].iloc[-1], \n",
    "                     conf_int[:, 1].cumsum() + stock_data['Close'].iloc[-1], \n",
    "                     color='red', alpha=0.3)\n",
    "    plt.title(f'{ticker} Stock Price Forecast')\n",
    "    plt.legend()\n",
    "    plt.show()\n",
    "\n",
    "# Main Execution\n",
    "tickers_data = get_sp500_tickers_and_industries()\n",
    "selected_tickers = industry_selection(tickers_data)\n",
    "\n",
    "print(\"Select a company ticker from the following:\")\n",
    "for idx, (ticker, company_name) in enumerate(selected_tickers):\n",
    "    print(f\"{idx + 1}: {ticker} - {company_name}\")\n",
    "\n",
    "company_choice = int(input(\"Enter the number of the company you want to select: \")) - 1\n",
    "selected_ticker, selected_company_name = selected_tickers[company_choice]\n",
    "\n",
    "# Get and display company information\n",
    "full_address, full_time_employees, company_summary, governance_risks = get_company_info(selected_ticker, selected_company_name)\n",
    "\n",
    "print(f\"\\nCompany Information for {selected_company_name} ({selected_ticker}):\")\n",
    "print(f\"Full Address: {full_address}\")\n",
    "print(f\"Full-Time Employees: {full_time_employees}\")\n",
    "print(f\"Company Summary: {company_summary}\")\n",
    "print(\"\\nGovernance Risks:\")\n",
    "for key, value in governance_risks.items():\n",
    "    print(f\"{key}: {value}\")\n",
    "\n",
    "# Forecast the stock price of the selected company\n",
    "forecast_stock(selected_ticker)"
   ]
  },
  {
   "cell_type": "code",
   "execution_count": 3,
   "id": "e58e40f0-e800-48a7-b3bf-1fc645b38907",
   "metadata": {},
   "outputs": [
    {
     "name": "stdout",
     "output_type": "stream",
     "text": [
      "Processing MMM...\n"
     ]
    },
    {
     "name": "stderr",
     "output_type": "stream",
     "text": [
      "[*********************100%***********************]  1 of 1 completed\n"
     ]
    },
    {
     "name": "stdout",
     "output_type": "stream",
     "text": [
      "Processing AOS...\n"
     ]
    },
    {
     "name": "stderr",
     "output_type": "stream",
     "text": [
      "[*********************100%***********************]  1 of 1 completed\n"
     ]
    },
    {
     "name": "stdout",
     "output_type": "stream",
     "text": [
      "Processing ABT...\n"
     ]
    },
    {
     "name": "stderr",
     "output_type": "stream",
     "text": [
      "[*********************100%***********************]  1 of 1 completed\n"
     ]
    },
    {
     "name": "stdout",
     "output_type": "stream",
     "text": [
      "Processing ABBV...\n"
     ]
    },
    {
     "name": "stderr",
     "output_type": "stream",
     "text": [
      "[*********************100%***********************]  1 of 1 completed\n",
      "[*********************100%***********************]  1 of 1 completed"
     ]
    },
    {
     "name": "stdout",
     "output_type": "stream",
     "text": [
      "Processing ACN...\n"
     ]
    },
    {
     "name": "stderr",
     "output_type": "stream",
     "text": [
      "\n"
     ]
    },
    {
     "name": "stdout",
     "output_type": "stream",
     "text": [
      "Processing ADBE...\n"
     ]
    },
    {
     "name": "stderr",
     "output_type": "stream",
     "text": [
      "[*********************100%***********************]  1 of 1 completed\n",
      "[*********************100%***********************]  1 of 1 completed\n",
      "\n",
      "1 Failed download:\n",
      "['AMD']: ConnectionError(ProtocolError('Connection aborted.', RemoteDisconnected('Remote end closed connection without response')))\n"
     ]
    },
    {
     "name": "stdout",
     "output_type": "stream",
     "text": [
      "Processing AMD...\n",
      "Skipping AMD: Not enough data\n",
      "Processing AES...\n"
     ]
    },
    {
     "name": "stderr",
     "output_type": "stream",
     "text": [
      "[*********************100%***********************]  1 of 1 completed\n"
     ]
    },
    {
     "name": "stdout",
     "output_type": "stream",
     "text": [
      "Processing AFL...\n"
     ]
    },
    {
     "name": "stderr",
     "output_type": "stream",
     "text": [
      "[*********************100%***********************]  1 of 1 completed\n"
     ]
    },
    {
     "name": "stdout",
     "output_type": "stream",
     "text": [
      "Processing A...\n"
     ]
    },
    {
     "name": "stderr",
     "output_type": "stream",
     "text": [
      "[*********************100%***********************]  1 of 1 completed\n"
     ]
    },
    {
     "name": "stdout",
     "output_type": "stream",
     "text": [
      "Processing APD...\n"
     ]
    },
    {
     "name": "stderr",
     "output_type": "stream",
     "text": [
      "[*********************100%***********************]  1 of 1 completed\n",
      "[*********************100%***********************]  1 of 1 completed"
     ]
    },
    {
     "name": "stdout",
     "output_type": "stream",
     "text": [
      "Processing ABNB...\n"
     ]
    },
    {
     "name": "stderr",
     "output_type": "stream",
     "text": [
      "\n"
     ]
    },
    {
     "name": "stdout",
     "output_type": "stream",
     "text": [
      "Processing AKAM...\n"
     ]
    },
    {
     "name": "stderr",
     "output_type": "stream",
     "text": [
      "[*********************100%***********************]  1 of 1 completed\n",
      "[*********************100%***********************]  1 of 1 completed"
     ]
    },
    {
     "name": "stdout",
     "output_type": "stream",
     "text": [
      "Processing ALB...\n"
     ]
    },
    {
     "name": "stderr",
     "output_type": "stream",
     "text": [
      "\n",
      "[*********************100%***********************]  1 of 1 completed"
     ]
    },
    {
     "name": "stdout",
     "output_type": "stream",
     "text": [
      "Processing ARE...\n"
     ]
    },
    {
     "name": "stderr",
     "output_type": "stream",
     "text": [
      "\n",
      "[*********************100%***********************]  1 of 1 completed"
     ]
    },
    {
     "name": "stdout",
     "output_type": "stream",
     "text": [
      "Processing ALGN...\n"
     ]
    },
    {
     "name": "stderr",
     "output_type": "stream",
     "text": [
      "\n",
      "[*********************100%***********************]  1 of 1 completed"
     ]
    },
    {
     "name": "stdout",
     "output_type": "stream",
     "text": [
      "Processing ALLE...\n"
     ]
    },
    {
     "name": "stderr",
     "output_type": "stream",
     "text": [
      "\n",
      "[*********************100%***********************]  1 of 1 completed"
     ]
    },
    {
     "name": "stdout",
     "output_type": "stream",
     "text": [
      "Processing LNT...\n"
     ]
    },
    {
     "name": "stderr",
     "output_type": "stream",
     "text": [
      "\n",
      "[*********************100%***********************]  1 of 1 completed"
     ]
    },
    {
     "name": "stdout",
     "output_type": "stream",
     "text": [
      "Processing ALL...\n"
     ]
    },
    {
     "name": "stderr",
     "output_type": "stream",
     "text": [
      "\n",
      "[*********************100%***********************]  1 of 1 completed"
     ]
    },
    {
     "name": "stdout",
     "output_type": "stream",
     "text": [
      "Processing GOOGL...\n"
     ]
    },
    {
     "name": "stderr",
     "output_type": "stream",
     "text": [
      "\n",
      "[*********************100%***********************]  1 of 1 completed"
     ]
    },
    {
     "name": "stdout",
     "output_type": "stream",
     "text": [
      "Processing GOOG...\n"
     ]
    },
    {
     "name": "stderr",
     "output_type": "stream",
     "text": [
      "\n"
     ]
    },
    {
     "name": "stdout",
     "output_type": "stream",
     "text": [
      "Processing MO...\n"
     ]
    },
    {
     "name": "stderr",
     "output_type": "stream",
     "text": [
      "[*********************100%***********************]  1 of 1 completed\n",
      "[*********************100%***********************]  1 of 1 completed"
     ]
    },
    {
     "name": "stdout",
     "output_type": "stream",
     "text": [
      "Processing AMZN...\n"
     ]
    },
    {
     "name": "stderr",
     "output_type": "stream",
     "text": [
      "\n",
      "[*********************100%***********************]  1 of 1 completed"
     ]
    },
    {
     "name": "stdout",
     "output_type": "stream",
     "text": [
      "Processing AMCR...\n"
     ]
    },
    {
     "name": "stderr",
     "output_type": "stream",
     "text": [
      "\n",
      "[*********************100%***********************]  1 of 1 completed\n",
      "\n",
      "1 Failed download:\n",
      "['AMTM']: ConnectionError(ProtocolError('Connection aborted.', RemoteDisconnected('Remote end closed connection without response')))\n"
     ]
    },
    {
     "name": "stdout",
     "output_type": "stream",
     "text": [
      "Processing AMTM...\n",
      "Skipping AMTM: Not enough data\n",
      "Processing AEE...\n"
     ]
    },
    {
     "name": "stderr",
     "output_type": "stream",
     "text": [
      "[*********************100%***********************]  1 of 1 completed\n",
      "[*********************100%***********************]  1 of 1 completed"
     ]
    },
    {
     "name": "stdout",
     "output_type": "stream",
     "text": [
      "Processing AEP...\n"
     ]
    },
    {
     "name": "stderr",
     "output_type": "stream",
     "text": [
      "\n",
      "[*********************100%***********************]  1 of 1 completed"
     ]
    },
    {
     "name": "stdout",
     "output_type": "stream",
     "text": [
      "Processing AXP...\n"
     ]
    },
    {
     "name": "stderr",
     "output_type": "stream",
     "text": [
      "\n",
      "[*********************100%***********************]  1 of 1 completed"
     ]
    },
    {
     "name": "stdout",
     "output_type": "stream",
     "text": [
      "Processing AIG...\n"
     ]
    },
    {
     "name": "stderr",
     "output_type": "stream",
     "text": [
      "\n"
     ]
    },
    {
     "name": "stdout",
     "output_type": "stream",
     "text": [
      "Processing AMT...\n"
     ]
    },
    {
     "name": "stderr",
     "output_type": "stream",
     "text": [
      "[*********************100%***********************]  1 of 1 completed\n"
     ]
    },
    {
     "name": "stdout",
     "output_type": "stream",
     "text": [
      "Processing AWK...\n"
     ]
    },
    {
     "name": "stderr",
     "output_type": "stream",
     "text": [
      "[*********************100%***********************]  1 of 1 completed\n"
     ]
    },
    {
     "name": "stdout",
     "output_type": "stream",
     "text": [
      "Processing AMP...\n"
     ]
    },
    {
     "name": "stderr",
     "output_type": "stream",
     "text": [
      "[*********************100%***********************]  1 of 1 completed\n"
     ]
    },
    {
     "name": "stdout",
     "output_type": "stream",
     "text": [
      "Processing AME...\n"
     ]
    },
    {
     "name": "stderr",
     "output_type": "stream",
     "text": [
      "[*********************100%***********************]  1 of 1 completed\n",
      "[*********************100%***********************]  1 of 1 completed"
     ]
    },
    {
     "name": "stdout",
     "output_type": "stream",
     "text": [
      "Processing AMGN...\n"
     ]
    },
    {
     "name": "stderr",
     "output_type": "stream",
     "text": [
      "\n",
      "[*********************100%***********************]  1 of 1 completed"
     ]
    },
    {
     "name": "stdout",
     "output_type": "stream",
     "text": [
      "Processing APH...\n"
     ]
    },
    {
     "name": "stderr",
     "output_type": "stream",
     "text": [
      "\n",
      "[*********************100%***********************]  1 of 1 completed"
     ]
    },
    {
     "name": "stdout",
     "output_type": "stream",
     "text": [
      "Processing ADI...\n"
     ]
    },
    {
     "name": "stderr",
     "output_type": "stream",
     "text": [
      "\n",
      "[*********************100%***********************]  1 of 1 completed\n",
      "\n",
      "1 Failed download:\n",
      "['ANSS']: ConnectionError(ProtocolError('Connection aborted.', RemoteDisconnected('Remote end closed connection without response')))\n"
     ]
    },
    {
     "name": "stdout",
     "output_type": "stream",
     "text": [
      "Processing ANSS...\n",
      "Skipping ANSS: Not enough data\n",
      "Processing AON...\n"
     ]
    },
    {
     "name": "stderr",
     "output_type": "stream",
     "text": [
      "[*********************100%***********************]  1 of 1 completed\n",
      "[*********************100%***********************]  1 of 1 completed"
     ]
    },
    {
     "name": "stdout",
     "output_type": "stream",
     "text": [
      "Processing APA...\n"
     ]
    },
    {
     "name": "stderr",
     "output_type": "stream",
     "text": [
      "\n"
     ]
    },
    {
     "name": "stdout",
     "output_type": "stream",
     "text": [
      "Processing AAPL...\n"
     ]
    },
    {
     "name": "stderr",
     "output_type": "stream",
     "text": [
      "[*********************100%***********************]  1 of 1 completed\n",
      "[*********************100%***********************]  1 of 1 completed"
     ]
    },
    {
     "name": "stdout",
     "output_type": "stream",
     "text": [
      "Processing AMAT...\n"
     ]
    },
    {
     "name": "stderr",
     "output_type": "stream",
     "text": [
      "\n"
     ]
    },
    {
     "name": "stdout",
     "output_type": "stream",
     "text": [
      "Processing APTV...\n"
     ]
    },
    {
     "name": "stderr",
     "output_type": "stream",
     "text": [
      "[*********************100%***********************]  1 of 1 completed\n",
      "[*********************100%***********************]  1 of 1 completed"
     ]
    },
    {
     "name": "stdout",
     "output_type": "stream",
     "text": [
      "Processing ACGL...\n"
     ]
    },
    {
     "name": "stderr",
     "output_type": "stream",
     "text": [
      "\n"
     ]
    },
    {
     "name": "stdout",
     "output_type": "stream",
     "text": [
      "Processing ADM...\n"
     ]
    },
    {
     "name": "stderr",
     "output_type": "stream",
     "text": [
      "[*********************100%***********************]  1 of 1 completed\n",
      "[*********************100%***********************]  1 of 1 completed"
     ]
    },
    {
     "name": "stdout",
     "output_type": "stream",
     "text": [
      "Processing ANET...\n"
     ]
    },
    {
     "name": "stderr",
     "output_type": "stream",
     "text": [
      "\n"
     ]
    },
    {
     "name": "stdout",
     "output_type": "stream",
     "text": [
      "Processing AJG...\n"
     ]
    },
    {
     "name": "stderr",
     "output_type": "stream",
     "text": [
      "[*********************100%***********************]  1 of 1 completed\n",
      "[*********************100%***********************]  1 of 1 completed"
     ]
    },
    {
     "name": "stdout",
     "output_type": "stream",
     "text": [
      "Processing AIZ...\n"
     ]
    },
    {
     "name": "stderr",
     "output_type": "stream",
     "text": [
      "\n",
      "[*********************100%***********************]  1 of 1 completed\n",
      "\n",
      "1 Failed download:\n",
      "['T']: ConnectionError(ProtocolError('Connection aborted.', RemoteDisconnected('Remote end closed connection without response')))\n"
     ]
    },
    {
     "name": "stdout",
     "output_type": "stream",
     "text": [
      "Processing T...\n",
      "Skipping T: Not enough data\n",
      "Processing ATO...\n"
     ]
    },
    {
     "name": "stderr",
     "output_type": "stream",
     "text": [
      "[*********************100%***********************]  1 of 1 completed\n"
     ]
    },
    {
     "name": "stdout",
     "output_type": "stream",
     "text": [
      "Processing ADSK...\n"
     ]
    },
    {
     "name": "stderr",
     "output_type": "stream",
     "text": [
      "[*********************100%***********************]  1 of 1 completed\n"
     ]
    },
    {
     "name": "stdout",
     "output_type": "stream",
     "text": [
      "Processing ADP...\n"
     ]
    },
    {
     "name": "stderr",
     "output_type": "stream",
     "text": [
      "[*********************100%***********************]  1 of 1 completed\n",
      "[*********************100%***********************]  1 of 1 completed"
     ]
    },
    {
     "name": "stdout",
     "output_type": "stream",
     "text": [
      "Processing AZO...\n"
     ]
    },
    {
     "name": "stderr",
     "output_type": "stream",
     "text": [
      "\n"
     ]
    },
    {
     "name": "stdout",
     "output_type": "stream",
     "text": [
      "Processing AVB...\n"
     ]
    },
    {
     "name": "stderr",
     "output_type": "stream",
     "text": [
      "[*********************100%***********************]  1 of 1 completed\n",
      "[*********************100%***********************]  1 of 1 completed"
     ]
    },
    {
     "name": "stdout",
     "output_type": "stream",
     "text": [
      "Processing AVY...\n"
     ]
    },
    {
     "name": "stderr",
     "output_type": "stream",
     "text": [
      "\n",
      "[*********************100%***********************]  1 of 1 completed"
     ]
    },
    {
     "name": "stdout",
     "output_type": "stream",
     "text": [
      "Processing AXON...\n"
     ]
    },
    {
     "name": "stderr",
     "output_type": "stream",
     "text": [
      "\n",
      "[*********************100%***********************]  1 of 1 completed"
     ]
    },
    {
     "name": "stdout",
     "output_type": "stream",
     "text": [
      "Processing BKR...\n"
     ]
    },
    {
     "name": "stderr",
     "output_type": "stream",
     "text": [
      "\n",
      "[*********************100%***********************]  1 of 1 completed"
     ]
    },
    {
     "name": "stdout",
     "output_type": "stream",
     "text": [
      "Processing BALL...\n"
     ]
    },
    {
     "name": "stderr",
     "output_type": "stream",
     "text": [
      "\n",
      "[*********************100%***********************]  1 of 1 completed"
     ]
    },
    {
     "name": "stdout",
     "output_type": "stream",
     "text": [
      "Processing BAC...\n"
     ]
    },
    {
     "name": "stderr",
     "output_type": "stream",
     "text": [
      "\n"
     ]
    },
    {
     "name": "stdout",
     "output_type": "stream",
     "text": [
      "Processing BAX...\n"
     ]
    },
    {
     "name": "stderr",
     "output_type": "stream",
     "text": [
      "[*********************100%***********************]  1 of 1 completed\n"
     ]
    },
    {
     "name": "stdout",
     "output_type": "stream",
     "text": [
      "Processing BDX...\n"
     ]
    },
    {
     "name": "stderr",
     "output_type": "stream",
     "text": [
      "[*********************100%***********************]  1 of 1 completed\n"
     ]
    },
    {
     "name": "stdout",
     "output_type": "stream",
     "text": [
      "Processing BRK.B...\n"
     ]
    },
    {
     "name": "stderr",
     "output_type": "stream",
     "text": [
      "Failed to get ticker 'BRK.B' reason: HTTPSConnectionPool(host='query1.finance.yahoo.com', port=443): Read timed out. (read timeout=10)\n",
      "[*********************100%***********************]  1 of 1 completed\n",
      "\n",
      "1 Failed download:\n",
      "['BRK.B']: YFTzMissingError('$%ticker%: possibly delisted; no timezone found')\n"
     ]
    },
    {
     "name": "stdout",
     "output_type": "stream",
     "text": [
      "Skipping BRK.B: Not enough data\n",
      "Processing BBY...\n"
     ]
    },
    {
     "name": "stderr",
     "output_type": "stream",
     "text": [
      "[*********************100%***********************]  1 of 1 completed\n"
     ]
    },
    {
     "name": "stdout",
     "output_type": "stream",
     "text": [
      "Processing TECH...\n"
     ]
    },
    {
     "name": "stderr",
     "output_type": "stream",
     "text": [
      "[*********************100%***********************]  1 of 1 completed\n",
      "[*********************100%***********************]  1 of 1 completed"
     ]
    },
    {
     "name": "stdout",
     "output_type": "stream",
     "text": [
      "Processing BIIB...\n"
     ]
    },
    {
     "name": "stderr",
     "output_type": "stream",
     "text": [
      "\n",
      "[*********************100%***********************]  1 of 1 completed\n",
      "\n",
      "1 Failed download:\n",
      "['BLK']: ConnectionError(ProtocolError('Connection aborted.', RemoteDisconnected('Remote end closed connection without response')))\n"
     ]
    },
    {
     "name": "stdout",
     "output_type": "stream",
     "text": [
      "Processing BLK...\n",
      "Skipping BLK: Not enough data\n",
      "Processing BX...\n"
     ]
    },
    {
     "name": "stderr",
     "output_type": "stream",
     "text": [
      "[*********************100%***********************]  1 of 1 completed\n"
     ]
    },
    {
     "name": "stdout",
     "output_type": "stream",
     "text": [
      "Processing BK...\n"
     ]
    },
    {
     "name": "stderr",
     "output_type": "stream",
     "text": [
      "[*********************100%***********************]  1 of 1 completed\n",
      "[*********************100%***********************]  1 of 1 completed"
     ]
    },
    {
     "name": "stdout",
     "output_type": "stream",
     "text": [
      "Processing BA...\n"
     ]
    },
    {
     "name": "stderr",
     "output_type": "stream",
     "text": [
      "\n",
      "[*********************100%***********************]  1 of 1 completed"
     ]
    },
    {
     "name": "stdout",
     "output_type": "stream",
     "text": [
      "Processing BKNG...\n"
     ]
    },
    {
     "name": "stderr",
     "output_type": "stream",
     "text": [
      "\n",
      "[*********************100%***********************]  1 of 1 completed"
     ]
    },
    {
     "name": "stdout",
     "output_type": "stream",
     "text": [
      "Processing BWA...\n"
     ]
    },
    {
     "name": "stderr",
     "output_type": "stream",
     "text": [
      "\n",
      "[*********************100%***********************]  1 of 1 completed"
     ]
    },
    {
     "name": "stdout",
     "output_type": "stream",
     "text": [
      "Processing BSX...\n"
     ]
    },
    {
     "name": "stderr",
     "output_type": "stream",
     "text": [
      "\n"
     ]
    },
    {
     "name": "stdout",
     "output_type": "stream",
     "text": [
      "Processing BMY...\n"
     ]
    },
    {
     "name": "stderr",
     "output_type": "stream",
     "text": [
      "[*********************100%***********************]  1 of 1 completed\n",
      "[*********************100%***********************]  1 of 1 completed"
     ]
    },
    {
     "name": "stdout",
     "output_type": "stream",
     "text": [
      "Processing AVGO...\n"
     ]
    },
    {
     "name": "stderr",
     "output_type": "stream",
     "text": [
      "\n",
      "[*********************100%***********************]  1 of 1 completed"
     ]
    },
    {
     "name": "stdout",
     "output_type": "stream",
     "text": [
      "Processing BR...\n"
     ]
    },
    {
     "name": "stderr",
     "output_type": "stream",
     "text": [
      "\n"
     ]
    },
    {
     "name": "stdout",
     "output_type": "stream",
     "text": [
      "Processing BRO...\n"
     ]
    },
    {
     "name": "stderr",
     "output_type": "stream",
     "text": [
      "[*********************100%***********************]  1 of 1 completed\n",
      "[*********************100%***********************]  1 of 1 completed\n",
      "\n",
      "1 Failed download:\n",
      "['BF.B']: YFPricesMissingError('$%ticker%: possibly delisted; no price data found  (1d 2015-01-01 -> 2024-01-01)')\n",
      "[*********************100%***********************]  1 of 1 completed"
     ]
    },
    {
     "name": "stdout",
     "output_type": "stream",
     "text": [
      "Processing BF.B...\n",
      "Skipping BF.B: Not enough data\n",
      "Processing BLDR...\n"
     ]
    },
    {
     "name": "stderr",
     "output_type": "stream",
     "text": [
      "\n",
      "[*********************100%***********************]  1 of 1 completed"
     ]
    },
    {
     "name": "stdout",
     "output_type": "stream",
     "text": [
      "Processing BG...\n"
     ]
    },
    {
     "name": "stderr",
     "output_type": "stream",
     "text": [
      "\n",
      "[*********************100%***********************]  1 of 1 completed"
     ]
    },
    {
     "name": "stdout",
     "output_type": "stream",
     "text": [
      "Processing BXP...\n"
     ]
    },
    {
     "name": "stderr",
     "output_type": "stream",
     "text": [
      "\n"
     ]
    },
    {
     "name": "stdout",
     "output_type": "stream",
     "text": [
      "Processing CHRW...\n"
     ]
    },
    {
     "name": "stderr",
     "output_type": "stream",
     "text": [
      "[*********************100%***********************]  1 of 1 completed\n"
     ]
    },
    {
     "name": "stdout",
     "output_type": "stream",
     "text": [
      "Processing CDNS...\n"
     ]
    },
    {
     "name": "stderr",
     "output_type": "stream",
     "text": [
      "[*********************100%***********************]  1 of 1 completed\n",
      "[*********************100%***********************]  1 of 1 completed"
     ]
    },
    {
     "name": "stdout",
     "output_type": "stream",
     "text": [
      "Processing CZR...\n"
     ]
    },
    {
     "name": "stderr",
     "output_type": "stream",
     "text": [
      "\n"
     ]
    },
    {
     "name": "stdout",
     "output_type": "stream",
     "text": [
      "Processing CPT...\n"
     ]
    },
    {
     "name": "stderr",
     "output_type": "stream",
     "text": [
      "[*********************100%***********************]  1 of 1 completed\n",
      "[*********************100%***********************]  1 of 1 completed"
     ]
    },
    {
     "name": "stdout",
     "output_type": "stream",
     "text": [
      "Processing CPB...\n"
     ]
    },
    {
     "name": "stderr",
     "output_type": "stream",
     "text": [
      "\n",
      "[*********************100%***********************]  1 of 1 completed"
     ]
    },
    {
     "name": "stdout",
     "output_type": "stream",
     "text": [
      "Processing COF...\n"
     ]
    },
    {
     "name": "stderr",
     "output_type": "stream",
     "text": [
      "\n"
     ]
    },
    {
     "name": "stdout",
     "output_type": "stream",
     "text": [
      "Processing CAH...\n"
     ]
    },
    {
     "name": "stderr",
     "output_type": "stream",
     "text": [
      "[*********************100%***********************]  1 of 1 completed\n",
      "[*********************100%***********************]  1 of 1 completed"
     ]
    },
    {
     "name": "stdout",
     "output_type": "stream",
     "text": [
      "Processing KMX...\n"
     ]
    },
    {
     "name": "stderr",
     "output_type": "stream",
     "text": [
      "\n"
     ]
    },
    {
     "name": "stdout",
     "output_type": "stream",
     "text": [
      "Processing CCL...\n"
     ]
    },
    {
     "name": "stderr",
     "output_type": "stream",
     "text": [
      "[*********************100%***********************]  1 of 1 completed\n",
      "[*********************100%***********************]  1 of 1 completed"
     ]
    },
    {
     "name": "stdout",
     "output_type": "stream",
     "text": [
      "Processing CARR...\n"
     ]
    },
    {
     "name": "stderr",
     "output_type": "stream",
     "text": [
      "\n",
      "[*********************100%***********************]  1 of 1 completed"
     ]
    },
    {
     "name": "stdout",
     "output_type": "stream",
     "text": [
      "Processing CTLT...\n"
     ]
    },
    {
     "name": "stderr",
     "output_type": "stream",
     "text": [
      "\n"
     ]
    },
    {
     "name": "stdout",
     "output_type": "stream",
     "text": [
      "Processing CAT...\n"
     ]
    },
    {
     "name": "stderr",
     "output_type": "stream",
     "text": [
      "[*********************100%***********************]  1 of 1 completed\n",
      "[*********************100%***********************]  1 of 1 completed"
     ]
    },
    {
     "name": "stdout",
     "output_type": "stream",
     "text": [
      "Processing CBOE...\n"
     ]
    },
    {
     "name": "stderr",
     "output_type": "stream",
     "text": [
      "\n"
     ]
    },
    {
     "name": "stdout",
     "output_type": "stream",
     "text": [
      "Processing CBRE...\n"
     ]
    },
    {
     "name": "stderr",
     "output_type": "stream",
     "text": [
      "[*********************100%***********************]  1 of 1 completed\n",
      "[*********************100%***********************]  1 of 1 completed"
     ]
    },
    {
     "name": "stdout",
     "output_type": "stream",
     "text": [
      "Processing CDW...\n"
     ]
    },
    {
     "name": "stderr",
     "output_type": "stream",
     "text": [
      "\n"
     ]
    },
    {
     "name": "stdout",
     "output_type": "stream",
     "text": [
      "Processing CE...\n"
     ]
    },
    {
     "name": "stderr",
     "output_type": "stream",
     "text": [
      "[*********************100%***********************]  1 of 1 completed\n",
      "[*********************100%***********************]  1 of 1 completed"
     ]
    },
    {
     "name": "stdout",
     "output_type": "stream",
     "text": [
      "Processing COR...\n"
     ]
    },
    {
     "name": "stderr",
     "output_type": "stream",
     "text": [
      "\n",
      "[*********************100%***********************]  1 of 1 completed"
     ]
    },
    {
     "name": "stdout",
     "output_type": "stream",
     "text": [
      "Processing CNC...\n"
     ]
    },
    {
     "name": "stderr",
     "output_type": "stream",
     "text": [
      "\n"
     ]
    },
    {
     "name": "stdout",
     "output_type": "stream",
     "text": [
      "Processing CNP...\n"
     ]
    },
    {
     "name": "stderr",
     "output_type": "stream",
     "text": [
      "[*********************100%***********************]  1 of 1 completed\n"
     ]
    },
    {
     "name": "stdout",
     "output_type": "stream",
     "text": [
      "Processing CF...\n"
     ]
    },
    {
     "name": "stderr",
     "output_type": "stream",
     "text": [
      "[*********************100%***********************]  1 of 1 completed\n",
      "[*********************100%***********************]  1 of 1 completed"
     ]
    },
    {
     "name": "stdout",
     "output_type": "stream",
     "text": [
      "Processing CRL...\n"
     ]
    },
    {
     "name": "stderr",
     "output_type": "stream",
     "text": [
      "\n"
     ]
    },
    {
     "name": "stdout",
     "output_type": "stream",
     "text": [
      "Processing SCHW...\n"
     ]
    },
    {
     "name": "stderr",
     "output_type": "stream",
     "text": [
      "[*********************100%***********************]  1 of 1 completed\n",
      "[*********************100%***********************]  1 of 1 completed"
     ]
    },
    {
     "name": "stdout",
     "output_type": "stream",
     "text": [
      "Processing CHTR...\n"
     ]
    },
    {
     "name": "stderr",
     "output_type": "stream",
     "text": [
      "\n",
      "[*********************100%***********************]  1 of 1 completed\n",
      "\n",
      "1 Failed download:\n",
      "['CVX']: ConnectionError(ProtocolError('Connection aborted.', RemoteDisconnected('Remote end closed connection without response')))\n",
      "[*********************100%***********************]  1 of 1 completed"
     ]
    },
    {
     "name": "stdout",
     "output_type": "stream",
     "text": [
      "Processing CVX...\n",
      "Skipping CVX: Not enough data\n",
      "Processing CMG...\n"
     ]
    },
    {
     "name": "stderr",
     "output_type": "stream",
     "text": [
      "\n",
      "[*********************100%***********************]  1 of 1 completed"
     ]
    },
    {
     "name": "stdout",
     "output_type": "stream",
     "text": [
      "Processing CB...\n"
     ]
    },
    {
     "name": "stderr",
     "output_type": "stream",
     "text": [
      "\n"
     ]
    },
    {
     "name": "stdout",
     "output_type": "stream",
     "text": [
      "Processing CHD...\n"
     ]
    },
    {
     "name": "stderr",
     "output_type": "stream",
     "text": [
      "[*********************100%***********************]  1 of 1 completed\n",
      "[*********************100%***********************]  1 of 1 completed"
     ]
    },
    {
     "name": "stdout",
     "output_type": "stream",
     "text": [
      "Processing CI...\n"
     ]
    },
    {
     "name": "stderr",
     "output_type": "stream",
     "text": [
      "\n",
      "[*********************100%***********************]  1 of 1 completed"
     ]
    },
    {
     "name": "stdout",
     "output_type": "stream",
     "text": [
      "Processing CINF...\n"
     ]
    },
    {
     "name": "stderr",
     "output_type": "stream",
     "text": [
      "\n",
      "[*********************100%***********************]  1 of 1 completed"
     ]
    },
    {
     "name": "stdout",
     "output_type": "stream",
     "text": [
      "Processing CTAS...\n"
     ]
    },
    {
     "name": "stderr",
     "output_type": "stream",
     "text": [
      "\n"
     ]
    },
    {
     "name": "stdout",
     "output_type": "stream",
     "text": [
      "Processing CSCO...\n"
     ]
    },
    {
     "name": "stderr",
     "output_type": "stream",
     "text": [
      "[*********************100%***********************]  1 of 1 completed\n"
     ]
    },
    {
     "name": "stdout",
     "output_type": "stream",
     "text": [
      "Processing C...\n"
     ]
    },
    {
     "name": "stderr",
     "output_type": "stream",
     "text": [
      "[*********************100%***********************]  1 of 1 completed\n",
      "[*********************100%***********************]  1 of 1 completed"
     ]
    },
    {
     "name": "stdout",
     "output_type": "stream",
     "text": [
      "Processing CFG...\n"
     ]
    },
    {
     "name": "stderr",
     "output_type": "stream",
     "text": [
      "\n",
      "[*********************100%***********************]  1 of 1 completed"
     ]
    },
    {
     "name": "stdout",
     "output_type": "stream",
     "text": [
      "Processing CLX...\n"
     ]
    },
    {
     "name": "stderr",
     "output_type": "stream",
     "text": [
      "\n",
      "[*********************100%***********************]  1 of 1 completed\n",
      "\n",
      "1 Failed download:\n",
      "['CME']: ConnectionError(ProtocolError('Connection aborted.', RemoteDisconnected('Remote end closed connection without response')))\n"
     ]
    },
    {
     "name": "stdout",
     "output_type": "stream",
     "text": [
      "Processing CME...\n",
      "Skipping CME: Not enough data\n",
      "Processing CMS...\n"
     ]
    },
    {
     "name": "stderr",
     "output_type": "stream",
     "text": [
      "[*********************100%***********************]  1 of 1 completed\n"
     ]
    },
    {
     "name": "stdout",
     "output_type": "stream",
     "text": [
      "Processing KO...\n"
     ]
    },
    {
     "name": "stderr",
     "output_type": "stream",
     "text": [
      "[*********************100%***********************]  1 of 1 completed\n",
      "[*********************100%***********************]  1 of 1 completed"
     ]
    },
    {
     "name": "stdout",
     "output_type": "stream",
     "text": [
      "Processing CTSH...\n"
     ]
    },
    {
     "name": "stderr",
     "output_type": "stream",
     "text": [
      "\n"
     ]
    },
    {
     "name": "stdout",
     "output_type": "stream",
     "text": [
      "Processing CL...\n"
     ]
    },
    {
     "name": "stderr",
     "output_type": "stream",
     "text": [
      "[*********************100%***********************]  1 of 1 completed\n"
     ]
    },
    {
     "name": "stdout",
     "output_type": "stream",
     "text": [
      "Processing CMCSA...\n"
     ]
    },
    {
     "name": "stderr",
     "output_type": "stream",
     "text": [
      "[*********************100%***********************]  1 of 1 completed\n"
     ]
    },
    {
     "name": "stdout",
     "output_type": "stream",
     "text": [
      "Processing CAG...\n"
     ]
    },
    {
     "name": "stderr",
     "output_type": "stream",
     "text": [
      "[*********************100%***********************]  1 of 1 completed\n",
      "[*********************100%***********************]  1 of 1 completed"
     ]
    },
    {
     "name": "stdout",
     "output_type": "stream",
     "text": [
      "Processing COP...\n"
     ]
    },
    {
     "name": "stderr",
     "output_type": "stream",
     "text": [
      "\n"
     ]
    },
    {
     "name": "stdout",
     "output_type": "stream",
     "text": [
      "Processing ED...\n"
     ]
    },
    {
     "name": "stderr",
     "output_type": "stream",
     "text": [
      "[*********************100%***********************]  1 of 1 completed\n",
      "[*********************100%***********************]  1 of 1 completed\n",
      "\n",
      "1 Failed download:\n",
      "['STZ']: ConnectionError(ProtocolError('Connection aborted.', RemoteDisconnected('Remote end closed connection without response')))\n",
      "[*********************100%***********************]  1 of 1 completed"
     ]
    },
    {
     "name": "stdout",
     "output_type": "stream",
     "text": [
      "Processing STZ...\n",
      "Skipping STZ: Not enough data\n",
      "Processing CEG...\n"
     ]
    },
    {
     "name": "stderr",
     "output_type": "stream",
     "text": [
      "\n",
      "[*********************100%***********************]  1 of 1 completed"
     ]
    },
    {
     "name": "stdout",
     "output_type": "stream",
     "text": [
      "Processing COO...\n"
     ]
    },
    {
     "name": "stderr",
     "output_type": "stream",
     "text": [
      "\n"
     ]
    },
    {
     "name": "stdout",
     "output_type": "stream",
     "text": [
      "Processing CPRT...\n"
     ]
    },
    {
     "name": "stderr",
     "output_type": "stream",
     "text": [
      "[*********************100%***********************]  1 of 1 completed\n",
      "[*********************100%***********************]  1 of 1 completed"
     ]
    },
    {
     "name": "stdout",
     "output_type": "stream",
     "text": [
      "Processing GLW...\n"
     ]
    },
    {
     "name": "stderr",
     "output_type": "stream",
     "text": [
      "\n",
      "[*********************100%***********************]  1 of 1 completed"
     ]
    },
    {
     "name": "stdout",
     "output_type": "stream",
     "text": [
      "Processing CPAY...\n"
     ]
    },
    {
     "name": "stderr",
     "output_type": "stream",
     "text": [
      "\n",
      "[*********************100%***********************]  1 of 1 completed"
     ]
    },
    {
     "name": "stdout",
     "output_type": "stream",
     "text": [
      "Processing CTVA...\n"
     ]
    },
    {
     "name": "stderr",
     "output_type": "stream",
     "text": [
      "\n",
      "[*********************100%***********************]  1 of 1 completed"
     ]
    },
    {
     "name": "stdout",
     "output_type": "stream",
     "text": [
      "Processing CSGP...\n"
     ]
    },
    {
     "name": "stderr",
     "output_type": "stream",
     "text": [
      "\n",
      "[*********************100%***********************]  1 of 1 completed"
     ]
    },
    {
     "name": "stdout",
     "output_type": "stream",
     "text": [
      "Processing COST...\n"
     ]
    },
    {
     "name": "stderr",
     "output_type": "stream",
     "text": [
      "\n",
      "[*********************100%***********************]  1 of 1 completed"
     ]
    },
    {
     "name": "stdout",
     "output_type": "stream",
     "text": [
      "Processing CTRA...\n"
     ]
    },
    {
     "name": "stderr",
     "output_type": "stream",
     "text": [
      "\n",
      "[*********************100%***********************]  1 of 1 completed"
     ]
    },
    {
     "name": "stdout",
     "output_type": "stream",
     "text": [
      "Processing CRWD...\n"
     ]
    },
    {
     "name": "stderr",
     "output_type": "stream",
     "text": [
      "\n"
     ]
    },
    {
     "name": "stdout",
     "output_type": "stream",
     "text": [
      "Processing CCI...\n"
     ]
    },
    {
     "name": "stderr",
     "output_type": "stream",
     "text": [
      "[*********************100%***********************]  1 of 1 completed\n"
     ]
    },
    {
     "name": "stdout",
     "output_type": "stream",
     "text": [
      "Processing CSX...\n"
     ]
    },
    {
     "name": "stderr",
     "output_type": "stream",
     "text": [
      "[*********************100%***********************]  1 of 1 completed\n",
      "[*********************100%***********************]  1 of 1 completed"
     ]
    },
    {
     "name": "stdout",
     "output_type": "stream",
     "text": [
      "Processing CMI...\n"
     ]
    },
    {
     "name": "stderr",
     "output_type": "stream",
     "text": [
      "\n"
     ]
    },
    {
     "name": "stdout",
     "output_type": "stream",
     "text": [
      "Processing CVS...\n"
     ]
    },
    {
     "name": "stderr",
     "output_type": "stream",
     "text": [
      "[*********************100%***********************]  1 of 1 completed\n"
     ]
    },
    {
     "name": "stdout",
     "output_type": "stream",
     "text": [
      "Processing DHR...\n"
     ]
    },
    {
     "name": "stderr",
     "output_type": "stream",
     "text": [
      "[*********************100%***********************]  1 of 1 completed\n"
     ]
    },
    {
     "name": "stdout",
     "output_type": "stream",
     "text": [
      "Processing DRI...\n"
     ]
    },
    {
     "name": "stderr",
     "output_type": "stream",
     "text": [
      "[*********************100%***********************]  1 of 1 completed\n",
      "[*********************100%***********************]  1 of 1 completed"
     ]
    },
    {
     "name": "stdout",
     "output_type": "stream",
     "text": [
      "Processing DVA...\n"
     ]
    },
    {
     "name": "stderr",
     "output_type": "stream",
     "text": [
      "\n",
      "[*********************100%***********************]  1 of 1 completed"
     ]
    },
    {
     "name": "stdout",
     "output_type": "stream",
     "text": [
      "Processing DAY...\n"
     ]
    },
    {
     "name": "stderr",
     "output_type": "stream",
     "text": [
      "\n",
      "[*********************100%***********************]  1 of 1 completed"
     ]
    },
    {
     "name": "stdout",
     "output_type": "stream",
     "text": [
      "Processing DECK...\n"
     ]
    },
    {
     "name": "stderr",
     "output_type": "stream",
     "text": [
      "\n",
      "[*********************100%***********************]  1 of 1 completed\n",
      "\n",
      "1 Failed download:\n",
      "['DE']: ConnectionError(ProtocolError('Connection aborted.', RemoteDisconnected('Remote end closed connection without response')))\n"
     ]
    },
    {
     "name": "stdout",
     "output_type": "stream",
     "text": [
      "Processing DE...\n",
      "Skipping DE: Not enough data\n",
      "Processing DELL...\n"
     ]
    },
    {
     "name": "stderr",
     "output_type": "stream",
     "text": [
      "[*********************100%***********************]  1 of 1 completed\n"
     ]
    },
    {
     "name": "stdout",
     "output_type": "stream",
     "text": [
      "Processing DAL...\n"
     ]
    },
    {
     "name": "stderr",
     "output_type": "stream",
     "text": [
      "[*********************100%***********************]  1 of 1 completed\n"
     ]
    },
    {
     "name": "stdout",
     "output_type": "stream",
     "text": [
      "Processing DVN...\n"
     ]
    },
    {
     "name": "stderr",
     "output_type": "stream",
     "text": [
      "[*********************100%***********************]  1 of 1 completed\n"
     ]
    },
    {
     "name": "stdout",
     "output_type": "stream",
     "text": [
      "Processing DXCM...\n"
     ]
    },
    {
     "name": "stderr",
     "output_type": "stream",
     "text": [
      "[*********************100%***********************]  1 of 1 completed\n"
     ]
    },
    {
     "name": "stdout",
     "output_type": "stream",
     "text": [
      "Processing FANG...\n"
     ]
    },
    {
     "name": "stderr",
     "output_type": "stream",
     "text": [
      "[*********************100%***********************]  1 of 1 completed\n"
     ]
    },
    {
     "name": "stdout",
     "output_type": "stream",
     "text": [
      "Processing DLR...\n"
     ]
    },
    {
     "name": "stderr",
     "output_type": "stream",
     "text": [
      "[*********************100%***********************]  1 of 1 completed\n"
     ]
    },
    {
     "name": "stdout",
     "output_type": "stream",
     "text": [
      "Processing DFS...\n"
     ]
    },
    {
     "name": "stderr",
     "output_type": "stream",
     "text": [
      "[*********************100%***********************]  1 of 1 completed\n",
      "\n",
      "1 Failed download:\n",
      "['DFS']: ConnectionError(ReadTimeoutError(\"HTTPSConnectionPool(host='query2.finance.yahoo.com', port=443): Read timed out.\"))\n"
     ]
    },
    {
     "name": "stdout",
     "output_type": "stream",
     "text": [
      "Skipping DFS: Not enough data\n",
      "Processing DG...\n"
     ]
    },
    {
     "name": "stderr",
     "output_type": "stream",
     "text": [
      "[*********************100%***********************]  1 of 1 completed\n",
      "\n",
      "1 Failed download:\n",
      "['DG']: ReadTimeout(ReadTimeoutError(\"HTTPSConnectionPool(host='query2.finance.yahoo.com', port=443): Read timed out. (read timeout=10)\"))\n"
     ]
    },
    {
     "name": "stdout",
     "output_type": "stream",
     "text": [
      "Skipping DG: Not enough data\n",
      "Processing DLTR...\n"
     ]
    },
    {
     "name": "stderr",
     "output_type": "stream",
     "text": [
      "[*********************100%***********************]  1 of 1 completed\n"
     ]
    },
    {
     "name": "stdout",
     "output_type": "stream",
     "text": [
      "Processing D...\n"
     ]
    },
    {
     "name": "stderr",
     "output_type": "stream",
     "text": [
      "[*********************100%***********************]  1 of 1 completed\n",
      "[*********************100%***********************]  1 of 1 completed"
     ]
    },
    {
     "name": "stdout",
     "output_type": "stream",
     "text": [
      "Processing DPZ...\n"
     ]
    },
    {
     "name": "stderr",
     "output_type": "stream",
     "text": [
      "\n"
     ]
    },
    {
     "name": "stdout",
     "output_type": "stream",
     "text": [
      "Processing DOV...\n"
     ]
    },
    {
     "name": "stderr",
     "output_type": "stream",
     "text": [
      "[*********************100%***********************]  1 of 1 completed\n",
      "[*********************100%***********************]  1 of 1 completed"
     ]
    },
    {
     "name": "stdout",
     "output_type": "stream",
     "text": [
      "Processing DOW...\n"
     ]
    },
    {
     "name": "stderr",
     "output_type": "stream",
     "text": [
      "\n"
     ]
    },
    {
     "name": "stdout",
     "output_type": "stream",
     "text": [
      "Processing DHI...\n"
     ]
    },
    {
     "name": "stderr",
     "output_type": "stream",
     "text": [
      "[*********************100%***********************]  1 of 1 completed\n"
     ]
    },
    {
     "name": "stdout",
     "output_type": "stream",
     "text": [
      "Processing DTE...\n"
     ]
    },
    {
     "name": "stderr",
     "output_type": "stream",
     "text": [
      "[*********************100%***********************]  1 of 1 completed\n"
     ]
    },
    {
     "name": "stdout",
     "output_type": "stream",
     "text": [
      "Processing DUK...\n"
     ]
    },
    {
     "name": "stderr",
     "output_type": "stream",
     "text": [
      "[*********************100%***********************]  1 of 1 completed\n"
     ]
    },
    {
     "name": "stdout",
     "output_type": "stream",
     "text": [
      "Processing DD...\n"
     ]
    },
    {
     "name": "stderr",
     "output_type": "stream",
     "text": [
      "[*********************100%***********************]  1 of 1 completed\n",
      "[*********************100%***********************]  1 of 1 completed"
     ]
    },
    {
     "name": "stdout",
     "output_type": "stream",
     "text": [
      "Processing EMN...\n"
     ]
    },
    {
     "name": "stderr",
     "output_type": "stream",
     "text": [
      "\n"
     ]
    },
    {
     "name": "stdout",
     "output_type": "stream",
     "text": [
      "Processing ETN...\n"
     ]
    },
    {
     "name": "stderr",
     "output_type": "stream",
     "text": [
      "[*********************100%***********************]  1 of 1 completed\n"
     ]
    },
    {
     "name": "stdout",
     "output_type": "stream",
     "text": [
      "Processing EBAY...\n"
     ]
    },
    {
     "name": "stderr",
     "output_type": "stream",
     "text": [
      "[*********************100%***********************]  1 of 1 completed\n"
     ]
    },
    {
     "name": "stdout",
     "output_type": "stream",
     "text": [
      "Processing ECL...\n"
     ]
    },
    {
     "name": "stderr",
     "output_type": "stream",
     "text": [
      "[*********************100%***********************]  1 of 1 completed\n",
      "[*********************100%***********************]  1 of 1 completed\n",
      "\n",
      "1 Failed download:\n",
      "['EIX']: ConnectionError(ProtocolError('Connection aborted.', RemoteDisconnected('Remote end closed connection without response')))\n"
     ]
    },
    {
     "name": "stdout",
     "output_type": "stream",
     "text": [
      "Processing EIX...\n",
      "Skipping EIX: Not enough data\n",
      "Processing EW...\n"
     ]
    },
    {
     "name": "stderr",
     "output_type": "stream",
     "text": [
      "[*********************100%***********************]  1 of 1 completed\n"
     ]
    },
    {
     "name": "stdout",
     "output_type": "stream",
     "text": [
      "Processing EA...\n"
     ]
    },
    {
     "name": "stderr",
     "output_type": "stream",
     "text": [
      "[*********************100%***********************]  1 of 1 completed\n"
     ]
    },
    {
     "name": "stdout",
     "output_type": "stream",
     "text": [
      "Processing ELV...\n"
     ]
    },
    {
     "name": "stderr",
     "output_type": "stream",
     "text": [
      "[*********************100%***********************]  1 of 1 completed\n"
     ]
    },
    {
     "name": "stdout",
     "output_type": "stream",
     "text": [
      "Processing EMR...\n"
     ]
    },
    {
     "name": "stderr",
     "output_type": "stream",
     "text": [
      "[*********************100%***********************]  1 of 1 completed\n",
      "[*********************100%***********************]  1 of 1 completed"
     ]
    },
    {
     "name": "stdout",
     "output_type": "stream",
     "text": [
      "Processing ENPH...\n"
     ]
    },
    {
     "name": "stderr",
     "output_type": "stream",
     "text": [
      "\n"
     ]
    },
    {
     "name": "stdout",
     "output_type": "stream",
     "text": [
      "Processing ETR...\n"
     ]
    },
    {
     "name": "stderr",
     "output_type": "stream",
     "text": [
      "[*********************100%***********************]  1 of 1 completed\n"
     ]
    },
    {
     "name": "stdout",
     "output_type": "stream",
     "text": [
      "Processing EOG...\n"
     ]
    },
    {
     "name": "stderr",
     "output_type": "stream",
     "text": [
      "[*********************100%***********************]  1 of 1 completed\n",
      "[*********************100%***********************]  1 of 1 completed"
     ]
    },
    {
     "name": "stdout",
     "output_type": "stream",
     "text": [
      "Processing EPAM...\n"
     ]
    },
    {
     "name": "stderr",
     "output_type": "stream",
     "text": [
      "\n"
     ]
    },
    {
     "name": "stdout",
     "output_type": "stream",
     "text": [
      "Processing EQT...\n"
     ]
    },
    {
     "name": "stderr",
     "output_type": "stream",
     "text": [
      "[*********************100%***********************]  1 of 1 completed\n"
     ]
    },
    {
     "name": "stdout",
     "output_type": "stream",
     "text": [
      "Processing EFX...\n"
     ]
    },
    {
     "name": "stderr",
     "output_type": "stream",
     "text": [
      "[*********************100%***********************]  1 of 1 completed\n",
      "[*********************100%***********************]  1 of 1 completed"
     ]
    },
    {
     "name": "stdout",
     "output_type": "stream",
     "text": [
      "Processing EQIX...\n"
     ]
    },
    {
     "name": "stderr",
     "output_type": "stream",
     "text": [
      "\n",
      "[*********************100%***********************]  1 of 1 completed"
     ]
    },
    {
     "name": "stdout",
     "output_type": "stream",
     "text": [
      "Processing EQR...\n"
     ]
    },
    {
     "name": "stderr",
     "output_type": "stream",
     "text": [
      "\n",
      "[*********************100%***********************]  1 of 1 completed"
     ]
    },
    {
     "name": "stdout",
     "output_type": "stream",
     "text": [
      "Processing ERIE...\n"
     ]
    },
    {
     "name": "stderr",
     "output_type": "stream",
     "text": [
      "\n",
      "[*********************100%***********************]  1 of 1 completed"
     ]
    },
    {
     "name": "stdout",
     "output_type": "stream",
     "text": [
      "Processing ESS...\n"
     ]
    },
    {
     "name": "stderr",
     "output_type": "stream",
     "text": [
      "\n",
      "[*********************100%***********************]  1 of 1 completed"
     ]
    },
    {
     "name": "stdout",
     "output_type": "stream",
     "text": [
      "Processing EL...\n"
     ]
    },
    {
     "name": "stderr",
     "output_type": "stream",
     "text": [
      "\n",
      "[*********************100%***********************]  1 of 1 completed"
     ]
    },
    {
     "name": "stdout",
     "output_type": "stream",
     "text": [
      "Processing EG...\n"
     ]
    },
    {
     "name": "stderr",
     "output_type": "stream",
     "text": [
      "\n"
     ]
    },
    {
     "name": "stdout",
     "output_type": "stream",
     "text": [
      "Processing EVRG...\n"
     ]
    },
    {
     "name": "stderr",
     "output_type": "stream",
     "text": [
      "[*********************100%***********************]  1 of 1 completed\n",
      "[*********************100%***********************]  1 of 1 completed\n",
      "\n",
      "1 Failed download:\n",
      "['ES']: ConnectionError(ProtocolError('Connection aborted.', RemoteDisconnected('Remote end closed connection without response')))\n"
     ]
    },
    {
     "name": "stdout",
     "output_type": "stream",
     "text": [
      "Processing ES...\n",
      "Skipping ES: Not enough data\n",
      "Processing EXC...\n"
     ]
    },
    {
     "name": "stderr",
     "output_type": "stream",
     "text": [
      "[*********************100%***********************]  1 of 1 completed\n",
      "[*********************100%***********************]  1 of 1 completed"
     ]
    },
    {
     "name": "stdout",
     "output_type": "stream",
     "text": [
      "Processing EXPE...\n"
     ]
    },
    {
     "name": "stderr",
     "output_type": "stream",
     "text": [
      "\n"
     ]
    },
    {
     "name": "stdout",
     "output_type": "stream",
     "text": [
      "Processing EXPD...\n"
     ]
    },
    {
     "name": "stderr",
     "output_type": "stream",
     "text": [
      "[*********************100%***********************]  1 of 1 completed\n",
      "[*********************100%***********************]  1 of 1 completed"
     ]
    },
    {
     "name": "stdout",
     "output_type": "stream",
     "text": [
      "Processing EXR...\n"
     ]
    },
    {
     "name": "stderr",
     "output_type": "stream",
     "text": [
      "\n",
      "[*********************100%***********************]  1 of 1 completed"
     ]
    },
    {
     "name": "stdout",
     "output_type": "stream",
     "text": [
      "Processing XOM...\n"
     ]
    },
    {
     "name": "stderr",
     "output_type": "stream",
     "text": [
      "\n",
      "[*********************100%***********************]  1 of 1 completed"
     ]
    },
    {
     "name": "stdout",
     "output_type": "stream",
     "text": [
      "Processing FFIV...\n"
     ]
    },
    {
     "name": "stderr",
     "output_type": "stream",
     "text": [
      "\n",
      "[*********************100%***********************]  1 of 1 completed"
     ]
    },
    {
     "name": "stdout",
     "output_type": "stream",
     "text": [
      "Processing FDS...\n"
     ]
    },
    {
     "name": "stderr",
     "output_type": "stream",
     "text": [
      "\n",
      "[*********************100%***********************]  1 of 1 completed"
     ]
    },
    {
     "name": "stdout",
     "output_type": "stream",
     "text": [
      "Processing FICO...\n"
     ]
    },
    {
     "name": "stderr",
     "output_type": "stream",
     "text": [
      "\n"
     ]
    },
    {
     "name": "stdout",
     "output_type": "stream",
     "text": [
      "Processing FAST...\n"
     ]
    },
    {
     "name": "stderr",
     "output_type": "stream",
     "text": [
      "[*********************100%***********************]  1 of 1 completed\n",
      "[*********************100%***********************]  1 of 1 completed"
     ]
    },
    {
     "name": "stdout",
     "output_type": "stream",
     "text": [
      "Processing FRT...\n"
     ]
    },
    {
     "name": "stderr",
     "output_type": "stream",
     "text": [
      "\n"
     ]
    },
    {
     "name": "stdout",
     "output_type": "stream",
     "text": [
      "Processing FDX...\n"
     ]
    },
    {
     "name": "stderr",
     "output_type": "stream",
     "text": [
      "[*********************100%***********************]  1 of 1 completed\n",
      "[*********************100%***********************]  1 of 1 completed"
     ]
    },
    {
     "name": "stdout",
     "output_type": "stream",
     "text": [
      "Processing FIS...\n"
     ]
    },
    {
     "name": "stderr",
     "output_type": "stream",
     "text": [
      "\n"
     ]
    },
    {
     "name": "stdout",
     "output_type": "stream",
     "text": [
      "Processing FITB...\n"
     ]
    },
    {
     "name": "stderr",
     "output_type": "stream",
     "text": [
      "[*********************100%***********************]  1 of 1 completed\n",
      "\n",
      "1 Failed download:\n",
      "['FITB']: ReadTimeout(ReadTimeoutError(\"HTTPSConnectionPool(host='query2.finance.yahoo.com', port=443): Read timed out. (read timeout=10)\"))\n"
     ]
    },
    {
     "name": "stdout",
     "output_type": "stream",
     "text": [
      "Skipping FITB: Not enough data\n",
      "Processing FSLR...\n"
     ]
    },
    {
     "name": "stderr",
     "output_type": "stream",
     "text": [
      "[*********************100%***********************]  1 of 1 completed\n",
      "\n",
      "1 Failed download:\n",
      "['FSLR']: ConnectionError(MaxRetryError('HTTPSConnectionPool(host=\\'query2.finance.yahoo.com\\', port=443): Max retries exceeded with url: /v8/finance/chart/%ticker%?period1=1420088400&period2=1704085200&interval=1d&includePrePost=False&events=div%2Csplits%2CcapitalGains&crumb=sK4l77pf0SG (Caused by NameResolutionError(\"<urllib3.connection.HTTPSConnection object at 0x000001657A0A3290>: Failed to resolve \\'query2.finance.yahoo.com\\' ([Errno 11001] getaddrinfo failed)\"))'))\n",
      "[*********************100%***********************]  1 of 1 completed\n",
      "\n",
      "1 Failed download:\n",
      "['FE']: ConnectionError(MaxRetryError('HTTPSConnectionPool(host=\\'query2.finance.yahoo.com\\', port=443): Max retries exceeded with url: /v8/finance/chart/%ticker%?period1=1420088400&period2=1704085200&interval=1d&includePrePost=False&events=div%2Csplits%2CcapitalGains&crumb=sK4l77pf0SG (Caused by NameResolutionError(\"<urllib3.connection.HTTPSConnection object at 0x000001656BFC29C0>: Failed to resolve \\'query2.finance.yahoo.com\\' ([Errno 11001] getaddrinfo failed)\"))'))\n",
      "[*********************100%***********************]  1 of 1 completed\n",
      "\n",
      "1 Failed download:\n",
      "['FI']: ConnectionError(MaxRetryError('HTTPSConnectionPool(host=\\'query2.finance.yahoo.com\\', port=443): Max retries exceeded with url: /v8/finance/chart/%ticker%?period1=1420088400&period2=1704085200&interval=1d&includePrePost=False&events=div%2Csplits%2CcapitalGains&crumb=sK4l77pf0SG (Caused by NameResolutionError(\"<urllib3.connection.HTTPSConnection object at 0x000001657417CAA0>: Failed to resolve \\'query2.finance.yahoo.com\\' ([Errno 11001] getaddrinfo failed)\"))'))\n",
      "[*********************100%***********************]  1 of 1 completed\n",
      "\n",
      "1 Failed download:\n",
      "['FMC']: ConnectionError(MaxRetryError('HTTPSConnectionPool(host=\\'query2.finance.yahoo.com\\', port=443): Max retries exceeded with url: /v8/finance/chart/%ticker%?period1=1420088400&period2=1704085200&interval=1d&includePrePost=False&events=div%2Csplits%2CcapitalGains&crumb=sK4l77pf0SG (Caused by NameResolutionError(\"<urllib3.connection.HTTPSConnection object at 0x000001657417D460>: Failed to resolve \\'query2.finance.yahoo.com\\' ([Errno 11001] getaddrinfo failed)\"))'))\n",
      "[*********************100%***********************]  1 of 1 completed\n",
      "\n",
      "1 Failed download:\n",
      "['F']: ConnectionError(MaxRetryError('HTTPSConnectionPool(host=\\'query2.finance.yahoo.com\\', port=443): Max retries exceeded with url: /v8/finance/chart/%ticker%?period1=1420088400&period2=1704085200&interval=1d&includePrePost=%ticker%alse&events=div%2Csplits%2CcapitalGains&crumb=sK4l77pf0SG (Caused by NameResolutionError(\"<urllib3.connection.HTTPSConnection object at 0x000001657A0A2960>: %ticker%ailed to resolve \\'query2.finance.yahoo.com\\' ([Errno 11001] getaddrinfo failed)\"))'))\n",
      "[*********************100%***********************]  1 of 1 completed\n",
      "\n",
      "1 Failed download:\n",
      "['FTNT']: ConnectionError(MaxRetryError('HTTPSConnectionPool(host=\\'query2.finance.yahoo.com\\', port=443): Max retries exceeded with url: /v8/finance/chart/%ticker%?period1=1420088400&period2=1704085200&interval=1d&includePrePost=False&events=div%2Csplits%2CcapitalGains&crumb=sK4l77pf0SG (Caused by NameResolutionError(\"<urllib3.connection.HTTPSConnection object at 0x000001657A0A2540>: Failed to resolve \\'query2.finance.yahoo.com\\' ([Errno 11001] getaddrinfo failed)\"))'))\n",
      "[*********************100%***********************]  1 of 1 completed\n",
      "\n",
      "1 Failed download:\n",
      "['FTV']: ConnectionError(MaxRetryError('HTTPSConnectionPool(host=\\'query2.finance.yahoo.com\\', port=443): Max retries exceeded with url: /v8/finance/chart/%ticker%?period1=1420088400&period2=1704085200&interval=1d&includePrePost=False&events=div%2Csplits%2CcapitalGains&crumb=sK4l77pf0SG (Caused by NameResolutionError(\"<urllib3.connection.HTTPSConnection object at 0x000001657417CF50>: Failed to resolve \\'query2.finance.yahoo.com\\' ([Errno 11001] getaddrinfo failed)\"))'))\n",
      "[*********************100%***********************]  1 of 1 completed\n",
      "\n",
      "1 Failed download:\n",
      "['FOXA']: ConnectionError(MaxRetryError('HTTPSConnectionPool(host=\\'query2.finance.yahoo.com\\', port=443): Max retries exceeded with url: /v8/finance/chart/%ticker%?period1=1420088400&period2=1704085200&interval=1d&includePrePost=False&events=div%2Csplits%2CcapitalGains&crumb=sK4l77pf0SG (Caused by NameResolutionError(\"<urllib3.connection.HTTPSConnection object at 0x000001653CB01F10>: Failed to resolve \\'query2.finance.yahoo.com\\' ([Errno 11001] getaddrinfo failed)\"))'))\n",
      "[*********************100%***********************]  1 of 1 completed\n",
      "\n",
      "1 Failed download:\n",
      "['FOX']: ConnectionError(MaxRetryError('HTTPSConnectionPool(host=\\'query2.finance.yahoo.com\\', port=443): Max retries exceeded with url: /v8/finance/chart/%ticker%?period1=1420088400&period2=1704085200&interval=1d&includePrePost=False&events=div%2Csplits%2CcapitalGains&crumb=sK4l77pf0SG (Caused by NameResolutionError(\"<urllib3.connection.HTTPSConnection object at 0x0000016569ED4E60>: Failed to resolve \\'query2.finance.yahoo.com\\' ([Errno 11001] getaddrinfo failed)\"))'))\n",
      "[*********************100%***********************]  1 of 1 completed\n",
      "\n",
      "1 Failed download:\n",
      "['BEN']: ConnectionError(MaxRetryError('HTTPSConnectionPool(host=\\'query2.finance.yahoo.com\\', port=443): Max retries exceeded with url: /v8/finance/chart/%ticker%?period1=1420088400&period2=1704085200&interval=1d&includePrePost=False&events=div%2Csplits%2CcapitalGains&crumb=sK4l77pf0SG (Caused by NameResolutionError(\"<urllib3.connection.HTTPSConnection object at 0x000001657417CDD0>: Failed to resolve \\'query2.finance.yahoo.com\\' ([Errno 11001] getaddrinfo failed)\"))'))\n",
      "[*********************100%***********************]  1 of 1 completed\n",
      "\n",
      "1 Failed download:\n",
      "['FCX']: ConnectionError(MaxRetryError('HTTPSConnectionPool(host=\\'query2.finance.yahoo.com\\', port=443): Max retries exceeded with url: /v8/finance/chart/%ticker%?period1=1420088400&period2=1704085200&interval=1d&includePrePost=False&events=div%2Csplits%2CcapitalGains&crumb=sK4l77pf0SG (Caused by NameResolutionError(\"<urllib3.connection.HTTPSConnection object at 0x000001657A0A2540>: Failed to resolve \\'query2.finance.yahoo.com\\' ([Errno 11001] getaddrinfo failed)\"))'))\n",
      "[*********************100%***********************]  1 of 1 completed\n",
      "\n",
      "1 Failed download:\n",
      "['GRMN']: ConnectionError(MaxRetryError('HTTPSConnectionPool(host=\\'query2.finance.yahoo.com\\', port=443): Max retries exceeded with url: /v8/finance/chart/%ticker%?period1=1420088400&period2=1704085200&interval=1d&includePrePost=False&events=div%2Csplits%2CcapitalGains&crumb=sK4l77pf0SG (Caused by NameResolutionError(\"<urllib3.connection.HTTPSConnection object at 0x000001657A0A3200>: Failed to resolve \\'query2.finance.yahoo.com\\' ([Errno 11001] getaddrinfo failed)\"))'))\n",
      "[*********************100%***********************]  1 of 1 completed"
     ]
    },
    {
     "name": "stdout",
     "output_type": "stream",
     "text": [
      "Skipping FSLR: Not enough data\n",
      "Processing FE...\n",
      "Skipping FE: Not enough data\n",
      "Processing FI...\n",
      "Skipping FI: Not enough data\n",
      "Processing FMC...\n",
      "Skipping FMC: Not enough data\n",
      "Processing F...\n",
      "Skipping F: Not enough data\n",
      "Processing FTNT...\n",
      "Skipping FTNT: Not enough data\n",
      "Processing FTV...\n",
      "Skipping FTV: Not enough data\n",
      "Processing FOXA...\n",
      "Skipping FOXA: Not enough data\n",
      "Processing FOX...\n",
      "Skipping FOX: Not enough data\n",
      "Processing BEN...\n",
      "Skipping BEN: Not enough data\n",
      "Processing FCX...\n",
      "Skipping FCX: Not enough data\n",
      "Processing GRMN...\n",
      "Skipping GRMN: Not enough data\n",
      "Processing IT...\n"
     ]
    },
    {
     "name": "stderr",
     "output_type": "stream",
     "text": [
      "\n",
      "\n",
      "1 Failed download:\n",
      "['IT']: ConnectionError(MaxRetryError('HTTPSConnectionPool(host=\\'query2.finance.yahoo.com\\', port=443): Max retries exceeded with url: /v8/finance/chart/%ticker%?period1=1420088400&period2=1704085200&interval=1d&includePrePost=False&events=div%2Csplits%2CcapitalGains&crumb=sK4l77pf0SG (Caused by NameResolutionError(\"<urllib3.connection.HTTPSConnection object at 0x000001655DD9C860>: Failed to resolve \\'query2.finance.yahoo.com\\' ([Errno 11001] getaddrinfo failed)\"))'))\n",
      "[*********************100%***********************]  1 of 1 completed\n",
      "\n",
      "1 Failed download:\n",
      "['GE']: ConnectionError(MaxRetryError('HTTPSConnectionPool(host=\\'query2.finance.yahoo.com\\', port=443): Max retries exceeded with url: /v8/finance/chart/%ticker%?period1=1420088400&period2=1704085200&interval=1d&includePrePost=False&events=div%2Csplits%2CcapitalGains&crumb=sK4l77pf0SG (Caused by NameResolutionError(\"<urllib3.connection.HTTPSConnection object at 0x0000016574143560>: Failed to resolve \\'query2.finance.yahoo.com\\' ([Errno 11001] getaddrinfo failed)\"))'))\n",
      "[*********************100%***********************]  1 of 1 completed\n",
      "\n",
      "1 Failed download:\n",
      "['GEHC']: ConnectionError(MaxRetryError('HTTPSConnectionPool(host=\\'query2.finance.yahoo.com\\', port=443): Max retries exceeded with url: /v8/finance/chart/%ticker%?period1=1420088400&period2=1704085200&interval=1d&includePrePost=False&events=div%2Csplits%2CcapitalGains&crumb=sK4l77pf0SG (Caused by NameResolutionError(\"<urllib3.connection.HTTPSConnection object at 0x000001657A0A09E0>: Failed to resolve \\'query2.finance.yahoo.com\\' ([Errno 11001] getaddrinfo failed)\"))'))\n",
      "[*********************100%***********************]  1 of 1 completed\n",
      "\n",
      "1 Failed download:\n",
      "['GEV']: ConnectionError(MaxRetryError('HTTPSConnectionPool(host=\\'query2.finance.yahoo.com\\', port=443): Max retries exceeded with url: /v8/finance/chart/%ticker%?period1=1420088400&period2=1704085200&interval=1d&includePrePost=False&events=div%2Csplits%2CcapitalGains&crumb=sK4l77pf0SG (Caused by NameResolutionError(\"<urllib3.connection.HTTPSConnection object at 0x0000016558B08140>: Failed to resolve \\'query2.finance.yahoo.com\\' ([Errno 11001] getaddrinfo failed)\"))'))\n",
      "[*********************100%***********************]  1 of 1 completed\n",
      "\n",
      "1 Failed download:\n",
      "['GEN']: ConnectionError(MaxRetryError('HTTPSConnectionPool(host=\\'query2.finance.yahoo.com\\', port=443): Max retries exceeded with url: /v8/finance/chart/%ticker%?period1=1420088400&period2=1704085200&interval=1d&includePrePost=False&events=div%2Csplits%2CcapitalGains&crumb=sK4l77pf0SG (Caused by NameResolutionError(\"<urllib3.connection.HTTPSConnection object at 0x0000016574142ED0>: Failed to resolve \\'query2.finance.yahoo.com\\' ([Errno 11001] getaddrinfo failed)\"))'))\n",
      "[*********************100%***********************]  1 of 1 completed\n",
      "\n",
      "1 Failed download:\n",
      "['GNRC']: ConnectionError(MaxRetryError('HTTPSConnectionPool(host=\\'query2.finance.yahoo.com\\', port=443): Max retries exceeded with url: /v8/finance/chart/%ticker%?period1=1420088400&period2=1704085200&interval=1d&includePrePost=False&events=div%2Csplits%2CcapitalGains&crumb=sK4l77pf0SG (Caused by NameResolutionError(\"<urllib3.connection.HTTPSConnection object at 0x0000016574143230>: Failed to resolve \\'query2.finance.yahoo.com\\' ([Errno 11001] getaddrinfo failed)\"))'))\n",
      "[*********************100%***********************]  1 of 1 completed\n",
      "\n",
      "1 Failed download:\n",
      "['GD']: ConnectionError(MaxRetryError('HTTPSConnectionPool(host=\\'query2.finance.yahoo.com\\', port=443): Max retries exceeded with url: /v8/finance/chart/%ticker%?period1=1420088400&period2=1704085200&interval=1d&includePrePost=False&events=div%2Csplits%2CcapitalGains&crumb=sK4l77pf0SG (Caused by NameResolutionError(\"<urllib3.connection.HTTPSConnection object at 0x00000165741434A0>: Failed to resolve \\'query2.finance.yahoo.com\\' ([Errno 11001] getaddrinfo failed)\"))'))\n",
      "[*********************100%***********************]  1 of 1 completed\n",
      "\n",
      "1 Failed download:\n",
      "['GIS']: ConnectionError(MaxRetryError('HTTPSConnectionPool(host=\\'query2.finance.yahoo.com\\', port=443): Max retries exceeded with url: /v8/finance/chart/%ticker%?period1=1420088400&period2=1704085200&interval=1d&includePrePost=False&events=div%2Csplits%2CcapitalGains&crumb=sK4l77pf0SG (Caused by NameResolutionError(\"<urllib3.connection.HTTPSConnection object at 0x0000016569EB5C10>: Failed to resolve \\'query2.finance.yahoo.com\\' ([Errno 11001] getaddrinfo failed)\"))'))\n",
      "[*********************100%***********************]  1 of 1 completed\n",
      "\n",
      "1 Failed download:\n",
      "['GM']: ConnectionError(MaxRetryError('HTTPSConnectionPool(host=\\'query2.finance.yahoo.com\\', port=443): Max retries exceeded with url: /v8/finance/chart/%ticker%?period1=1420088400&period2=1704085200&interval=1d&includePrePost=False&events=div%2Csplits%2CcapitalGains&crumb=sK4l77pf0SG (Caused by NameResolutionError(\"<urllib3.connection.HTTPSConnection object at 0x0000016569ED59A0>: Failed to resolve \\'query2.finance.yahoo.com\\' ([Errno 11001] getaddrinfo failed)\"))'))\n",
      "[*********************100%***********************]  1 of 1 completed\n",
      "\n",
      "1 Failed download:\n",
      "['GPC']: ConnectionError(MaxRetryError('HTTPSConnectionPool(host=\\'query2.finance.yahoo.com\\', port=443): Max retries exceeded with url: /v8/finance/chart/%ticker%?period1=1420088400&period2=1704085200&interval=1d&includePrePost=False&events=div%2Csplits%2CcapitalGains&crumb=sK4l77pf0SG (Caused by NameResolutionError(\"<urllib3.connection.HTTPSConnection object at 0x0000016574140F80>: Failed to resolve \\'query2.finance.yahoo.com\\' ([Errno 11001] getaddrinfo failed)\"))'))\n",
      "[*********************100%***********************]  1 of 1 completed\n",
      "\n",
      "1 Failed download:\n",
      "['GILD']: ConnectionError(MaxRetryError('HTTPSConnectionPool(host=\\'query2.finance.yahoo.com\\', port=443): Max retries exceeded with url: /v8/finance/chart/%ticker%?period1=1420088400&period2=1704085200&interval=1d&includePrePost=False&events=div%2Csplits%2CcapitalGains&crumb=sK4l77pf0SG (Caused by NameResolutionError(\"<urllib3.connection.HTTPSConnection object at 0x000001654C8FD730>: Failed to resolve \\'query2.finance.yahoo.com\\' ([Errno 11001] getaddrinfo failed)\"))'))\n",
      "[*********************100%***********************]  1 of 1 completed\n",
      "\n",
      "1 Failed download:\n",
      "['GPN']: ConnectionError(MaxRetryError('HTTPSConnectionPool(host=\\'query2.finance.yahoo.com\\', port=443): Max retries exceeded with url: /v8/finance/chart/%ticker%?period1=1420088400&period2=1704085200&interval=1d&includePrePost=False&events=div%2Csplits%2CcapitalGains&crumb=sK4l77pf0SG (Caused by NameResolutionError(\"<urllib3.connection.HTTPSConnection object at 0x000001653C9E2C90>: Failed to resolve \\'query2.finance.yahoo.com\\' ([Errno 11001] getaddrinfo failed)\"))'))\n",
      "[*********************100%***********************]  1 of 1 completed\n",
      "\n",
      "1 Failed download:\n",
      "['GL']: ConnectionError(MaxRetryError('HTTPSConnectionPool(host=\\'query2.finance.yahoo.com\\', port=443): Max retries exceeded with url: /v8/finance/chart/%ticker%?period1=1420088400&period2=1704085200&interval=1d&includePrePost=False&events=div%2Csplits%2CcapitalGains&crumb=sK4l77pf0SG (Caused by NameResolutionError(\"<urllib3.connection.HTTPSConnection object at 0x0000016574140C80>: Failed to resolve \\'query2.finance.yahoo.com\\' ([Errno 11001] getaddrinfo failed)\"))'))\n",
      "[*********************100%***********************]  1 of 1 completed"
     ]
    },
    {
     "name": "stdout",
     "output_type": "stream",
     "text": [
      "Skipping IT: Not enough data\n",
      "Processing GE...\n",
      "Skipping GE: Not enough data\n",
      "Processing GEHC...\n",
      "Skipping GEHC: Not enough data\n",
      "Processing GEV...\n",
      "Skipping GEV: Not enough data\n",
      "Processing GEN...\n",
      "Skipping GEN: Not enough data\n",
      "Processing GNRC...\n",
      "Skipping GNRC: Not enough data\n",
      "Processing GD...\n",
      "Skipping GD: Not enough data\n",
      "Processing GIS...\n",
      "Skipping GIS: Not enough data\n",
      "Processing GM...\n",
      "Skipping GM: Not enough data\n",
      "Processing GPC...\n",
      "Skipping GPC: Not enough data\n",
      "Processing GILD...\n",
      "Skipping GILD: Not enough data\n",
      "Processing GPN...\n",
      "Skipping GPN: Not enough data\n",
      "Processing GL...\n",
      "Skipping GL: Not enough data\n",
      "Processing GDDY...\n"
     ]
    },
    {
     "name": "stderr",
     "output_type": "stream",
     "text": [
      "\n",
      "\n",
      "1 Failed download:\n",
      "['GDDY']: ConnectionError(MaxRetryError('HTTPSConnectionPool(host=\\'query2.finance.yahoo.com\\', port=443): Max retries exceeded with url: /v8/finance/chart/%ticker%?period1=1420088400&period2=1704085200&interval=1d&includePrePost=False&events=div%2Csplits%2CcapitalGains&crumb=sK4l77pf0SG (Caused by NameResolutionError(\"<urllib3.connection.HTTPSConnection object at 0x000001657A0A2630>: Failed to resolve \\'query2.finance.yahoo.com\\' ([Errno 11001] getaddrinfo failed)\"))'))\n",
      "[*********************100%***********************]  1 of 1 completed\n",
      "\n",
      "1 Failed download:\n",
      "['GS']: ConnectionError(MaxRetryError('HTTPSConnectionPool(host=\\'query2.finance.yahoo.com\\', port=443): Max retries exceeded with url: /v8/finance/chart/%ticker%?period1=1420088400&period2=1704085200&interval=1d&includePrePost=False&events=div%2Csplits%2CcapitalGains&crumb=sK4l77pf0SG (Caused by NameResolutionError(\"<urllib3.connection.HTTPSConnection object at 0x0000016566D93440>: Failed to resolve \\'query2.finance.yahoo.com\\' ([Errno 11001] getaddrinfo failed)\"))'))\n",
      "[*********************100%***********************]  1 of 1 completed\n",
      "\n",
      "1 Failed download:\n",
      "['HAL']: ConnectionError(MaxRetryError('HTTPSConnectionPool(host=\\'query2.finance.yahoo.com\\', port=443): Max retries exceeded with url: /v8/finance/chart/%ticker%?period1=1420088400&period2=1704085200&interval=1d&includePrePost=False&events=div%2Csplits%2CcapitalGains&crumb=sK4l77pf0SG (Caused by NameResolutionError(\"<urllib3.connection.HTTPSConnection object at 0x00000165710F2240>: Failed to resolve \\'query2.finance.yahoo.com\\' ([Errno 11001] getaddrinfo failed)\"))'))\n",
      "[*********************100%***********************]  1 of 1 completed\n",
      "\n",
      "1 Failed download:\n",
      "['HIG']: ConnectionError(MaxRetryError('HTTPSConnectionPool(host=\\'query2.finance.yahoo.com\\', port=443): Max retries exceeded with url: /v8/finance/chart/%ticker%?period1=1420088400&period2=1704085200&interval=1d&includePrePost=False&events=div%2Csplits%2CcapitalGains&crumb=sK4l77pf0SG (Caused by NameResolutionError(\"<urllib3.connection.HTTPSConnection object at 0x000001655DC54230>: Failed to resolve \\'query2.finance.yahoo.com\\' ([Errno 11001] getaddrinfo failed)\"))'))\n",
      "[*********************100%***********************]  1 of 1 completed\n",
      "\n",
      "1 Failed download:\n",
      "['HAS']: ConnectionError(MaxRetryError('HTTPSConnectionPool(host=\\'query2.finance.yahoo.com\\', port=443): Max retries exceeded with url: /v8/finance/chart/%ticker%?period1=1420088400&period2=1704085200&interval=1d&includePrePost=False&events=div%2Csplits%2CcapitalGains&crumb=sK4l77pf0SG (Caused by NameResolutionError(\"<urllib3.connection.HTTPSConnection object at 0x000001656BFC0500>: Failed to resolve \\'query2.finance.yahoo.com\\' ([Errno 11001] getaddrinfo failed)\"))'))\n",
      "[*********************100%***********************]  1 of 1 completed\n",
      "\n",
      "1 Failed download:\n",
      "['HCA']: ConnectionError(MaxRetryError('HTTPSConnectionPool(host=\\'query2.finance.yahoo.com\\', port=443): Max retries exceeded with url: /v8/finance/chart/%ticker%?period1=1420088400&period2=1704085200&interval=1d&includePrePost=False&events=div%2Csplits%2CcapitalGains&crumb=sK4l77pf0SG (Caused by NameResolutionError(\"<urllib3.connection.HTTPSConnection object at 0x0000016538C15520>: Failed to resolve \\'query2.finance.yahoo.com\\' ([Errno 11001] getaddrinfo failed)\"))'))\n",
      "[*********************100%***********************]  1 of 1 completed\n",
      "\n",
      "1 Failed download:\n",
      "['DOC']: ConnectionError(MaxRetryError('HTTPSConnectionPool(host=\\'query2.finance.yahoo.com\\', port=443): Max retries exceeded with url: /v8/finance/chart/%ticker%?period1=1420088400&period2=1704085200&interval=1d&includePrePost=False&events=div%2Csplits%2CcapitalGains&crumb=sK4l77pf0SG (Caused by NameResolutionError(\"<urllib3.connection.HTTPSConnection object at 0x0000016574141370>: Failed to resolve \\'query2.finance.yahoo.com\\' ([Errno 11001] getaddrinfo failed)\"))'))\n",
      "[*********************100%***********************]  1 of 1 completed\n",
      "\n",
      "1 Failed download:\n",
      "['HSIC']: ConnectionError(MaxRetryError('HTTPSConnectionPool(host=\\'query2.finance.yahoo.com\\', port=443): Max retries exceeded with url: /v8/finance/chart/%ticker%?period1=1420088400&period2=1704085200&interval=1d&includePrePost=False&events=div%2Csplits%2CcapitalGains&crumb=sK4l77pf0SG (Caused by NameResolutionError(\"<urllib3.connection.HTTPSConnection object at 0x000001655FDC65D0>: Failed to resolve \\'query2.finance.yahoo.com\\' ([Errno 11001] getaddrinfo failed)\"))'))\n",
      "[*********************100%***********************]  1 of 1 completed\n",
      "\n",
      "1 Failed download:\n",
      "['HSY']: ConnectionError(MaxRetryError('HTTPSConnectionPool(host=\\'query2.finance.yahoo.com\\', port=443): Max retries exceeded with url: /v8/finance/chart/%ticker%?period1=1420088400&period2=1704085200&interval=1d&includePrePost=False&events=div%2Csplits%2CcapitalGains&crumb=sK4l77pf0SG (Caused by NameResolutionError(\"<urllib3.connection.HTTPSConnection object at 0x00000165740D2150>: Failed to resolve \\'query2.finance.yahoo.com\\' ([Errno 11001] getaddrinfo failed)\"))'))\n",
      "[*********************100%***********************]  1 of 1 completed\n",
      "\n",
      "1 Failed download:\n",
      "['HES']: ConnectionError(MaxRetryError('HTTPSConnectionPool(host=\\'query2.finance.yahoo.com\\', port=443): Max retries exceeded with url: /v8/finance/chart/%ticker%?period1=1420088400&period2=1704085200&interval=1d&includePrePost=False&events=div%2Csplits%2CcapitalGains&crumb=sK4l77pf0SG (Caused by NameResolutionError(\"<urllib3.connection.HTTPSConnection object at 0x0000016574143B90>: Failed to resolve \\'query2.finance.yahoo.com\\' ([Errno 11001] getaddrinfo failed)\"))'))\n",
      "[*********************100%***********************]  1 of 1 completed\n",
      "\n",
      "1 Failed download:\n",
      "['HPE']: ConnectionError(MaxRetryError('HTTPSConnectionPool(host=\\'query2.finance.yahoo.com\\', port=443): Max retries exceeded with url: /v8/finance/chart/%ticker%?period1=1420088400&period2=1704085200&interval=1d&includePrePost=False&events=div%2Csplits%2CcapitalGains&crumb=sK4l77pf0SG (Caused by NameResolutionError(\"<urllib3.connection.HTTPSConnection object at 0x000001657A0A2E70>: Failed to resolve \\'query2.finance.yahoo.com\\' ([Errno 11001] getaddrinfo failed)\"))'))\n",
      "[*********************100%***********************]  1 of 1 completed"
     ]
    },
    {
     "name": "stdout",
     "output_type": "stream",
     "text": [
      "Skipping GDDY: Not enough data\n",
      "Processing GS...\n",
      "Skipping GS: Not enough data\n",
      "Processing HAL...\n",
      "Skipping HAL: Not enough data\n",
      "Processing HIG...\n",
      "Skipping HIG: Not enough data\n",
      "Processing HAS...\n",
      "Skipping HAS: Not enough data\n",
      "Processing HCA...\n",
      "Skipping HCA: Not enough data\n",
      "Processing DOC...\n",
      "Skipping DOC: Not enough data\n",
      "Processing HSIC...\n",
      "Skipping HSIC: Not enough data\n",
      "Processing HSY...\n",
      "Skipping HSY: Not enough data\n",
      "Processing HES...\n",
      "Skipping HES: Not enough data\n",
      "Processing HPE...\n",
      "Skipping HPE: Not enough data\n",
      "Processing HLT...\n"
     ]
    },
    {
     "name": "stderr",
     "output_type": "stream",
     "text": [
      "\n",
      "\n",
      "1 Failed download:\n",
      "['HLT']: ConnectionError(MaxRetryError('HTTPSConnectionPool(host=\\'query2.finance.yahoo.com\\', port=443): Max retries exceeded with url: /v8/finance/chart/%ticker%?period1=1420088400&period2=1704085200&interval=1d&includePrePost=False&events=div%2Csplits%2CcapitalGains&crumb=sK4l77pf0SG (Caused by NameResolutionError(\"<urllib3.connection.HTTPSConnection object at 0x000001655DC55D30>: Failed to resolve \\'query2.finance.yahoo.com\\' ([Errno 11001] getaddrinfo failed)\"))'))\n",
      "[*********************100%***********************]  1 of 1 completed\n",
      "\n",
      "1 Failed download:\n",
      "['HOLX']: ConnectionError(MaxRetryError('HTTPSConnectionPool(host=\\'query2.finance.yahoo.com\\', port=443): Max retries exceeded with url: /v8/finance/chart/%ticker%?period1=1420088400&period2=1704085200&interval=1d&includePrePost=False&events=div%2Csplits%2CcapitalGains&crumb=sK4l77pf0SG (Caused by NameResolutionError(\"<urllib3.connection.HTTPSConnection object at 0x00000165740D11F0>: Failed to resolve \\'query2.finance.yahoo.com\\' ([Errno 11001] getaddrinfo failed)\"))'))\n",
      "[*********************100%***********************]  1 of 1 completed\n",
      "\n",
      "1 Failed download:\n",
      "['HD']: ConnectionError(MaxRetryError('HTTPSConnectionPool(host=\\'query2.finance.yahoo.com\\', port=443): Max retries exceeded with url: /v8/finance/chart/%ticker%?period1=1420088400&period2=1704085200&interval=1d&includePrePost=False&events=div%2Csplits%2CcapitalGains&crumb=sK4l77pf0SG (Caused by NameResolutionError(\"<urllib3.connection.HTTPSConnection object at 0x000001657A12CFE0>: Failed to resolve \\'query2.finance.yahoo.com\\' ([Errno 11001] getaddrinfo failed)\"))'))\n",
      "[*********************100%***********************]  1 of 1 completed\n",
      "\n",
      "1 Failed download:\n",
      "['HON']: ConnectionError(MaxRetryError('HTTPSConnectionPool(host=\\'query2.finance.yahoo.com\\', port=443): Max retries exceeded with url: /v8/finance/chart/%ticker%?period1=1420088400&period2=1704085200&interval=1d&includePrePost=False&events=div%2Csplits%2CcapitalGains&crumb=sK4l77pf0SG (Caused by NameResolutionError(\"<urllib3.connection.HTTPSConnection object at 0x00000165740D3410>: Failed to resolve \\'query2.finance.yahoo.com\\' ([Errno 11001] getaddrinfo failed)\"))'))\n",
      "[*********************100%***********************]  1 of 1 completed\n",
      "\n",
      "1 Failed download:\n",
      "['HRL']: ConnectionError(MaxRetryError('HTTPSConnectionPool(host=\\'query2.finance.yahoo.com\\', port=443): Max retries exceeded with url: /v8/finance/chart/%ticker%?period1=1420088400&period2=1704085200&interval=1d&includePrePost=False&events=div%2Csplits%2CcapitalGains&crumb=sK4l77pf0SG (Caused by NameResolutionError(\"<urllib3.connection.HTTPSConnection object at 0x000001655DC54440>: Failed to resolve \\'query2.finance.yahoo.com\\' ([Errno 11001] getaddrinfo failed)\"))'))\n",
      "[*********************100%***********************]  1 of 1 completed\n",
      "\n",
      "1 Failed download:\n",
      "['HST']: ConnectionError(MaxRetryError('HTTPSConnectionPool(host=\\'query2.finance.yahoo.com\\', port=443): Max retries exceeded with url: /v8/finance/chart/%ticker%?period1=1420088400&period2=1704085200&interval=1d&includePrePost=False&events=div%2Csplits%2CcapitalGains&crumb=sK4l77pf0SG (Caused by NameResolutionError(\"<urllib3.connection.HTTPSConnection object at 0x0000016569DFEBD0>: Failed to resolve \\'query2.finance.yahoo.com\\' ([Errno 11001] getaddrinfo failed)\"))'))\n",
      "[*********************100%***********************]  1 of 1 completed\n",
      "\n",
      "1 Failed download:\n",
      "['HWM']: ConnectionError(MaxRetryError('HTTPSConnectionPool(host=\\'query2.finance.yahoo.com\\', port=443): Max retries exceeded with url: /v8/finance/chart/%ticker%?period1=1420088400&period2=1704085200&interval=1d&includePrePost=False&events=div%2Csplits%2CcapitalGains&crumb=sK4l77pf0SG (Caused by NameResolutionError(\"<urllib3.connection.HTTPSConnection object at 0x0000016574143410>: Failed to resolve \\'query2.finance.yahoo.com\\' ([Errno 11001] getaddrinfo failed)\"))'))\n",
      "[*********************100%***********************]  1 of 1 completed\n",
      "\n",
      "1 Failed download:\n",
      "['HPQ']: ConnectionError(MaxRetryError('HTTPSConnectionPool(host=\\'query2.finance.yahoo.com\\', port=443): Max retries exceeded with url: /v8/finance/chart/%ticker%?period1=1420088400&period2=1704085200&interval=1d&includePrePost=False&events=div%2Csplits%2CcapitalGains&crumb=sK4l77pf0SG (Caused by NameResolutionError(\"<urllib3.connection.HTTPSConnection object at 0x0000016574142C00>: Failed to resolve \\'query2.finance.yahoo.com\\' ([Errno 11001] getaddrinfo failed)\"))'))\n",
      "[*********************100%***********************]  1 of 1 completed\n",
      "\n",
      "1 Failed download:\n",
      "['HUBB']: ConnectionError(MaxRetryError('HTTPSConnectionPool(host=\\'query2.finance.yahoo.com\\', port=443): Max retries exceeded with url: /v8/finance/chart/%ticker%?period1=1420088400&period2=1704085200&interval=1d&includePrePost=False&events=div%2Csplits%2CcapitalGains&crumb=sK4l77pf0SG (Caused by NameResolutionError(\"<urllib3.connection.HTTPSConnection object at 0x0000016569DFDCA0>: Failed to resolve \\'query2.finance.yahoo.com\\' ([Errno 11001] getaddrinfo failed)\"))'))\n",
      "[*********************100%***********************]  1 of 1 completed\n",
      "\n",
      "1 Failed download:\n",
      "['HUM']: ConnectionError(MaxRetryError('HTTPSConnectionPool(host=\\'query2.finance.yahoo.com\\', port=443): Max retries exceeded with url: /v8/finance/chart/%ticker%?period1=1420088400&period2=1704085200&interval=1d&includePrePost=False&events=div%2Csplits%2CcapitalGains&crumb=sK4l77pf0SG (Caused by NameResolutionError(\"<urllib3.connection.HTTPSConnection object at 0x000001653C836780>: Failed to resolve \\'query2.finance.yahoo.com\\' ([Errno 11001] getaddrinfo failed)\"))'))\n",
      "[*********************100%***********************]  1 of 1 completed\n",
      "\n",
      "1 Failed download:\n",
      "['HBAN']: ConnectionError(MaxRetryError('HTTPSConnectionPool(host=\\'query2.finance.yahoo.com\\', port=443): Max retries exceeded with url: /v8/finance/chart/%ticker%?period1=1420088400&period2=1704085200&interval=1d&includePrePost=False&events=div%2Csplits%2CcapitalGains&crumb=sK4l77pf0SG (Caused by NameResolutionError(\"<urllib3.connection.HTTPSConnection object at 0x00000165740D1760>: Failed to resolve \\'query2.finance.yahoo.com\\' ([Errno 11001] getaddrinfo failed)\"))'))\n",
      "[*********************100%***********************]  1 of 1 completed\n",
      "\n",
      "1 Failed download:\n",
      "['HII']: ConnectionError(MaxRetryError('HTTPSConnectionPool(host=\\'query2.finance.yahoo.com\\', port=443): Max retries exceeded with url: /v8/finance/chart/%ticker%?period1=1420088400&period2=1704085200&interval=1d&includePrePost=False&events=div%2Csplits%2CcapitalGains&crumb=sK4l77pf0SG (Caused by NameResolutionError(\"<urllib3.connection.HTTPSConnection object at 0x000001655FD826C0>: Failed to resolve \\'query2.finance.yahoo.com\\' ([Errno 11001] getaddrinfo failed)\"))'))\n",
      "[*********************100%***********************]  1 of 1 completed"
     ]
    },
    {
     "name": "stdout",
     "output_type": "stream",
     "text": [
      "Skipping HLT: Not enough data\n",
      "Processing HOLX...\n",
      "Skipping HOLX: Not enough data\n",
      "Processing HD...\n",
      "Skipping HD: Not enough data\n",
      "Processing HON...\n",
      "Skipping HON: Not enough data\n",
      "Processing HRL...\n",
      "Skipping HRL: Not enough data\n",
      "Processing HST...\n",
      "Skipping HST: Not enough data\n",
      "Processing HWM...\n",
      "Skipping HWM: Not enough data\n",
      "Processing HPQ...\n",
      "Skipping HPQ: Not enough data\n",
      "Processing HUBB...\n",
      "Skipping HUBB: Not enough data\n",
      "Processing HUM...\n",
      "Skipping HUM: Not enough data\n",
      "Processing HBAN...\n",
      "Skipping HBAN: Not enough data\n",
      "Processing HII...\n",
      "Skipping HII: Not enough data\n",
      "Processing IBM...\n"
     ]
    },
    {
     "name": "stderr",
     "output_type": "stream",
     "text": [
      "\n",
      "\n",
      "1 Failed download:\n",
      "['IBM']: ConnectionError(MaxRetryError('HTTPSConnectionPool(host=\\'query2.finance.yahoo.com\\', port=443): Max retries exceeded with url: /v8/finance/chart/%ticker%?period1=1420088400&period2=1704085200&interval=1d&includePrePost=False&events=div%2Csplits%2CcapitalGains&crumb=sK4l77pf0SG (Caused by NameResolutionError(\"<urllib3.connection.HTTPSConnection object at 0x0000016574141040>: Failed to resolve \\'query2.finance.yahoo.com\\' ([Errno 11001] getaddrinfo failed)\"))'))\n",
      "[*********************100%***********************]  1 of 1 completed\n",
      "\n",
      "1 Failed download:\n",
      "['IEX']: ConnectionError(MaxRetryError('HTTPSConnectionPool(host=\\'query2.finance.yahoo.com\\', port=443): Max retries exceeded with url: /v8/finance/chart/%ticker%?period1=1420088400&period2=1704085200&interval=1d&includePrePost=False&events=div%2Csplits%2CcapitalGains&crumb=sK4l77pf0SG (Caused by NameResolutionError(\"<urllib3.connection.HTTPSConnection object at 0x0000016566D1D010>: Failed to resolve \\'query2.finance.yahoo.com\\' ([Errno 11001] getaddrinfo failed)\"))'))\n",
      "[*********************100%***********************]  1 of 1 completed\n",
      "\n",
      "1 Failed download:\n",
      "['IDXX']: ConnectionError(MaxRetryError('HTTPSConnectionPool(host=\\'query2.finance.yahoo.com\\', port=443): Max retries exceeded with url: /v8/finance/chart/%ticker%?period1=1420088400&period2=1704085200&interval=1d&includePrePost=False&events=div%2Csplits%2CcapitalGains&crumb=sK4l77pf0SG (Caused by NameResolutionError(\"<urllib3.connection.HTTPSConnection object at 0x0000016569DFFB30>: Failed to resolve \\'query2.finance.yahoo.com\\' ([Errno 11001] getaddrinfo failed)\"))'))\n",
      "[*********************100%***********************]  1 of 1 completed\n",
      "\n",
      "1 Failed download:\n",
      "['ITW']: ConnectionError(MaxRetryError('HTTPSConnectionPool(host=\\'query2.finance.yahoo.com\\', port=443): Max retries exceeded with url: /v8/finance/chart/%ticker%?period1=1420088400&period2=1704085200&interval=1d&includePrePost=False&events=div%2Csplits%2CcapitalGains&crumb=sK4l77pf0SG (Caused by NameResolutionError(\"<urllib3.connection.HTTPSConnection object at 0x00000165740D2E40>: Failed to resolve \\'query2.finance.yahoo.com\\' ([Errno 11001] getaddrinfo failed)\"))'))\n",
      "[*********************100%***********************]  1 of 1 completed\n",
      "\n",
      "1 Failed download:\n",
      "['INCY']: ConnectionError(MaxRetryError('HTTPSConnectionPool(host=\\'query2.finance.yahoo.com\\', port=443): Max retries exceeded with url: /v8/finance/chart/%ticker%?period1=1420088400&period2=1704085200&interval=1d&includePrePost=False&events=div%2Csplits%2CcapitalGains&crumb=sK4l77pf0SG (Caused by NameResolutionError(\"<urllib3.connection.HTTPSConnection object at 0x000001657417CD10>: Failed to resolve \\'query2.finance.yahoo.com\\' ([Errno 11001] getaddrinfo failed)\"))'))\n",
      "[*********************100%***********************]  1 of 1 completed\n",
      "\n",
      "1 Failed download:\n",
      "['IR']: ConnectionError(MaxRetryError('HTTPSConnectionPool(host=\\'query2.finance.yahoo.com\\', port=443): Max retries exceeded with url: /v8/finance/chart/%ticker%?period1=1420088400&period2=1704085200&interval=1d&includePrePost=False&events=div%2Csplits%2CcapitalGains&crumb=sK4l77pf0SG (Caused by NameResolutionError(\"<urllib3.connection.HTTPSConnection object at 0x000001657A0A2CF0>: Failed to resolve \\'query2.finance.yahoo.com\\' ([Errno 11001] getaddrinfo failed)\"))'))\n",
      "[*********************100%***********************]  1 of 1 completed\n",
      "\n",
      "1 Failed download:\n",
      "['PODD']: ConnectionError(MaxRetryError('HTTPSConnectionPool(host=\\'query2.finance.yahoo.com\\', port=443): Max retries exceeded with url: /v8/finance/chart/%ticker%?period1=1420088400&period2=1704085200&interval=1d&includePrePost=False&events=div%2Csplits%2CcapitalGains&crumb=sK4l77pf0SG (Caused by NameResolutionError(\"<urllib3.connection.HTTPSConnection object at 0x000001655DBCF5C0>: Failed to resolve \\'query2.finance.yahoo.com\\' ([Errno 11001] getaddrinfo failed)\"))'))\n",
      "[*********************100%***********************]  1 of 1 completed\n",
      "\n",
      "1 Failed download:\n",
      "['INTC']: ConnectionError(MaxRetryError('HTTPSConnectionPool(host=\\'query2.finance.yahoo.com\\', port=443): Max retries exceeded with url: /v8/finance/chart/%ticker%?period1=1420088400&period2=1704085200&interval=1d&includePrePost=False&events=div%2Csplits%2CcapitalGains&crumb=sK4l77pf0SG (Caused by NameResolutionError(\"<urllib3.connection.HTTPSConnection object at 0x000001655FDC61B0>: Failed to resolve \\'query2.finance.yahoo.com\\' ([Errno 11001] getaddrinfo failed)\"))'))\n",
      "[*********************100%***********************]  1 of 1 completed\n",
      "\n",
      "1 Failed download:\n",
      "['ICE']: ConnectionError(MaxRetryError('HTTPSConnectionPool(host=\\'query2.finance.yahoo.com\\', port=443): Max retries exceeded with url: /v8/finance/chart/%ticker%?period1=1420088400&period2=1704085200&interval=1d&includePrePost=False&events=div%2Csplits%2CcapitalGains&crumb=sK4l77pf0SG (Caused by NameResolutionError(\"<urllib3.connection.HTTPSConnection object at 0x00000165740D2F30>: Failed to resolve \\'query2.finance.yahoo.com\\' ([Errno 11001] getaddrinfo failed)\"))'))\n",
      "[*********************100%***********************]  1 of 1 completed\n",
      "\n",
      "1 Failed download:\n",
      "['IFF']: ConnectionError(MaxRetryError('HTTPSConnectionPool(host=\\'query2.finance.yahoo.com\\', port=443): Max retries exceeded with url: /v8/finance/chart/%ticker%?period1=1420088400&period2=1704085200&interval=1d&includePrePost=False&events=div%2Csplits%2CcapitalGains&crumb=sK4l77pf0SG (Caused by NameResolutionError(\"<urllib3.connection.HTTPSConnection object at 0x000001657A12CDD0>: Failed to resolve \\'query2.finance.yahoo.com\\' ([Errno 11001] getaddrinfo failed)\"))'))\n",
      "[*********************100%***********************]  1 of 1 completed\n",
      "\n",
      "1 Failed download:\n",
      "['IP']: ConnectionError(MaxRetryError('HTTPSConnectionPool(host=\\'query2.finance.yahoo.com\\', port=443): Max retries exceeded with url: /v8/finance/chart/%ticker%?period1=1420088400&period2=1704085200&interval=1d&includePrePost=False&events=div%2Csplits%2CcapitalGains&crumb=sK4l77pf0SG (Caused by NameResolutionError(\"<urllib3.connection.HTTPSConnection object at 0x000001657A12F0E0>: Failed to resolve \\'query2.finance.yahoo.com\\' ([Errno 11001] getaddrinfo failed)\"))'))\n",
      "[*********************100%***********************]  1 of 1 completed\n",
      "\n",
      "1 Failed download:\n",
      "['IPG']: ConnectionError(MaxRetryError('HTTPSConnectionPool(host=\\'query2.finance.yahoo.com\\', port=443): Max retries exceeded with url: /v8/finance/chart/%ticker%?period1=1420088400&period2=1704085200&interval=1d&includePrePost=False&events=div%2Csplits%2CcapitalGains&crumb=sK4l77pf0SG (Caused by NameResolutionError(\"<urllib3.connection.HTTPSConnection object at 0x0000016558B08980>: Failed to resolve \\'query2.finance.yahoo.com\\' ([Errno 11001] getaddrinfo failed)\"))'))\n",
      "[*********************100%***********************]  1 of 1 completed"
     ]
    },
    {
     "name": "stdout",
     "output_type": "stream",
     "text": [
      "Skipping IBM: Not enough data\n",
      "Processing IEX...\n",
      "Skipping IEX: Not enough data\n",
      "Processing IDXX...\n",
      "Skipping IDXX: Not enough data\n",
      "Processing ITW...\n",
      "Skipping ITW: Not enough data\n",
      "Processing INCY...\n",
      "Skipping INCY: Not enough data\n",
      "Processing IR...\n",
      "Skipping IR: Not enough data\n",
      "Processing PODD...\n",
      "Skipping PODD: Not enough data\n",
      "Processing INTC...\n",
      "Skipping INTC: Not enough data\n",
      "Processing ICE...\n",
      "Skipping ICE: Not enough data\n",
      "Processing IFF...\n",
      "Skipping IFF: Not enough data\n",
      "Processing IP...\n",
      "Skipping IP: Not enough data\n",
      "Processing IPG...\n",
      "Skipping IPG: Not enough data\n",
      "Processing INTU...\n"
     ]
    },
    {
     "name": "stderr",
     "output_type": "stream",
     "text": [
      "\n",
      "\n",
      "1 Failed download:\n",
      "['INTU']: ConnectionError(MaxRetryError('HTTPSConnectionPool(host=\\'query2.finance.yahoo.com\\', port=443): Max retries exceeded with url: /v8/finance/chart/%ticker%?period1=1420088400&period2=1704085200&interval=1d&includePrePost=False&events=div%2Csplits%2CcapitalGains&crumb=sK4l77pf0SG (Caused by NameResolutionError(\"<urllib3.connection.HTTPSConnection object at 0x0000016574142A80>: Failed to resolve \\'query2.finance.yahoo.com\\' ([Errno 11001] getaddrinfo failed)\"))'))\n",
      "[*********************100%***********************]  1 of 1 completed\n",
      "\n",
      "1 Failed download:\n",
      "['ISRG']: ConnectionError(MaxRetryError('HTTPSConnectionPool(host=\\'query2.finance.yahoo.com\\', port=443): Max retries exceeded with url: /v8/finance/chart/%ticker%?period1=1420088400&period2=1704085200&interval=1d&includePrePost=False&events=div%2Csplits%2CcapitalGains&crumb=sK4l77pf0SG (Caused by NameResolutionError(\"<urllib3.connection.HTTPSConnection object at 0x000001653CA92F00>: Failed to resolve \\'query2.finance.yahoo.com\\' ([Errno 11001] getaddrinfo failed)\"))'))\n",
      "[*********************100%***********************]  1 of 1 completed\n",
      "\n",
      "1 Failed download:\n",
      "['IVZ']: ConnectionError(MaxRetryError('HTTPSConnectionPool(host=\\'query2.finance.yahoo.com\\', port=443): Max retries exceeded with url: /v8/finance/chart/%ticker%?period1=1420088400&period2=1704085200&interval=1d&includePrePost=False&events=div%2Csplits%2CcapitalGains&crumb=sK4l77pf0SG (Caused by NameResolutionError(\"<urllib3.connection.HTTPSConnection object at 0x000001657A12EBA0>: Failed to resolve \\'query2.finance.yahoo.com\\' ([Errno 11001] getaddrinfo failed)\"))'))\n",
      "[*********************100%***********************]  1 of 1 completed\n",
      "\n",
      "1 Failed download:\n",
      "['INVH']: ConnectionError(MaxRetryError('HTTPSConnectionPool(host=\\'query2.finance.yahoo.com\\', port=443): Max retries exceeded with url: /v8/finance/chart/%ticker%?period1=1420088400&period2=1704085200&interval=1d&includePrePost=False&events=div%2Csplits%2CcapitalGains&crumb=sK4l77pf0SG (Caused by NameResolutionError(\"<urllib3.connection.HTTPSConnection object at 0x000001657A12EC60>: Failed to resolve \\'query2.finance.yahoo.com\\' ([Errno 11001] getaddrinfo failed)\"))'))\n",
      "[*********************100%***********************]  1 of 1 completed\n",
      "\n",
      "1 Failed download:\n",
      "['IQV']: ConnectionError(MaxRetryError('HTTPSConnectionPool(host=\\'query2.finance.yahoo.com\\', port=443): Max retries exceeded with url: /v8/finance/chart/%ticker%?period1=1420088400&period2=1704085200&interval=1d&includePrePost=False&events=div%2Csplits%2CcapitalGains&crumb=sK4l77pf0SG (Caused by NameResolutionError(\"<urllib3.connection.HTTPSConnection object at 0x0000016574140FE0>: Failed to resolve \\'query2.finance.yahoo.com\\' ([Errno 11001] getaddrinfo failed)\"))'))\n",
      "[*********************100%***********************]  1 of 1 completed\n",
      "\n",
      "1 Failed download:\n",
      "['IRM']: ConnectionError(MaxRetryError('HTTPSConnectionPool(host=\\'query2.finance.yahoo.com\\', port=443): Max retries exceeded with url: /v8/finance/chart/%ticker%?period1=1420088400&period2=1704085200&interval=1d&includePrePost=False&events=div%2Csplits%2CcapitalGains&crumb=sK4l77pf0SG (Caused by NameResolutionError(\"<urllib3.connection.HTTPSConnection object at 0x0000016569ED4050>: Failed to resolve \\'query2.finance.yahoo.com\\' ([Errno 11001] getaddrinfo failed)\"))'))\n",
      "[*********************100%***********************]  1 of 1 completed\n",
      "\n",
      "1 Failed download:\n",
      "['JBHT']: ConnectionError(MaxRetryError('HTTPSConnectionPool(host=\\'query2.finance.yahoo.com\\', port=443): Max retries exceeded with url: /v8/finance/chart/%ticker%?period1=1420088400&period2=1704085200&interval=1d&includePrePost=False&events=div%2Csplits%2CcapitalGains&crumb=sK4l77pf0SG (Caused by NameResolutionError(\"<urllib3.connection.HTTPSConnection object at 0x000001657A12D070>: Failed to resolve \\'query2.finance.yahoo.com\\' ([Errno 11001] getaddrinfo failed)\"))'))\n",
      "[*********************100%***********************]  1 of 1 completed\n",
      "\n",
      "1 Failed download:\n",
      "['JBL']: ConnectionError(MaxRetryError('HTTPSConnectionPool(host=\\'query2.finance.yahoo.com\\', port=443): Max retries exceeded with url: /v8/finance/chart/%ticker%?period1=1420088400&period2=1704085200&interval=1d&includePrePost=False&events=div%2Csplits%2CcapitalGains&crumb=sK4l77pf0SG (Caused by NameResolutionError(\"<urllib3.connection.HTTPSConnection object at 0x000001657A12D160>: Failed to resolve \\'query2.finance.yahoo.com\\' ([Errno 11001] getaddrinfo failed)\"))'))\n",
      "[*********************100%***********************]  1 of 1 completed\n",
      "\n",
      "1 Failed download:\n",
      "['JKHY']: ConnectionError(MaxRetryError('HTTPSConnectionPool(host=\\'query2.finance.yahoo.com\\', port=443): Max retries exceeded with url: /v8/finance/chart/%ticker%?period1=1420088400&period2=1704085200&interval=1d&includePrePost=False&events=div%2Csplits%2CcapitalGains&crumb=sK4l77pf0SG (Caused by NameResolutionError(\"<urllib3.connection.HTTPSConnection object at 0x000001657A12C590>: Failed to resolve \\'query2.finance.yahoo.com\\' ([Errno 11001] getaddrinfo failed)\"))'))\n",
      "[*********************100%***********************]  1 of 1 completed\n",
      "\n",
      "1 Failed download:\n",
      "['J']: ConnectionError(MaxRetryError('HTTPSConnectionPool(host=\\'query2.finance.yahoo.com\\', port=443): Max retries exceeded with url: /v8/finance/chart/%ticker%?period1=1420088400&period2=1704085200&interval=1d&includePrePost=False&events=div%2Csplits%2CcapitalGains&crumb=sK4l77pf0SG (Caused by NameResolutionError(\"<urllib3.connection.HTTPSConnection object at 0x000001653CA92F00>: Failed to resolve \\'query2.finance.yahoo.com\\' ([Errno 11001] getaddrinfo failed)\"))'))\n",
      "[*********************100%***********************]  1 of 1 completed\n",
      "\n",
      "1 Failed download:\n",
      "['JNJ']: ConnectionError(MaxRetryError('HTTPSConnectionPool(host=\\'query2.finance.yahoo.com\\', port=443): Max retries exceeded with url: /v8/finance/chart/%ticker%?period1=1420088400&period2=1704085200&interval=1d&includePrePost=False&events=div%2Csplits%2CcapitalGains&crumb=sK4l77pf0SG (Caused by NameResolutionError(\"<urllib3.connection.HTTPSConnection object at 0x000001657417E6C0>: Failed to resolve \\'query2.finance.yahoo.com\\' ([Errno 11001] getaddrinfo failed)\"))'))\n",
      "[*********************100%***********************]  1 of 1 completed\n",
      "\n",
      "1 Failed download:\n",
      "['JCI']: ConnectionError(MaxRetryError('HTTPSConnectionPool(host=\\'query2.finance.yahoo.com\\', port=443): Max retries exceeded with url: /v8/finance/chart/%ticker%?period1=1420088400&period2=1704085200&interval=1d&includePrePost=False&events=div%2Csplits%2CcapitalGains&crumb=sK4l77pf0SG (Caused by NameResolutionError(\"<urllib3.connection.HTTPSConnection object at 0x000001657A12F560>: Failed to resolve \\'query2.finance.yahoo.com\\' ([Errno 11001] getaddrinfo failed)\"))'))\n",
      "[*********************100%***********************]  1 of 1 completed\n",
      "\n",
      "1 Failed download:\n"
     ]
    },
    {
     "name": "stdout",
     "output_type": "stream",
     "text": [
      "Skipping INTU: Not enough data\n",
      "Processing ISRG...\n",
      "Skipping ISRG: Not enough data\n",
      "Processing IVZ...\n",
      "Skipping IVZ: Not enough data\n",
      "Processing INVH...\n",
      "Skipping INVH: Not enough data\n",
      "Processing IQV...\n",
      "Skipping IQV: Not enough data\n",
      "Processing IRM...\n",
      "Skipping IRM: Not enough data\n",
      "Processing JBHT...\n",
      "Skipping JBHT: Not enough data\n",
      "Processing JBL...\n",
      "Skipping JBL: Not enough data\n",
      "Processing JKHY...\n",
      "Skipping JKHY: Not enough data\n",
      "Processing J...\n",
      "Skipping J: Not enough data\n",
      "Processing JNJ...\n",
      "Skipping JNJ: Not enough data\n",
      "Processing JCI...\n",
      "Skipping JCI: Not enough data\n",
      "Processing JPM...\n"
     ]
    },
    {
     "name": "stderr",
     "output_type": "stream",
     "text": [
      "['JPM']: ConnectionError(MaxRetryError('HTTPSConnectionPool(host=\\'query2.finance.yahoo.com\\', port=443): Max retries exceeded with url: /v8/finance/chart/%ticker%?period1=1420088400&period2=1704085200&interval=1d&includePrePost=False&events=div%2Csplits%2CcapitalGains&crumb=sK4l77pf0SG (Caused by NameResolutionError(\"<urllib3.connection.HTTPSConnection object at 0x000001657A1683E0>: Failed to resolve \\'query2.finance.yahoo.com\\' ([Errno 11001] getaddrinfo failed)\"))'))\n",
      "[*********************100%***********************]  1 of 1 completed\n",
      "\n",
      "1 Failed download:\n",
      "['JNPR']: ConnectionError(MaxRetryError('HTTPSConnectionPool(host=\\'query2.finance.yahoo.com\\', port=443): Max retries exceeded with url: /v8/finance/chart/%ticker%?period1=1420088400&period2=1704085200&interval=1d&includePrePost=False&events=div%2Csplits%2CcapitalGains&crumb=sK4l77pf0SG (Caused by NameResolutionError(\"<urllib3.connection.HTTPSConnection object at 0x000001657A168CE0>: Failed to resolve \\'query2.finance.yahoo.com\\' ([Errno 11001] getaddrinfo failed)\"))'))\n",
      "[*********************100%***********************]  1 of 1 completed\n",
      "\n",
      "1 Failed download:\n",
      "['K']: ConnectionError(MaxRetryError('HTTPSConnectionPool(host=\\'query2.finance.yahoo.com\\', port=443): Max retries exceeded with url: /v8/finance/chart/%ticker%?period1=1420088400&period2=1704085200&interval=1d&includePrePost=False&events=div%2Csplits%2CcapitalGains&crumb=s%ticker%4l77pf0SG (Caused by NameResolutionError(\"<urllib3.connection.HTTPSConnection object at 0x00000165740D2F30>: Failed to resolve \\'query2.finance.yahoo.com\\' ([Errno 11001] getaddrinfo failed)\"))'))\n",
      "[*********************100%***********************]  1 of 1 completed\n",
      "\n",
      "1 Failed download:\n",
      "['KVUE']: ConnectionError(MaxRetryError('HTTPSConnectionPool(host=\\'query2.finance.yahoo.com\\', port=443): Max retries exceeded with url: /v8/finance/chart/%ticker%?period1=1420088400&period2=1704085200&interval=1d&includePrePost=False&events=div%2Csplits%2CcapitalGains&crumb=sK4l77pf0SG (Caused by NameResolutionError(\"<urllib3.connection.HTTPSConnection object at 0x0000016566D1C740>: Failed to resolve \\'query2.finance.yahoo.com\\' ([Errno 11001] getaddrinfo failed)\"))'))\n",
      "[*********************100%***********************]  1 of 1 completed\n",
      "\n",
      "1 Failed download:\n",
      "['KDP']: ConnectionError(MaxRetryError('HTTPSConnectionPool(host=\\'query2.finance.yahoo.com\\', port=443): Max retries exceeded with url: /v8/finance/chart/%ticker%?period1=1420088400&period2=1704085200&interval=1d&includePrePost=False&events=div%2Csplits%2CcapitalGains&crumb=sK4l77pf0SG (Caused by NameResolutionError(\"<urllib3.connection.HTTPSConnection object at 0x000001657A168F20>: Failed to resolve \\'query2.finance.yahoo.com\\' ([Errno 11001] getaddrinfo failed)\"))'))\n",
      "[*********************100%***********************]  1 of 1 completed\n",
      "\n",
      "1 Failed download:\n",
      "['KEY']: ConnectionError(MaxRetryError('HTTPSConnectionPool(host=\\'query2.finance.yahoo.com\\', port=443): Max retries exceeded with url: /v8/finance/chart/%ticker%?period1=1420088400&period2=1704085200&interval=1d&includePrePost=False&events=div%2Csplits%2CcapitalGains&crumb=sK4l77pf0SG (Caused by NameResolutionError(\"<urllib3.connection.HTTPSConnection object at 0x000001657A1695B0>: Failed to resolve \\'query2.finance.yahoo.com\\' ([Errno 11001] getaddrinfo failed)\"))'))\n",
      "[*********************100%***********************]  1 of 1 completed\n",
      "\n",
      "1 Failed download:\n",
      "['KEYS']: ConnectionError(MaxRetryError('HTTPSConnectionPool(host=\\'query2.finance.yahoo.com\\', port=443): Max retries exceeded with url: /v8/finance/chart/%ticker%?period1=1420088400&period2=1704085200&interval=1d&includePrePost=False&events=div%2Csplits%2CcapitalGains&crumb=sK4l77pf0SG (Caused by NameResolutionError(\"<urllib3.connection.HTTPSConnection object at 0x000001657A169E80>: Failed to resolve \\'query2.finance.yahoo.com\\' ([Errno 11001] getaddrinfo failed)\"))'))\n",
      "[*********************100%***********************]  1 of 1 completed\n",
      "\n",
      "1 Failed download:\n",
      "['KMB']: ConnectionError(MaxRetryError('HTTPSConnectionPool(host=\\'query2.finance.yahoo.com\\', port=443): Max retries exceeded with url: /v8/finance/chart/%ticker%?period1=1420088400&period2=1704085200&interval=1d&includePrePost=False&events=div%2Csplits%2CcapitalGains&crumb=sK4l77pf0SG (Caused by NameResolutionError(\"<urllib3.connection.HTTPSConnection object at 0x000001657A0A3680>: Failed to resolve \\'query2.finance.yahoo.com\\' ([Errno 11001] getaddrinfo failed)\"))'))\n",
      "[*********************100%***********************]  1 of 1 completed\n",
      "\n",
      "1 Failed download:\n",
      "['KIM']: ConnectionError(MaxRetryError('HTTPSConnectionPool(host=\\'query2.finance.yahoo.com\\', port=443): Max retries exceeded with url: /v8/finance/chart/%ticker%?period1=1420088400&period2=1704085200&interval=1d&includePrePost=False&events=div%2Csplits%2CcapitalGains&crumb=sK4l77pf0SG (Caused by NameResolutionError(\"<urllib3.connection.HTTPSConnection object at 0x000001657A12D6A0>: Failed to resolve \\'query2.finance.yahoo.com\\' ([Errno 11001] getaddrinfo failed)\"))'))\n",
      "[*********************100%***********************]  1 of 1 completed\n",
      "\n",
      "1 Failed download:\n",
      "['KMI']: ConnectionError(MaxRetryError('HTTPSConnectionPool(host=\\'query2.finance.yahoo.com\\', port=443): Max retries exceeded with url: /v8/finance/chart/%ticker%?period1=1420088400&period2=1704085200&interval=1d&includePrePost=False&events=div%2Csplits%2CcapitalGains&crumb=sK4l77pf0SG (Caused by NameResolutionError(\"<urllib3.connection.HTTPSConnection object at 0x000001657A169160>: Failed to resolve \\'query2.finance.yahoo.com\\' ([Errno 11001] getaddrinfo failed)\"))'))\n",
      "[*********************100%***********************]  1 of 1 completed"
     ]
    },
    {
     "name": "stdout",
     "output_type": "stream",
     "text": [
      "Skipping JPM: Not enough data\n",
      "Processing JNPR...\n",
      "Skipping JNPR: Not enough data\n",
      "Processing K...\n",
      "Skipping K: Not enough data\n",
      "Processing KVUE...\n",
      "Skipping KVUE: Not enough data\n",
      "Processing KDP...\n",
      "Skipping KDP: Not enough data\n",
      "Processing KEY...\n",
      "Skipping KEY: Not enough data\n",
      "Processing KEYS...\n",
      "Skipping KEYS: Not enough data\n",
      "Processing KMB...\n",
      "Skipping KMB: Not enough data\n",
      "Processing KIM...\n",
      "Skipping KIM: Not enough data\n",
      "Processing KMI...\n",
      "Skipping KMI: Not enough data\n",
      "Processing KKR...\n"
     ]
    },
    {
     "name": "stderr",
     "output_type": "stream",
     "text": [
      "\n",
      "\n",
      "1 Failed download:\n",
      "['KKR']: ConnectionError(MaxRetryError('HTTPSConnectionPool(host=\\'query2.finance.yahoo.com\\', port=443): Max retries exceeded with url: /v8/finance/chart/%ticker%?period1=1420088400&period2=1704085200&interval=1d&includePrePost=False&events=div%2Csplits%2CcapitalGains&crumb=sK4l77pf0SG (Caused by NameResolutionError(\"<urllib3.connection.HTTPSConnection object at 0x000001657A16A3C0>: Failed to resolve \\'query2.finance.yahoo.com\\' ([Errno 11001] getaddrinfo failed)\"))'))\n",
      "[*********************100%***********************]  1 of 1 completed\n",
      "\n",
      "1 Failed download:\n",
      "['KLAC']: ConnectionError(MaxRetryError('HTTPSConnectionPool(host=\\'query2.finance.yahoo.com\\', port=443): Max retries exceeded with url: /v8/finance/chart/%ticker%?period1=1420088400&period2=1704085200&interval=1d&includePrePost=False&events=div%2Csplits%2CcapitalGains&crumb=sK4l77pf0SG (Caused by NameResolutionError(\"<urllib3.connection.HTTPSConnection object at 0x000001657A16ADE0>: Failed to resolve \\'query2.finance.yahoo.com\\' ([Errno 11001] getaddrinfo failed)\"))'))\n",
      "[*********************100%***********************]  1 of 1 completed\n",
      "\n",
      "1 Failed download:\n",
      "['KHC']: ConnectionError(MaxRetryError('HTTPSConnectionPool(host=\\'query2.finance.yahoo.com\\', port=443): Max retries exceeded with url: /v8/finance/chart/%ticker%?period1=1420088400&period2=1704085200&interval=1d&includePrePost=False&events=div%2Csplits%2CcapitalGains&crumb=sK4l77pf0SG (Caused by NameResolutionError(\"<urllib3.connection.HTTPSConnection object at 0x000001657A0A0470>: Failed to resolve \\'query2.finance.yahoo.com\\' ([Errno 11001] getaddrinfo failed)\"))'))\n",
      "[*********************100%***********************]  1 of 1 completed\n",
      "\n",
      "1 Failed download:\n",
      "['KR']: ConnectionError(MaxRetryError('HTTPSConnectionPool(host=\\'query2.finance.yahoo.com\\', port=443): Max retries exceeded with url: /v8/finance/chart/%ticker%?period1=1420088400&period2=1704085200&interval=1d&includePrePost=False&events=div%2Csplits%2CcapitalGains&crumb=sK4l77pf0SG (Caused by NameResolutionError(\"<urllib3.connection.HTTPSConnection object at 0x000001657A16A690>: Failed to resolve \\'query2.finance.yahoo.com\\' ([Errno 11001] getaddrinfo failed)\"))'))\n",
      "[*********************100%***********************]  1 of 1 completed\n",
      "\n",
      "1 Failed download:\n",
      "['LHX']: ConnectionError(MaxRetryError('HTTPSConnectionPool(host=\\'query2.finance.yahoo.com\\', port=443): Max retries exceeded with url: /v8/finance/chart/%ticker%?period1=1420088400&period2=1704085200&interval=1d&includePrePost=False&events=div%2Csplits%2CcapitalGains&crumb=sK4l77pf0SG (Caused by NameResolutionError(\"<urllib3.connection.HTTPSConnection object at 0x000001657A168E60>: Failed to resolve \\'query2.finance.yahoo.com\\' ([Errno 11001] getaddrinfo failed)\"))'))\n",
      "[*********************100%***********************]  1 of 1 completed\n",
      "\n",
      "1 Failed download:\n",
      "['LH']: ConnectionError(MaxRetryError('HTTPSConnectionPool(host=\\'query2.finance.yahoo.com\\', port=443): Max retries exceeded with url: /v8/finance/chart/%ticker%?period1=1420088400&period2=1704085200&interval=1d&includePrePost=False&events=div%2Csplits%2CcapitalGains&crumb=sK4l77pf0SG (Caused by NameResolutionError(\"<urllib3.connection.HTTPSConnection object at 0x000001657A16B740>: Failed to resolve \\'query2.finance.yahoo.com\\' ([Errno 11001] getaddrinfo failed)\"))'))\n",
      "[*********************100%***********************]  1 of 1 completed\n",
      "\n",
      "1 Failed download:\n",
      "['LRCX']: ConnectionError(MaxRetryError('HTTPSConnectionPool(host=\\'query2.finance.yahoo.com\\', port=443): Max retries exceeded with url: /v8/finance/chart/%ticker%?period1=1420088400&period2=1704085200&interval=1d&includePrePost=False&events=div%2Csplits%2CcapitalGains&crumb=sK4l77pf0SG (Caused by NameResolutionError(\"<urllib3.connection.HTTPSConnection object at 0x000001657A14C0B0>: Failed to resolve \\'query2.finance.yahoo.com\\' ([Errno 11001] getaddrinfo failed)\"))'))\n",
      "[*********************100%***********************]  1 of 1 completed\n",
      "\n",
      "1 Failed download:\n",
      "['LW']: ConnectionError(MaxRetryError('HTTPSConnectionPool(host=\\'query2.finance.yahoo.com\\', port=443): Max retries exceeded with url: /v8/finance/chart/%ticker%?period1=1420088400&period2=1704085200&interval=1d&includePrePost=False&events=div%2Csplits%2CcapitalGains&crumb=sK4l77pf0SG (Caused by NameResolutionError(\"<urllib3.connection.HTTPSConnection object at 0x000001657A1692E0>: Failed to resolve \\'query2.finance.yahoo.com\\' ([Errno 11001] getaddrinfo failed)\"))'))\n",
      "[*********************100%***********************]  1 of 1 completed\n",
      "\n",
      "1 Failed download:\n",
      "['LVS']: ConnectionError(MaxRetryError('HTTPSConnectionPool(host=\\'query2.finance.yahoo.com\\', port=443): Max retries exceeded with url: /v8/finance/chart/%ticker%?period1=1420088400&period2=1704085200&interval=1d&includePrePost=False&events=div%2Csplits%2CcapitalGains&crumb=sK4l77pf0SG (Caused by NameResolutionError(\"<urllib3.connection.HTTPSConnection object at 0x000001657417CE00>: Failed to resolve \\'query2.finance.yahoo.com\\' ([Errno 11001] getaddrinfo failed)\"))'))\n",
      "[*********************100%***********************]  1 of 1 completed\n",
      "\n",
      "1 Failed download:\n",
      "['LDOS']: ConnectionError(MaxRetryError('HTTPSConnectionPool(host=\\'query2.finance.yahoo.com\\', port=443): Max retries exceeded with url: /v8/finance/chart/%ticker%?period1=1420088400&period2=1704085200&interval=1d&includePrePost=False&events=div%2Csplits%2CcapitalGains&crumb=sK4l77pf0SG (Caused by NameResolutionError(\"<urllib3.connection.HTTPSConnection object at 0x00000165740D3980>: Failed to resolve \\'query2.finance.yahoo.com\\' ([Errno 11001] getaddrinfo failed)\"))'))\n",
      "[*********************100%***********************]  1 of 1 completed\n",
      "\n",
      "1 Failed download:\n",
      "['LEN']: ConnectionError(MaxRetryError('HTTPSConnectionPool(host=\\'query2.finance.yahoo.com\\', port=443): Max retries exceeded with url: /v8/finance/chart/%ticker%?period1=1420088400&period2=1704085200&interval=1d&includePrePost=False&events=div%2Csplits%2CcapitalGains&crumb=sK4l77pf0SG (Caused by NameResolutionError(\"<urllib3.connection.HTTPSConnection object at 0x000001657A14C7A0>: Failed to resolve \\'query2.finance.yahoo.com\\' ([Errno 11001] getaddrinfo failed)\"))'))\n",
      "[*********************100%***********************]  1 of 1 completed\n",
      "\n",
      "1 Failed download:\n",
      "['LLY']: ConnectionError(MaxRetryError('HTTPSConnectionPool(host=\\'query2.finance.yahoo.com\\', port=443): Max retries exceeded with url: /v8/finance/chart/%ticker%?period1=1420088400&period2=1704085200&interval=1d&includePrePost=False&events=div%2Csplits%2CcapitalGains&crumb=sK4l77pf0SG (Caused by NameResolutionError(\"<urllib3.connection.HTTPSConnection object at 0x000001657A14D100>: Failed to resolve \\'query2.finance.yahoo.com\\' ([Errno 11001] getaddrinfo failed)\"))'))\n",
      "[*********************100%***********************]  1 of 1 completed"
     ]
    },
    {
     "name": "stdout",
     "output_type": "stream",
     "text": [
      "Skipping KKR: Not enough data\n",
      "Processing KLAC...\n",
      "Skipping KLAC: Not enough data\n",
      "Processing KHC...\n",
      "Skipping KHC: Not enough data\n",
      "Processing KR...\n",
      "Skipping KR: Not enough data\n",
      "Processing LHX...\n",
      "Skipping LHX: Not enough data\n",
      "Processing LH...\n",
      "Skipping LH: Not enough data\n",
      "Processing LRCX...\n",
      "Skipping LRCX: Not enough data\n",
      "Processing LW...\n",
      "Skipping LW: Not enough data\n",
      "Processing LVS...\n",
      "Skipping LVS: Not enough data\n",
      "Processing LDOS...\n",
      "Skipping LDOS: Not enough data\n",
      "Processing LEN...\n",
      "Skipping LEN: Not enough data\n",
      "Processing LLY...\n",
      "Skipping LLY: Not enough data\n",
      "Processing LIN...\n"
     ]
    },
    {
     "name": "stderr",
     "output_type": "stream",
     "text": [
      "\n",
      "\n",
      "1 Failed download:\n",
      "['LIN']: ConnectionError(MaxRetryError('HTTPSConnectionPool(host=\\'query2.finance.yahoo.com\\', port=443): Max retries exceeded with url: /v8/finance/chart/%ticker%?period1=1420088400&period2=1704085200&interval=1d&includePrePost=False&events=div%2Csplits%2CcapitalGains&crumb=sK4l77pf0SG (Caused by NameResolutionError(\"<urllib3.connection.HTTPSConnection object at 0x000001655FDC4830>: Failed to resolve \\'query2.finance.yahoo.com\\' ([Errno 11001] getaddrinfo failed)\"))'))\n",
      "[*********************100%***********************]  1 of 1 completed\n",
      "\n",
      "1 Failed download:\n",
      "['LYV']: ConnectionError(MaxRetryError('HTTPSConnectionPool(host=\\'query2.finance.yahoo.com\\', port=443): Max retries exceeded with url: /v8/finance/chart/%ticker%?period1=1420088400&period2=1704085200&interval=1d&includePrePost=False&events=div%2Csplits%2CcapitalGains&crumb=sK4l77pf0SG (Caused by NameResolutionError(\"<urllib3.connection.HTTPSConnection object at 0x000001657A16B5C0>: Failed to resolve \\'query2.finance.yahoo.com\\' ([Errno 11001] getaddrinfo failed)\"))'))\n",
      "[*********************100%***********************]  1 of 1 completed\n",
      "\n",
      "1 Failed download:\n",
      "['LKQ']: ConnectionError(MaxRetryError('HTTPSConnectionPool(host=\\'query2.finance.yahoo.com\\', port=443): Max retries exceeded with url: /v8/finance/chart/%ticker%?period1=1420088400&period2=1704085200&interval=1d&includePrePost=False&events=div%2Csplits%2CcapitalGains&crumb=sK4l77pf0SG (Caused by NameResolutionError(\"<urllib3.connection.HTTPSConnection object at 0x000001657A14D2E0>: Failed to resolve \\'query2.finance.yahoo.com\\' ([Errno 11001] getaddrinfo failed)\"))'))\n",
      "[*********************100%***********************]  1 of 1 completed\n",
      "\n",
      "1 Failed download:\n",
      "['LMT']: ConnectionError(MaxRetryError('HTTPSConnectionPool(host=\\'query2.finance.yahoo.com\\', port=443): Max retries exceeded with url: /v8/finance/chart/%ticker%?period1=1420088400&period2=1704085200&interval=1d&includePrePost=False&events=div%2Csplits%2CcapitalGains&crumb=sK4l77pf0SG (Caused by NameResolutionError(\"<urllib3.connection.HTTPSConnection object at 0x000001657A14D850>: Failed to resolve \\'query2.finance.yahoo.com\\' ([Errno 11001] getaddrinfo failed)\"))'))\n",
      "[*********************100%***********************]  1 of 1 completed\n",
      "\n",
      "1 Failed download:\n",
      "['L']: ConnectionError(MaxRetryError('HTTPSConnectionPool(host=\\'query2.finance.yahoo.com\\', port=443): Max retries exceeded with url: /v8/finance/chart/%ticker%?period1=1420088400&period2=1704085200&interval=1d&includePrePost=False&events=div%2Csplits%2CcapitalGains&crumb=sK4l77pf0SG (Caused by NameResolutionError(\"<urllib3.connection.HTTPSConnection object at 0x000001657A14DA90>: Failed to resolve \\'query2.finance.yahoo.com\\' ([Errno 11001] getaddrinfo failed)\"))'))\n",
      "[*********************100%***********************]  1 of 1 completed\n",
      "\n",
      "1 Failed download:\n",
      "['LOW']: ConnectionError(MaxRetryError('HTTPSConnectionPool(host=\\'query2.finance.yahoo.com\\', port=443): Max retries exceeded with url: /v8/finance/chart/%ticker%?period1=1420088400&period2=1704085200&interval=1d&includePrePost=False&events=div%2Csplits%2CcapitalGains&crumb=sK4l77pf0SG (Caused by NameResolutionError(\"<urllib3.connection.HTTPSConnection object at 0x000001657A16B3B0>: Failed to resolve \\'query2.finance.yahoo.com\\' ([Errno 11001] getaddrinfo failed)\"))'))\n",
      "[*********************100%***********************]  1 of 1 completed\n",
      "\n",
      "1 Failed download:\n",
      "['LULU']: ConnectionError(MaxRetryError('HTTPSConnectionPool(host=\\'query2.finance.yahoo.com\\', port=443): Max retries exceeded with url: /v8/finance/chart/%ticker%?period1=1420088400&period2=1704085200&interval=1d&includePrePost=False&events=div%2Csplits%2CcapitalGains&crumb=sK4l77pf0SG (Caused by NameResolutionError(\"<urllib3.connection.HTTPSConnection object at 0x000001657A16A6C0>: Failed to resolve \\'query2.finance.yahoo.com\\' ([Errno 11001] getaddrinfo failed)\"))'))\n",
      "[*********************100%***********************]  1 of 1 completed\n",
      "\n",
      "1 Failed download:\n",
      "['LYB']: ConnectionError(MaxRetryError('HTTPSConnectionPool(host=\\'query2.finance.yahoo.com\\', port=443): Max retries exceeded with url: /v8/finance/chart/%ticker%?period1=1420088400&period2=1704085200&interval=1d&includePrePost=False&events=div%2Csplits%2CcapitalGains&crumb=sK4l77pf0SG (Caused by NameResolutionError(\"<urllib3.connection.HTTPSConnection object at 0x000001657A168D10>: Failed to resolve \\'query2.finance.yahoo.com\\' ([Errno 11001] getaddrinfo failed)\"))'))\n",
      "[*********************100%***********************]  1 of 1 completed\n",
      "\n",
      "1 Failed download:\n",
      "['MTB']: ConnectionError(MaxRetryError('HTTPSConnectionPool(host=\\'query2.finance.yahoo.com\\', port=443): Max retries exceeded with url: /v8/finance/chart/%ticker%?period1=1420088400&period2=1704085200&interval=1d&includePrePost=False&events=div%2Csplits%2CcapitalGains&crumb=sK4l77pf0SG (Caused by NameResolutionError(\"<urllib3.connection.HTTPSConnection object at 0x000001657A12C590>: Failed to resolve \\'query2.finance.yahoo.com\\' ([Errno 11001] getaddrinfo failed)\"))'))\n",
      "[*********************100%***********************]  1 of 1 completed\n",
      "\n",
      "1 Failed download:\n",
      "['MRO']: ConnectionError(MaxRetryError('HTTPSConnectionPool(host=\\'query2.finance.yahoo.com\\', port=443): Max retries exceeded with url: /v8/finance/chart/%ticker%?period1=1420088400&period2=1704085200&interval=1d&includePrePost=False&events=div%2Csplits%2CcapitalGains&crumb=sK4l77pf0SG (Caused by NameResolutionError(\"<urllib3.connection.HTTPSConnection object at 0x000001657A12EC60>: Failed to resolve \\'query2.finance.yahoo.com\\' ([Errno 11001] getaddrinfo failed)\"))'))\n",
      "[*********************100%***********************]  1 of 1 completed\n",
      "\n",
      "1 Failed download:\n",
      "['MPC']: ConnectionError(MaxRetryError('HTTPSConnectionPool(host=\\'query2.finance.yahoo.com\\', port=443): Max retries exceeded with url: /v8/finance/chart/%ticker%?period1=1420088400&period2=1704085200&interval=1d&includePrePost=False&events=div%2Csplits%2CcapitalGains&crumb=sK4l77pf0SG (Caused by NameResolutionError(\"<urllib3.connection.HTTPSConnection object at 0x000001657A168C20>: Failed to resolve \\'query2.finance.yahoo.com\\' ([Errno 11001] getaddrinfo failed)\"))'))\n",
      "[*********************100%***********************]  1 of 1 completed\n",
      "\n",
      "1 Failed download:\n",
      "['MKTX']: ConnectionError(MaxRetryError('HTTPSConnectionPool(host=\\'query2.finance.yahoo.com\\', port=443): Max retries exceeded with url: /v8/finance/chart/%ticker%?period1=1420088400&period2=1704085200&interval=1d&includePrePost=False&events=div%2Csplits%2CcapitalGains&crumb=sK4l77pf0SG (Caused by NameResolutionError(\"<urllib3.connection.HTTPSConnection object at 0x000001657A1695B0>: Failed to resolve \\'query2.finance.yahoo.com\\' ([Errno 11001] getaddrinfo failed)\"))'))\n",
      "[*********************100%***********************]  1 of 1 completed\n",
      "\n",
      "1 Failed download:\n",
      "['MAR']: ConnectionError(MaxRetryError('HTTPSConnectionPool(host=\\'query2.finance.yahoo.com\\', port=443): Max retries exceeded with url: /v8/finance/chart/%ticker%?period1=1420088400&period2=1704085200&interval=1d&includePrePost=False&events=div%2Csplits%2CcapitalGains&crumb=sK4l77pf0SG (Caused by NameResolutionError(\"<urllib3.connection.HTTPSConnection object at 0x000001657A12E600>: Failed to resolve \\'query2.finance.yahoo.com\\' ([Errno 11001] getaddrinfo failed)\"))'))\n",
      "[*********************100%***********************]  1 of 1 completed"
     ]
    },
    {
     "name": "stdout",
     "output_type": "stream",
     "text": [
      "Skipping LIN: Not enough data\n",
      "Processing LYV...\n",
      "Skipping LYV: Not enough data\n",
      "Processing LKQ...\n",
      "Skipping LKQ: Not enough data\n",
      "Processing LMT...\n",
      "Skipping LMT: Not enough data\n",
      "Processing L...\n",
      "Skipping L: Not enough data\n",
      "Processing LOW...\n",
      "Skipping LOW: Not enough data\n",
      "Processing LULU...\n",
      "Skipping LULU: Not enough data\n",
      "Processing LYB...\n",
      "Skipping LYB: Not enough data\n",
      "Processing MTB...\n",
      "Skipping MTB: Not enough data\n",
      "Processing MRO...\n",
      "Skipping MRO: Not enough data\n",
      "Processing MPC...\n",
      "Skipping MPC: Not enough data\n",
      "Processing MKTX...\n",
      "Skipping MKTX: Not enough data\n",
      "Processing MAR...\n",
      "Skipping MAR: Not enough data\n",
      "Processing MMC...\n"
     ]
    },
    {
     "name": "stderr",
     "output_type": "stream",
     "text": [
      "\n",
      "\n",
      "1 Failed download:\n",
      "['MMC']: ConnectionError(MaxRetryError('HTTPSConnectionPool(host=\\'query2.finance.yahoo.com\\', port=443): Max retries exceeded with url: /v8/finance/chart/%ticker%?period1=1420088400&period2=1704085200&interval=1d&includePrePost=False&events=div%2Csplits%2CcapitalGains&crumb=sK4l77pf0SG (Caused by NameResolutionError(\"<urllib3.connection.HTTPSConnection object at 0x000001657A0A1D90>: Failed to resolve \\'query2.finance.yahoo.com\\' ([Errno 11001] getaddrinfo failed)\"))'))\n",
      "[*********************100%***********************]  1 of 1 completed\n",
      "\n",
      "1 Failed download:\n",
      "['MLM']: ConnectionError(MaxRetryError('HTTPSConnectionPool(host=\\'query2.finance.yahoo.com\\', port=443): Max retries exceeded with url: /v8/finance/chart/%ticker%?period1=1420088400&period2=1704085200&interval=1d&includePrePost=False&events=div%2Csplits%2CcapitalGains&crumb=sK4l77pf0SG (Caused by NameResolutionError(\"<urllib3.connection.HTTPSConnection object at 0x000001657417E900>: Failed to resolve \\'query2.finance.yahoo.com\\' ([Errno 11001] getaddrinfo failed)\"))'))\n",
      "[*********************100%***********************]  1 of 1 completed\n",
      "\n",
      "1 Failed download:\n",
      "['MAS']: ConnectionError(MaxRetryError('HTTPSConnectionPool(host=\\'query2.finance.yahoo.com\\', port=443): Max retries exceeded with url: /v8/finance/chart/%ticker%?period1=1420088400&period2=1704085200&interval=1d&includePrePost=False&events=div%2Csplits%2CcapitalGains&crumb=sK4l77pf0SG (Caused by NameResolutionError(\"<urllib3.connection.HTTPSConnection object at 0x0000016566D1C0B0>: Failed to resolve \\'query2.finance.yahoo.com\\' ([Errno 11001] getaddrinfo failed)\"))'))\n",
      "[*********************100%***********************]  1 of 1 completed\n",
      "\n",
      "1 Failed download:\n",
      "['MA']: ConnectionError(MaxRetryError('HTTPSConnectionPool(host=\\'query2.finance.yahoo.com\\', port=443): Max retries exceeded with url: /v8/finance/chart/%ticker%?period1=1420088400&period2=1704085200&interval=1d&includePrePost=False&events=div%2Csplits%2CcapitalGains&crumb=sK4l77pf0SG (Caused by NameResolutionError(\"<urllib3.connection.HTTPSConnection object at 0x000001657A12CB30>: Failed to resolve \\'query2.finance.yahoo.com\\' ([Errno 11001] getaddrinfo failed)\"))'))\n",
      "[*********************100%***********************]  1 of 1 completed"
     ]
    },
    {
     "name": "stdout",
     "output_type": "stream",
     "text": [
      "Skipping MMC: Not enough data\n",
      "Processing MLM...\n",
      "Skipping MLM: Not enough data\n",
      "Processing MAS...\n",
      "Skipping MAS: Not enough data\n",
      "Processing MA...\n",
      "Skipping MA: Not enough data\n",
      "Processing MTCH...\n"
     ]
    },
    {
     "name": "stderr",
     "output_type": "stream",
     "text": [
      "\n",
      "\n",
      "1 Failed download:\n",
      "['MTCH']: ConnectionError(MaxRetryError('HTTPSConnectionPool(host=\\'query2.finance.yahoo.com\\', port=443): Max retries exceeded with url: /v8/finance/chart/%ticker%?period1=1420088400&period2=1704085200&interval=1d&includePrePost=False&events=div%2Csplits%2CcapitalGains&crumb=sK4l77pf0SG (Caused by NameResolutionError(\"<urllib3.connection.HTTPSConnection object at 0x000001657A168320>: Failed to resolve \\'query2.finance.yahoo.com\\' ([Errno 11001] getaddrinfo failed)\"))'))\n",
      "[*********************100%***********************]  1 of 1 completed\n",
      "\n",
      "1 Failed download:\n",
      "['MKC']: ConnectionError(MaxRetryError('HTTPSConnectionPool(host=\\'query2.finance.yahoo.com\\', port=443): Max retries exceeded with url: /v8/finance/chart/%ticker%?period1=1420088400&period2=1704085200&interval=1d&includePrePost=False&events=div%2Csplits%2CcapitalGains&crumb=sK4l77pf0SG (Caused by NameResolutionError(\"<urllib3.connection.HTTPSConnection object at 0x000001657A1691F0>: Failed to resolve \\'query2.finance.yahoo.com\\' ([Errno 11001] getaddrinfo failed)\"))'))\n",
      "[*********************100%***********************]  1 of 1 completed\n",
      "\n",
      "1 Failed download:\n",
      "['MCD']: ConnectionError(MaxRetryError('HTTPSConnectionPool(host=\\'query2.finance.yahoo.com\\', port=443): Max retries exceeded with url: /v8/finance/chart/%ticker%?period1=1420088400&period2=1704085200&interval=1d&includePrePost=False&events=div%2Csplits%2CcapitalGains&crumb=sK4l77pf0SG (Caused by NameResolutionError(\"<urllib3.connection.HTTPSConnection object at 0x0000016566D1EAE0>: Failed to resolve \\'query2.finance.yahoo.com\\' ([Errno 11001] getaddrinfo failed)\"))'))\n",
      "[*********************100%***********************]  1 of 1 completed\n",
      "\n",
      "1 Failed download:\n",
      "['MCK']: ConnectionError(MaxRetryError('HTTPSConnectionPool(host=\\'query2.finance.yahoo.com\\', port=443): Max retries exceeded with url: /v8/finance/chart/%ticker%?period1=1420088400&period2=1704085200&interval=1d&includePrePost=False&events=div%2Csplits%2CcapitalGains&crumb=sK4l77pf0SG (Caused by NameResolutionError(\"<urllib3.connection.HTTPSConnection object at 0x00000165740D3EC0>: Failed to resolve \\'query2.finance.yahoo.com\\' ([Errno 11001] getaddrinfo failed)\"))'))\n",
      "[*********************100%***********************]  1 of 1 completed\n",
      "\n",
      "1 Failed download:\n",
      "['MDT']: ConnectionError(MaxRetryError('HTTPSConnectionPool(host=\\'query2.finance.yahoo.com\\', port=443): Max retries exceeded with url: /v8/finance/chart/%ticker%?period1=1420088400&period2=1704085200&interval=1d&includePrePost=False&events=div%2Csplits%2CcapitalGains&crumb=sK4l77pf0SG (Caused by NameResolutionError(\"<urllib3.connection.HTTPSConnection object at 0x000001657A12C830>: Failed to resolve \\'query2.finance.yahoo.com\\' ([Errno 11001] getaddrinfo failed)\"))'))\n",
      "[*********************100%***********************]  1 of 1 completed"
     ]
    },
    {
     "name": "stdout",
     "output_type": "stream",
     "text": [
      "Skipping MTCH: Not enough data\n",
      "Processing MKC...\n",
      "Skipping MKC: Not enough data\n",
      "Processing MCD...\n",
      "Skipping MCD: Not enough data\n",
      "Processing MCK...\n",
      "Skipping MCK: Not enough data\n",
      "Processing MDT...\n",
      "Skipping MDT: Not enough data\n",
      "Processing MRK...\n"
     ]
    },
    {
     "name": "stderr",
     "output_type": "stream",
     "text": [
      "\n",
      "\n",
      "1 Failed download:\n",
      "['MRK']: ConnectionError(MaxRetryError('HTTPSConnectionPool(host=\\'query2.finance.yahoo.com\\', port=443): Max retries exceeded with url: /v8/finance/chart/%ticker%?period1=1420088400&period2=1704085200&interval=1d&includePrePost=False&events=div%2Csplits%2CcapitalGains&crumb=sK4l77pf0SG (Caused by NameResolutionError(\"<urllib3.connection.HTTPSConnection object at 0x000001657A16BD70>: Failed to resolve \\'query2.finance.yahoo.com\\' ([Errno 11001] getaddrinfo failed)\"))'))\n",
      "[*********************100%***********************]  1 of 1 completed\n",
      "\n",
      "1 Failed download:\n",
      "['META']: ConnectionError(MaxRetryError('HTTPSConnectionPool(host=\\'query2.finance.yahoo.com\\', port=443): Max retries exceeded with url: /v8/finance/chart/%ticker%?period1=1420088400&period2=1704085200&interval=1d&includePrePost=False&events=div%2Csplits%2CcapitalGains&crumb=sK4l77pf0SG (Caused by NameResolutionError(\"<urllib3.connection.HTTPSConnection object at 0x000001657A168320>: Failed to resolve \\'query2.finance.yahoo.com\\' ([Errno 11001] getaddrinfo failed)\"))'))\n",
      "[*********************100%***********************]  1 of 1 completed\n",
      "\n",
      "1 Failed download:\n",
      "['MET']: ConnectionError(MaxRetryError('HTTPSConnectionPool(host=\\'query2.finance.yahoo.com\\', port=443): Max retries exceeded with url: /v8/finance/chart/%ticker%?period1=1420088400&period2=1704085200&interval=1d&includePrePost=False&events=div%2Csplits%2CcapitalGains&crumb=sK4l77pf0SG (Caused by NameResolutionError(\"<urllib3.connection.HTTPSConnection object at 0x0000016574140980>: Failed to resolve \\'query2.finance.yahoo.com\\' ([Errno 11001] getaddrinfo failed)\"))'))\n",
      "[*********************100%***********************]  1 of 1 completed\n",
      "\n",
      "1 Failed download:\n",
      "['MTD']: ConnectionError(MaxRetryError('HTTPSConnectionPool(host=\\'query2.finance.yahoo.com\\', port=443): Max retries exceeded with url: /v8/finance/chart/%ticker%?period1=1420088400&period2=1704085200&interval=1d&includePrePost=False&events=div%2Csplits%2CcapitalGains&crumb=sK4l77pf0SG (Caused by NameResolutionError(\"<urllib3.connection.HTTPSConnection object at 0x000001657A14C860>: Failed to resolve \\'query2.finance.yahoo.com\\' ([Errno 11001] getaddrinfo failed)\"))'))\n",
      "[*********************100%***********************]  1 of 1 completed\n",
      "\n",
      "1 Failed download:\n",
      "['MGM']: ConnectionError(MaxRetryError('HTTPSConnectionPool(host=\\'query2.finance.yahoo.com\\', port=443): Max retries exceeded with url: /v8/finance/chart/%ticker%?period1=1420088400&period2=1704085200&interval=1d&includePrePost=False&events=div%2Csplits%2CcapitalGains&crumb=sK4l77pf0SG (Caused by NameResolutionError(\"<urllib3.connection.HTTPSConnection object at 0x000001655DC55FD0>: Failed to resolve \\'query2.finance.yahoo.com\\' ([Errno 11001] getaddrinfo failed)\"))'))\n",
      "[*********************100%***********************]  1 of 1 completed\n",
      "\n",
      "1 Failed download:\n",
      "['MCHP']: ConnectionError(MaxRetryError('HTTPSConnectionPool(host=\\'query2.finance.yahoo.com\\', port=443): Max retries exceeded with url: /v8/finance/chart/%ticker%?period1=1420088400&period2=1704085200&interval=1d&includePrePost=False&events=div%2Csplits%2CcapitalGains&crumb=sK4l77pf0SG (Caused by NameResolutionError(\"<urllib3.connection.HTTPSConnection object at 0x000001657A12CAA0>: Failed to resolve \\'query2.finance.yahoo.com\\' ([Errno 11001] getaddrinfo failed)\"))'))\n",
      "[*********************100%***********************]  1 of 1 completed\n",
      "\n",
      "1 Failed download:\n",
      "['MU']: ConnectionError(MaxRetryError('HTTPSConnectionPool(host=\\'query2.finance.yahoo.com\\', port=443): Max retries exceeded with url: /v8/finance/chart/%ticker%?period1=1420088400&period2=1704085200&interval=1d&includePrePost=False&events=div%2Csplits%2CcapitalGains&crumb=sK4l77pf0SG (Caused by NameResolutionError(\"<urllib3.connection.HTTPSConnection object at 0x000001657A16B050>: Failed to resolve \\'query2.finance.yahoo.com\\' ([Errno 11001] getaddrinfo failed)\"))'))\n",
      "[*********************100%***********************]  1 of 1 completed\n",
      "\n",
      "1 Failed download:\n",
      "['MSFT']: ConnectionError(MaxRetryError('HTTPSConnectionPool(host=\\'query2.finance.yahoo.com\\', port=443): Max retries exceeded with url: /v8/finance/chart/%ticker%?period1=1420088400&period2=1704085200&interval=1d&includePrePost=False&events=div%2Csplits%2CcapitalGains&crumb=sK4l77pf0SG (Caused by NameResolutionError(\"<urllib3.connection.HTTPSConnection object at 0x000001657A14C2C0>: Failed to resolve \\'query2.finance.yahoo.com\\' ([Errno 11001] getaddrinfo failed)\"))'))\n",
      "[*********************100%***********************]  1 of 1 completed"
     ]
    },
    {
     "name": "stdout",
     "output_type": "stream",
     "text": [
      "Skipping MRK: Not enough data\n",
      "Processing META...\n",
      "Skipping META: Not enough data\n",
      "Processing MET...\n",
      "Skipping MET: Not enough data\n",
      "Processing MTD...\n",
      "Skipping MTD: Not enough data\n",
      "Processing MGM...\n",
      "Skipping MGM: Not enough data\n",
      "Processing MCHP...\n",
      "Skipping MCHP: Not enough data\n",
      "Processing MU...\n",
      "Skipping MU: Not enough data\n",
      "Processing MSFT...\n",
      "Skipping MSFT: Not enough data\n",
      "Processing MAA...\n"
     ]
    },
    {
     "name": "stderr",
     "output_type": "stream",
     "text": [
      "\n",
      "\n",
      "1 Failed download:\n",
      "['MAA']: ConnectionError(MaxRetryError('HTTPSConnectionPool(host=\\'query2.finance.yahoo.com\\', port=443): Max retries exceeded with url: /v8/finance/chart/%ticker%?period1=1420088400&period2=1704085200&interval=1d&includePrePost=False&events=div%2Csplits%2CcapitalGains&crumb=sK4l77pf0SG (Caused by NameResolutionError(\"<urllib3.connection.HTTPSConnection object at 0x000001657A14C350>: Failed to resolve \\'query2.finance.yahoo.com\\' ([Errno 11001] getaddrinfo failed)\"))'))\n",
      "[*********************100%***********************]  1 of 1 completed\n",
      "\n",
      "1 Failed download:\n",
      "['MRNA']: ConnectionError(MaxRetryError('HTTPSConnectionPool(host=\\'query2.finance.yahoo.com\\', port=443): Max retries exceeded with url: /v8/finance/chart/%ticker%?period1=1420088400&period2=1704085200&interval=1d&includePrePost=False&events=div%2Csplits%2CcapitalGains&crumb=sK4l77pf0SG (Caused by NameResolutionError(\"<urllib3.connection.HTTPSConnection object at 0x000001657417F7A0>: Failed to resolve \\'query2.finance.yahoo.com\\' ([Errno 11001] getaddrinfo failed)\"))'))\n",
      "[*********************100%***********************]  1 of 1 completed\n",
      "\n",
      "1 Failed download:\n",
      "['MHK']: ConnectionError(MaxRetryError('HTTPSConnectionPool(host=\\'query2.finance.yahoo.com\\', port=443): Max retries exceeded with url: /v8/finance/chart/%ticker%?period1=1420088400&period2=1704085200&interval=1d&includePrePost=False&events=div%2Csplits%2CcapitalGains&crumb=sK4l77pf0SG (Caused by NameResolutionError(\"<urllib3.connection.HTTPSConnection object at 0x000001657A16BF50>: Failed to resolve \\'query2.finance.yahoo.com\\' ([Errno 11001] getaddrinfo failed)\"))'))\n",
      "[*********************100%***********************]  1 of 1 completed\n",
      "\n",
      "1 Failed download:\n",
      "['MOH']: ConnectionError(MaxRetryError('HTTPSConnectionPool(host=\\'query2.finance.yahoo.com\\', port=443): Max retries exceeded with url: /v8/finance/chart/%ticker%?period1=1420088400&period2=1704085200&interval=1d&includePrePost=False&events=div%2Csplits%2CcapitalGains&crumb=sK4l77pf0SG (Caused by NameResolutionError(\"<urllib3.connection.HTTPSConnection object at 0x000001657A14E7B0>: Failed to resolve \\'query2.finance.yahoo.com\\' ([Errno 11001] getaddrinfo failed)\"))'))\n",
      "[*********************100%***********************]  1 of 1 completed\n",
      "\n",
      "1 Failed download:\n",
      "['TAP']: ConnectionError(MaxRetryError('HTTPSConnectionPool(host=\\'query2.finance.yahoo.com\\', port=443): Max retries exceeded with url: /v8/finance/chart/%ticker%?period1=1420088400&period2=1704085200&interval=1d&includePrePost=False&events=div%2Csplits%2CcapitalGains&crumb=sK4l77pf0SG (Caused by NameResolutionError(\"<urllib3.connection.HTTPSConnection object at 0x000001657A14E9F0>: Failed to resolve \\'query2.finance.yahoo.com\\' ([Errno 11001] getaddrinfo failed)\"))'))\n",
      "[*********************100%***********************]  1 of 1 completed\n",
      "\n",
      "1 Failed download:\n",
      "['MDLZ']: ConnectionError(MaxRetryError('HTTPSConnectionPool(host=\\'query2.finance.yahoo.com\\', port=443): Max retries exceeded with url: /v8/finance/chart/%ticker%?period1=1420088400&period2=1704085200&interval=1d&includePrePost=False&events=div%2Csplits%2CcapitalGains&crumb=sK4l77pf0SG (Caused by NameResolutionError(\"<urllib3.connection.HTTPSConnection object at 0x000001657A14F440>: Failed to resolve \\'query2.finance.yahoo.com\\' ([Errno 11001] getaddrinfo failed)\"))'))\n",
      "[*********************100%***********************]  1 of 1 completed\n",
      "\n",
      "1 Failed download:\n",
      "['MPWR']: ConnectionError(MaxRetryError('HTTPSConnectionPool(host=\\'query2.finance.yahoo.com\\', port=443): Max retries exceeded with url: /v8/finance/chart/%ticker%?period1=1420088400&period2=1704085200&interval=1d&includePrePost=False&events=div%2Csplits%2CcapitalGains&crumb=sK4l77pf0SG (Caused by NameResolutionError(\"<urllib3.connection.HTTPSConnection object at 0x000001657A0A3770>: Failed to resolve \\'query2.finance.yahoo.com\\' ([Errno 11001] getaddrinfo failed)\"))'))\n",
      "[*********************100%***********************]  1 of 1 completed\n",
      "\n",
      "1 Failed download:\n",
      "['MNST']: ConnectionError(MaxRetryError('HTTPSConnectionPool(host=\\'query2.finance.yahoo.com\\', port=443): Max retries exceeded with url: /v8/finance/chart/%ticker%?period1=1420088400&period2=1704085200&interval=1d&includePrePost=False&events=div%2Csplits%2CcapitalGains&crumb=sK4l77pf0SG (Caused by NameResolutionError(\"<urllib3.connection.HTTPSConnection object at 0x000001657A12CEF0>: Failed to resolve \\'query2.finance.yahoo.com\\' ([Errno 11001] getaddrinfo failed)\"))'))\n",
      "[*********************100%***********************]  1 of 1 completed\n",
      "\n",
      "1 Failed download:\n",
      "['MCO']: ConnectionError(MaxRetryError('HTTPSConnectionPool(host=\\'query2.finance.yahoo.com\\', port=443): Max retries exceeded with url: /v8/finance/chart/%ticker%?period1=1420088400&period2=1704085200&interval=1d&includePrePost=False&events=div%2Csplits%2CcapitalGains&crumb=sK4l77pf0SG (Caused by NameResolutionError(\"<urllib3.connection.HTTPSConnection object at 0x000001657A14EAB0>: Failed to resolve \\'query2.finance.yahoo.com\\' ([Errno 11001] getaddrinfo failed)\"))'))\n",
      "[*********************100%***********************]  1 of 1 completed\n",
      "\n",
      "1 Failed download:\n",
      "['MS']: ConnectionError(MaxRetryError('HTTPSConnectionPool(host=\\'query2.finance.yahoo.com\\', port=443): Max retries exceeded with url: /v8/finance/chart/%ticker%?period1=1420088400&period2=1704085200&interval=1d&includePrePost=False&events=div%2Csplits%2CcapitalGains&crumb=sK4l77pf0SG (Caused by NameResolutionError(\"<urllib3.connection.HTTPSConnection object at 0x000001657A14FB90>: Failed to resolve \\'query2.finance.yahoo.com\\' ([Errno 11001] getaddrinfo failed)\"))'))\n",
      "[*********************100%***********************]  1 of 1 completed\n",
      "\n",
      "1 Failed download:\n",
      "['MOS']: ConnectionError(MaxRetryError('HTTPSConnectionPool(host=\\'query2.finance.yahoo.com\\', port=443): Max retries exceeded with url: /v8/finance/chart/%ticker%?period1=1420088400&period2=1704085200&interval=1d&includePrePost=False&events=div%2Csplits%2CcapitalGains&crumb=sK4l77pf0SG (Caused by NameResolutionError(\"<urllib3.connection.HTTPSConnection object at 0x000001657A094560>: Failed to resolve \\'query2.finance.yahoo.com\\' ([Errno 11001] getaddrinfo failed)\"))'))\n",
      "[*********************100%***********************]  1 of 1 completed\n",
      "\n",
      "1 Failed download:\n",
      "['MSI']: ConnectionError(MaxRetryError('HTTPSConnectionPool(host=\\'query2.finance.yahoo.com\\', port=443): Max retries exceeded with url: /v8/finance/chart/%ticker%?period1=1420088400&period2=1704085200&interval=1d&includePrePost=False&events=div%2Csplits%2CcapitalGains&crumb=sK4l77pf0SG (Caused by NameResolutionError(\"<urllib3.connection.HTTPSConnection object at 0x000001657A14D910>: Failed to resolve \\'query2.finance.yahoo.com\\' ([Errno 11001] getaddrinfo failed)\"))'))\n"
     ]
    },
    {
     "name": "stdout",
     "output_type": "stream",
     "text": [
      "Skipping MAA: Not enough data\n",
      "Processing MRNA...\n",
      "Skipping MRNA: Not enough data\n",
      "Processing MHK...\n",
      "Skipping MHK: Not enough data\n",
      "Processing MOH...\n",
      "Skipping MOH: Not enough data\n",
      "Processing TAP...\n",
      "Skipping TAP: Not enough data\n",
      "Processing MDLZ...\n",
      "Skipping MDLZ: Not enough data\n",
      "Processing MPWR...\n",
      "Skipping MPWR: Not enough data\n",
      "Processing MNST...\n",
      "Skipping MNST: Not enough data\n",
      "Processing MCO...\n",
      "Skipping MCO: Not enough data\n",
      "Processing MS...\n",
      "Skipping MS: Not enough data\n",
      "Processing MOS...\n",
      "Skipping MOS: Not enough data\n",
      "Processing MSI...\n",
      "Skipping MSI: Not enough data\n",
      "Processing MSCI...\n"
     ]
    },
    {
     "name": "stderr",
     "output_type": "stream",
     "text": [
      "[*********************100%***********************]  1 of 1 completed\n",
      "\n",
      "1 Failed download:\n",
      "['MSCI']: ConnectionError(MaxRetryError('HTTPSConnectionPool(host=\\'query2.finance.yahoo.com\\', port=443): Max retries exceeded with url: /v8/finance/chart/%ticker%?period1=1420088400&period2=1704085200&interval=1d&includePrePost=False&events=div%2Csplits%2CcapitalGains&crumb=sK4l77pf0SG (Caused by NameResolutionError(\"<urllib3.connection.HTTPSConnection object at 0x000001657417F6B0>: Failed to resolve \\'query2.finance.yahoo.com\\' ([Errno 11001] getaddrinfo failed)\"))'))\n",
      "[*********************100%***********************]  1 of 1 completed\n",
      "\n",
      "1 Failed download:\n",
      "['NDAQ']: ConnectionError(MaxRetryError('HTTPSConnectionPool(host=\\'query2.finance.yahoo.com\\', port=443): Max retries exceeded with url: /v8/finance/chart/%ticker%?period1=1420088400&period2=1704085200&interval=1d&includePrePost=False&events=div%2Csplits%2CcapitalGains&crumb=sK4l77pf0SG (Caused by NameResolutionError(\"<urllib3.connection.HTTPSConnection object at 0x000001657A168A40>: Failed to resolve \\'query2.finance.yahoo.com\\' ([Errno 11001] getaddrinfo failed)\"))'))\n",
      "[*********************100%***********************]  1 of 1 completed\n",
      "\n",
      "1 Failed download:\n",
      "['NTAP']: ConnectionError(MaxRetryError('HTTPSConnectionPool(host=\\'query2.finance.yahoo.com\\', port=443): Max retries exceeded with url: /v8/finance/chart/%ticker%?period1=1420088400&period2=1704085200&interval=1d&includePrePost=False&events=div%2Csplits%2CcapitalGains&crumb=sK4l77pf0SG (Caused by NameResolutionError(\"<urllib3.connection.HTTPSConnection object at 0x000001657A094CB0>: Failed to resolve \\'query2.finance.yahoo.com\\' ([Errno 11001] getaddrinfo failed)\"))'))\n",
      "[*********************100%***********************]  1 of 1 completed\n",
      "\n",
      "1 Failed download:\n",
      "['NFLX']: ConnectionError(MaxRetryError('HTTPSConnectionPool(host=\\'query2.finance.yahoo.com\\', port=443): Max retries exceeded with url: /v8/finance/chart/%ticker%?period1=1420088400&period2=1704085200&interval=1d&includePrePost=False&events=div%2Csplits%2CcapitalGains&crumb=sK4l77pf0SG (Caused by NameResolutionError(\"<urllib3.connection.HTTPSConnection object at 0x000001657A095670>: Failed to resolve \\'query2.finance.yahoo.com\\' ([Errno 11001] getaddrinfo failed)\"))'))\n",
      "[*********************100%***********************]  1 of 1 completed\n",
      "\n",
      "1 Failed download:\n",
      "['NEM']: ConnectionError(MaxRetryError('HTTPSConnectionPool(host=\\'query2.finance.yahoo.com\\', port=443): Max retries exceeded with url: /v8/finance/chart/%ticker%?period1=1420088400&period2=1704085200&interval=1d&includePrePost=False&events=div%2Csplits%2CcapitalGains&crumb=sK4l77pf0SG (Caused by NameResolutionError(\"<urllib3.connection.HTTPSConnection object at 0x000001657A168200>: Failed to resolve \\'query2.finance.yahoo.com\\' ([Errno 11001] getaddrinfo failed)\"))'))\n",
      "[*********************100%***********************]  1 of 1 completed\n",
      "\n",
      "1 Failed download:\n",
      "['NWSA']: ConnectionError(MaxRetryError('HTTPSConnectionPool(host=\\'query2.finance.yahoo.com\\', port=443): Max retries exceeded with url: /v8/finance/chart/%ticker%?period1=1420088400&period2=1704085200&interval=1d&includePrePost=False&events=div%2Csplits%2CcapitalGains&crumb=sK4l77pf0SG (Caused by NameResolutionError(\"<urllib3.connection.HTTPSConnection object at 0x000001657A14CBF0>: Failed to resolve \\'query2.finance.yahoo.com\\' ([Errno 11001] getaddrinfo failed)\"))'))\n",
      "[*********************100%***********************]  1 of 1 completed\n",
      "\n",
      "1 Failed download:\n",
      "['NWS']: ConnectionError(MaxRetryError('HTTPSConnectionPool(host=\\'query2.finance.yahoo.com\\', port=443): Max retries exceeded with url: /v8/finance/chart/%ticker%?period1=1420088400&period2=1704085200&interval=1d&includePrePost=False&events=div%2Csplits%2CcapitalGains&crumb=sK4l77pf0SG (Caused by NameResolutionError(\"<urllib3.connection.HTTPSConnection object at 0x000001657A095970>: Failed to resolve \\'query2.finance.yahoo.com\\' ([Errno 11001] getaddrinfo failed)\"))'))\n",
      "[*********************100%***********************]  1 of 1 completed\n",
      "\n",
      "1 Failed download:\n",
      "['NEE']: ConnectionError(MaxRetryError('HTTPSConnectionPool(host=\\'query2.finance.yahoo.com\\', port=443): Max retries exceeded with url: /v8/finance/chart/%ticker%?period1=1420088400&period2=1704085200&interval=1d&includePrePost=False&events=div%2Csplits%2CcapitalGains&crumb=sK4l77pf0SG (Caused by NameResolutionError(\"<urllib3.connection.HTTPSConnection object at 0x000001657A095C70>: Failed to resolve \\'query2.finance.yahoo.com\\' ([Errno 11001] getaddrinfo failed)\"))'))\n",
      "[*********************100%***********************]  1 of 1 completed\n",
      "\n",
      "1 Failed download:\n",
      "['NKE']: ConnectionError(MaxRetryError('HTTPSConnectionPool(host=\\'query2.finance.yahoo.com\\', port=443): Max retries exceeded with url: /v8/finance/chart/%ticker%?period1=1420088400&period2=1704085200&interval=1d&includePrePost=False&events=div%2Csplits%2CcapitalGains&crumb=sK4l77pf0SG (Caused by NameResolutionError(\"<urllib3.connection.HTTPSConnection object at 0x000001657A0965A0>: Failed to resolve \\'query2.finance.yahoo.com\\' ([Errno 11001] getaddrinfo failed)\"))'))\n",
      "[*********************100%***********************]  1 of 1 completed\n",
      "\n",
      "1 Failed download:\n",
      "['NI']: ConnectionError(MaxRetryError('HTTPSConnectionPool(host=\\'query2.finance.yahoo.com\\', port=443): Max retries exceeded with url: /v8/finance/chart/%ticker%?period1=1420088400&period2=1704085200&interval=1d&includePrePost=False&events=div%2Csplits%2CcapitalGains&crumb=sK4l77pf0SG (Caused by NameResolutionError(\"<urllib3.connection.HTTPSConnection object at 0x000001657A12FAD0>: Failed to resolve \\'query2.finance.yahoo.com\\' ([Errno 11001] getaddrinfo failed)\"))'))\n"
     ]
    },
    {
     "name": "stdout",
     "output_type": "stream",
     "text": [
      "Skipping MSCI: Not enough data\n",
      "Processing NDAQ...\n",
      "Skipping NDAQ: Not enough data\n",
      "Processing NTAP...\n",
      "Skipping NTAP: Not enough data\n",
      "Processing NFLX...\n",
      "Skipping NFLX: Not enough data\n",
      "Processing NEM...\n",
      "Skipping NEM: Not enough data\n",
      "Processing NWSA...\n",
      "Skipping NWSA: Not enough data\n",
      "Processing NWS...\n",
      "Skipping NWS: Not enough data\n",
      "Processing NEE...\n",
      "Skipping NEE: Not enough data\n",
      "Processing NKE...\n",
      "Skipping NKE: Not enough data\n",
      "Processing NI...\n"
     ]
    },
    {
     "name": "stderr",
     "output_type": "stream",
     "text": [
      "[*********************100%***********************]  1 of 1 completed\n",
      "\n",
      "1 Failed download:\n",
      "['NDSN']: ConnectionError(MaxRetryError('HTTPSConnectionPool(host=\\'query2.finance.yahoo.com\\', port=443): Max retries exceeded with url: /v8/finance/chart/%ticker%?period1=1420088400&period2=1704085200&interval=1d&includePrePost=False&events=div%2Csplits%2CcapitalGains&crumb=sK4l77pf0SG (Caused by NameResolutionError(\"<urllib3.connection.HTTPSConnection object at 0x000001657A16A3F0>: Failed to resolve \\'query2.finance.yahoo.com\\' ([Errno 11001] getaddrinfo failed)\"))'))\n",
      "[*********************100%***********************]  1 of 1 completed\n",
      "\n",
      "1 Failed download:\n",
      "['NSC']: ConnectionError(MaxRetryError('HTTPSConnectionPool(host=\\'query2.finance.yahoo.com\\', port=443): Max retries exceeded with url: /v8/finance/chart/%ticker%?period1=1420088400&period2=1704085200&interval=1d&includePrePost=False&events=div%2Csplits%2CcapitalGains&crumb=sK4l77pf0SG (Caused by NameResolutionError(\"<urllib3.connection.HTTPSConnection object at 0x000001657A094D10>: Failed to resolve \\'query2.finance.yahoo.com\\' ([Errno 11001] getaddrinfo failed)\"))'))\n",
      "[*********************100%***********************]  1 of 1 completed\n",
      "\n",
      "1 Failed download:\n",
      "['NTRS']: ConnectionError(MaxRetryError('HTTPSConnectionPool(host=\\'query2.finance.yahoo.com\\', port=443): Max retries exceeded with url: /v8/finance/chart/%ticker%?period1=1420088400&period2=1704085200&interval=1d&includePrePost=False&events=div%2Csplits%2CcapitalGains&crumb=sK4l77pf0SG (Caused by NameResolutionError(\"<urllib3.connection.HTTPSConnection object at 0x000001657A096E40>: Failed to resolve \\'query2.finance.yahoo.com\\' ([Errno 11001] getaddrinfo failed)\"))'))\n",
      "[*********************100%***********************]  1 of 1 completed\n",
      "\n",
      "1 Failed download:\n",
      "['NOC']: ConnectionError(MaxRetryError('HTTPSConnectionPool(host=\\'query2.finance.yahoo.com\\', port=443): Max retries exceeded with url: /v8/finance/chart/%ticker%?period1=1420088400&period2=1704085200&interval=1d&includePrePost=False&events=div%2Csplits%2CcapitalGains&crumb=sK4l77pf0SG (Caused by NameResolutionError(\"<urllib3.connection.HTTPSConnection object at 0x000001657A097770>: Failed to resolve \\'query2.finance.yahoo.com\\' ([Errno 11001] getaddrinfo failed)\"))'))\n",
      "[*********************100%***********************]  1 of 1 completed\n",
      "\n",
      "1 Failed download:\n",
      "['NCLH']: ConnectionError(MaxRetryError('HTTPSConnectionPool(host=\\'query2.finance.yahoo.com\\', port=443): Max retries exceeded with url: /v8/finance/chart/%ticker%?period1=1420088400&period2=1704085200&interval=1d&includePrePost=False&events=div%2Csplits%2CcapitalGains&crumb=sK4l77pf0SG (Caused by NameResolutionError(\"<urllib3.connection.HTTPSConnection object at 0x000001657A12F500>: Failed to resolve \\'query2.finance.yahoo.com\\' ([Errno 11001] getaddrinfo failed)\"))'))\n",
      "[*********************100%***********************]  1 of 1 completed\n",
      "\n",
      "1 Failed download:\n",
      "['NRG']: ConnectionError(MaxRetryError('HTTPSConnectionPool(host=\\'query2.finance.yahoo.com\\', port=443): Max retries exceeded with url: /v8/finance/chart/%ticker%?period1=1420088400&period2=1704085200&interval=1d&includePrePost=False&events=div%2Csplits%2CcapitalGains&crumb=sK4l77pf0SG (Caused by NameResolutionError(\"<urllib3.connection.HTTPSConnection object at 0x000001657A0967E0>: Failed to resolve \\'query2.finance.yahoo.com\\' ([Errno 11001] getaddrinfo failed)\"))'))\n",
      "[*********************100%***********************]  1 of 1 completed\n",
      "\n",
      "1 Failed download:\n",
      "['NUE']: ConnectionError(MaxRetryError('HTTPSConnectionPool(host=\\'query2.finance.yahoo.com\\', port=443): Max retries exceeded with url: /v8/finance/chart/%ticker%?period1=1420088400&period2=1704085200&interval=1d&includePrePost=False&events=div%2Csplits%2CcapitalGains&crumb=sK4l77pf0SG (Caused by NameResolutionError(\"<urllib3.connection.HTTPSConnection object at 0x000001657A095A90>: Failed to resolve \\'query2.finance.yahoo.com\\' ([Errno 11001] getaddrinfo failed)\"))'))\n",
      "[*********************100%***********************]  1 of 1 completed\n",
      "\n",
      "1 Failed download:\n",
      "['NVDA']: ConnectionError(MaxRetryError('HTTPSConnectionPool(host=\\'query2.finance.yahoo.com\\', port=443): Max retries exceeded with url: /v8/finance/chart/%ticker%?period1=1420088400&period2=1704085200&interval=1d&includePrePost=False&events=div%2Csplits%2CcapitalGains&crumb=sK4l77pf0SG (Caused by NameResolutionError(\"<urllib3.connection.HTTPSConnection object at 0x000001657A12D580>: Failed to resolve \\'query2.finance.yahoo.com\\' ([Errno 11001] getaddrinfo failed)\"))'))\n",
      "[*********************100%***********************]  1 of 1 completed\n",
      "\n",
      "1 Failed download:\n",
      "['NVR']: ConnectionError(MaxRetryError('HTTPSConnectionPool(host=\\'query2.finance.yahoo.com\\', port=443): Max retries exceeded with url: /v8/finance/chart/%ticker%?period1=1420088400&period2=1704085200&interval=1d&includePrePost=False&events=div%2Csplits%2CcapitalGains&crumb=sK4l77pf0SG (Caused by NameResolutionError(\"<urllib3.connection.HTTPSConnection object at 0x000001657A150890>: Failed to resolve \\'query2.finance.yahoo.com\\' ([Errno 11001] getaddrinfo failed)\"))'))\n",
      "[*********************100%***********************]  1 of 1 completed\n",
      "\n",
      "1 Failed download:\n",
      "['NXPI']: ConnectionError(MaxRetryError('HTTPSConnectionPool(host=\\'query2.finance.yahoo.com\\', port=443): Max retries exceeded with url: /v8/finance/chart/%ticker%?period1=1420088400&period2=1704085200&interval=1d&includePrePost=False&events=div%2Csplits%2CcapitalGains&crumb=sK4l77pf0SG (Caused by NameResolutionError(\"<urllib3.connection.HTTPSConnection object at 0x000001657A0950D0>: Failed to resolve \\'query2.finance.yahoo.com\\' ([Errno 11001] getaddrinfo failed)\"))'))\n",
      "[*********************100%***********************]  1 of 1 completed\n",
      "\n",
      "1 Failed download:\n",
      "['ORLY']: ConnectionError(MaxRetryError('HTTPSConnectionPool(host=\\'query2.finance.yahoo.com\\', port=443): Max retries exceeded with url: /v8/finance/chart/%ticker%?period1=1420088400&period2=1704085200&interval=1d&includePrePost=False&events=div%2Csplits%2CcapitalGains&crumb=sK4l77pf0SG (Caused by NameResolutionError(\"<urllib3.connection.HTTPSConnection object at 0x0000016569EB7140>: Failed to resolve \\'query2.finance.yahoo.com\\' ([Errno 11001] getaddrinfo failed)\"))'))\n",
      "[*********************100%***********************]  1 of 1 completed"
     ]
    },
    {
     "name": "stdout",
     "output_type": "stream",
     "text": [
      "Skipping NI: Not enough data\n",
      "Processing NDSN...\n",
      "Skipping NDSN: Not enough data\n",
      "Processing NSC...\n",
      "Skipping NSC: Not enough data\n",
      "Processing NTRS...\n",
      "Skipping NTRS: Not enough data\n",
      "Processing NOC...\n",
      "Skipping NOC: Not enough data\n",
      "Processing NCLH...\n",
      "Skipping NCLH: Not enough data\n",
      "Processing NRG...\n",
      "Skipping NRG: Not enough data\n",
      "Processing NUE...\n",
      "Skipping NUE: Not enough data\n",
      "Processing NVDA...\n",
      "Skipping NVDA: Not enough data\n",
      "Processing NVR...\n",
      "Skipping NVR: Not enough data\n",
      "Processing NXPI...\n",
      "Skipping NXPI: Not enough data\n",
      "Processing ORLY...\n",
      "Skipping ORLY: Not enough data\n",
      "Processing OXY...\n"
     ]
    },
    {
     "name": "stderr",
     "output_type": "stream",
     "text": [
      "\n",
      "\n",
      "1 Failed download:\n",
      "['OXY']: ConnectionError(MaxRetryError('HTTPSConnectionPool(host=\\'query2.finance.yahoo.com\\', port=443): Max retries exceeded with url: /v8/finance/chart/%ticker%?period1=1420088400&period2=1704085200&interval=1d&includePrePost=False&events=div%2Csplits%2CcapitalGains&crumb=sK4l77pf0SG (Caused by NameResolutionError(\"<urllib3.connection.HTTPSConnection object at 0x0000016574140C80>: Failed to resolve \\'query2.finance.yahoo.com\\' ([Errno 11001] getaddrinfo failed)\"))'))\n",
      "[*********************100%***********************]  1 of 1 completed\n",
      "\n",
      "1 Failed download:\n",
      "['ODFL']: ConnectionError(MaxRetryError('HTTPSConnectionPool(host=\\'query2.finance.yahoo.com\\', port=443): Max retries exceeded with url: /v8/finance/chart/%ticker%?period1=1420088400&period2=1704085200&interval=1d&includePrePost=False&events=div%2Csplits%2CcapitalGains&crumb=sK4l77pf0SG (Caused by NameResolutionError(\"<urllib3.connection.HTTPSConnection object at 0x000001657A150FB0>: Failed to resolve \\'query2.finance.yahoo.com\\' ([Errno 11001] getaddrinfo failed)\"))'))\n",
      "[*********************100%***********************]  1 of 1 completed\n",
      "\n",
      "1 Failed download:\n",
      "['OMC']: ConnectionError(MaxRetryError('HTTPSConnectionPool(host=\\'query2.finance.yahoo.com\\', port=443): Max retries exceeded with url: /v8/finance/chart/%ticker%?period1=1420088400&period2=1704085200&interval=1d&includePrePost=False&events=div%2Csplits%2CcapitalGains&crumb=sK4l77pf0SG (Caused by NameResolutionError(\"<urllib3.connection.HTTPSConnection object at 0x000001657A1518E0>: Failed to resolve \\'query2.finance.yahoo.com\\' ([Errno 11001] getaddrinfo failed)\"))'))\n",
      "[*********************100%***********************]  1 of 1 completed\n",
      "\n",
      "1 Failed download:\n",
      "['ON']: ConnectionError(MaxRetryError('HTTPSConnectionPool(host=\\'query2.finance.yahoo.com\\', port=443): Max retries exceeded with url: /v8/finance/chart/%ticker%?period1=1420088400&period2=1704085200&interval=1d&includePrePost=False&events=div%2Csplits%2CcapitalGains&crumb=sK4l77pf0SG (Caused by NameResolutionError(\"<urllib3.connection.HTTPSConnection object at 0x000001657A096DB0>: Failed to resolve \\'query2.finance.yahoo.com\\' ([Errno 11001] getaddrinfo failed)\"))'))\n",
      "[*********************100%***********************]  1 of 1 completed\n",
      "\n",
      "1 Failed download:\n",
      "['OKE']: ConnectionError(MaxRetryError('HTTPSConnectionPool(host=\\'query2.finance.yahoo.com\\', port=443): Max retries exceeded with url: /v8/finance/chart/%ticker%?period1=1420088400&period2=1704085200&interval=1d&includePrePost=False&events=div%2Csplits%2CcapitalGains&crumb=sK4l77pf0SG (Caused by NameResolutionError(\"<urllib3.connection.HTTPSConnection object at 0x000001657A0975C0>: Failed to resolve \\'query2.finance.yahoo.com\\' ([Errno 11001] getaddrinfo failed)\"))'))\n",
      "[*********************100%***********************]  1 of 1 completed\n",
      "\n",
      "1 Failed download:\n",
      "['ORCL']: ConnectionError(MaxRetryError('HTTPSConnectionPool(host=\\'query2.finance.yahoo.com\\', port=443): Max retries exceeded with url: /v8/finance/chart/%ticker%?period1=1420088400&period2=1704085200&interval=1d&includePrePost=False&events=div%2Csplits%2CcapitalGains&crumb=sK4l77pf0SG (Caused by NameResolutionError(\"<urllib3.connection.HTTPSConnection object at 0x000001657A0955E0>: Failed to resolve \\'query2.finance.yahoo.com\\' ([Errno 11001] getaddrinfo failed)\"))'))\n",
      "[*********************100%***********************]  1 of 1 completed\n",
      "\n",
      "1 Failed download:\n",
      "['OTIS']: ConnectionError(MaxRetryError('HTTPSConnectionPool(host=\\'query2.finance.yahoo.com\\', port=443): Max retries exceeded with url: /v8/finance/chart/%ticker%?period1=1420088400&period2=1704085200&interval=1d&includePrePost=False&events=div%2Csplits%2CcapitalGains&crumb=sK4l77pf0SG (Caused by NameResolutionError(\"<urllib3.connection.HTTPSConnection object at 0x000001657A14C890>: Failed to resolve \\'query2.finance.yahoo.com\\' ([Errno 11001] getaddrinfo failed)\"))'))\n",
      "[*********************100%***********************]  1 of 1 completed\n",
      "\n",
      "1 Failed download:\n",
      "['PCAR']: ConnectionError(MaxRetryError('HTTPSConnectionPool(host=\\'query2.finance.yahoo.com\\', port=443): Max retries exceeded with url: /v8/finance/chart/%ticker%?period1=1420088400&period2=1704085200&interval=1d&includePrePost=False&events=div%2Csplits%2CcapitalGains&crumb=sK4l77pf0SG (Caused by NameResolutionError(\"<urllib3.connection.HTTPSConnection object at 0x000001657A14F440>: Failed to resolve \\'query2.finance.yahoo.com\\' ([Errno 11001] getaddrinfo failed)\"))'))\n"
     ]
    },
    {
     "name": "stdout",
     "output_type": "stream",
     "text": [
      "Skipping OXY: Not enough data\n",
      "Processing ODFL...\n",
      "Skipping ODFL: Not enough data\n",
      "Processing OMC...\n",
      "Skipping OMC: Not enough data\n",
      "Processing ON...\n",
      "Skipping ON: Not enough data\n",
      "Processing OKE...\n",
      "Skipping OKE: Not enough data\n",
      "Processing ORCL...\n",
      "Skipping ORCL: Not enough data\n",
      "Processing OTIS...\n",
      "Skipping OTIS: Not enough data\n",
      "Processing PCAR...\n",
      "Skipping PCAR: Not enough data\n",
      "Processing PKG...\n"
     ]
    },
    {
     "name": "stderr",
     "output_type": "stream",
     "text": [
      "[*********************100%***********************]  1 of 1 completed\n",
      "\n",
      "1 Failed download:\n",
      "['PKG']: ConnectionError(MaxRetryError('HTTPSConnectionPool(host=\\'query2.finance.yahoo.com\\', port=443): Max retries exceeded with url: /v8/finance/chart/%ticker%?period1=1420088400&period2=1704085200&interval=1d&includePrePost=False&events=div%2Csplits%2CcapitalGains&crumb=sK4l77pf0SG (Caused by NameResolutionError(\"<urllib3.connection.HTTPSConnection object at 0x000001657A14D610>: Failed to resolve \\'query2.finance.yahoo.com\\' ([Errno 11001] getaddrinfo failed)\"))'))\n",
      "[*********************100%***********************]  1 of 1 completed\n",
      "\n",
      "1 Failed download:\n",
      "['PLTR']: ConnectionError(MaxRetryError('HTTPSConnectionPool(host=\\'query2.finance.yahoo.com\\', port=443): Max retries exceeded with url: /v8/finance/chart/%ticker%?period1=1420088400&period2=1704085200&interval=1d&includePrePost=False&events=div%2Csplits%2CcapitalGains&crumb=sK4l77pf0SG (Caused by NameResolutionError(\"<urllib3.connection.HTTPSConnection object at 0x000001653C836210>: Failed to resolve \\'query2.finance.yahoo.com\\' ([Errno 11001] getaddrinfo failed)\"))'))\n",
      "[*********************100%***********************]  1 of 1 completed\n",
      "\n",
      "1 Failed download:\n",
      "['PANW']: ConnectionError(MaxRetryError('HTTPSConnectionPool(host=\\'query2.finance.yahoo.com\\', port=443): Max retries exceeded with url: /v8/finance/chart/%ticker%?period1=1420088400&period2=1704085200&interval=1d&includePrePost=False&events=div%2Csplits%2CcapitalGains&crumb=sK4l77pf0SG (Caused by NameResolutionError(\"<urllib3.connection.HTTPSConnection object at 0x0000016570FD2390>: Failed to resolve \\'query2.finance.yahoo.com\\' ([Errno 11001] getaddrinfo failed)\"))'))\n",
      "[*********************100%***********************]  1 of 1 completed\n",
      "\n",
      "1 Failed download:\n",
      "['PARA']: ConnectionError(MaxRetryError('HTTPSConnectionPool(host=\\'query2.finance.yahoo.com\\', port=443): Max retries exceeded with url: /v8/finance/chart/%ticker%?period1=1420088400&period2=1704085200&interval=1d&includePrePost=False&events=div%2Csplits%2CcapitalGains&crumb=sK4l77pf0SG (Caused by NameResolutionError(\"<urllib3.connection.HTTPSConnection object at 0x0000016569ED53D0>: Failed to resolve \\'query2.finance.yahoo.com\\' ([Errno 11001] getaddrinfo failed)\"))'))\n",
      "[*********************100%***********************]  1 of 1 completed\n",
      "\n",
      "1 Failed download:\n",
      "['PH']: ConnectionError(MaxRetryError('HTTPSConnectionPool(host=\\'query2.finance.yahoo.com\\', port=443): Max retries exceeded with url: /v8/finance/chart/%ticker%?period1=1420088400&period2=1704085200&interval=1d&includePrePost=False&events=div%2Csplits%2CcapitalGains&crumb=sK4l77pf0SG (Caused by NameResolutionError(\"<urllib3.connection.HTTPSConnection object at 0x0000016570F6EE70>: Failed to resolve \\'query2.finance.yahoo.com\\' ([Errno 11001] getaddrinfo failed)\"))'))\n",
      "[*********************100%***********************]  1 of 1 completed\n",
      "\n",
      "1 Failed download:\n",
      "['PAYX']: ConnectionError(MaxRetryError('HTTPSConnectionPool(host=\\'query2.finance.yahoo.com\\', port=443): Max retries exceeded with url: /v8/finance/chart/%ticker%?period1=1420088400&period2=1704085200&interval=1d&includePrePost=False&events=div%2Csplits%2CcapitalGains&crumb=sK4l77pf0SG (Caused by NameResolutionError(\"<urllib3.connection.HTTPSConnection object at 0x0000016569DB88F0>: Failed to resolve \\'query2.finance.yahoo.com\\' ([Errno 11001] getaddrinfo failed)\"))'))\n",
      "[*********************100%***********************]  1 of 1 completed\n",
      "\n",
      "1 Failed download:\n",
      "['PAYC']: ConnectionError(MaxRetryError('HTTPSConnectionPool(host=\\'query2.finance.yahoo.com\\', port=443): Max retries exceeded with url: /v8/finance/chart/%ticker%?period1=1420088400&period2=1704085200&interval=1d&includePrePost=False&events=div%2Csplits%2CcapitalGains&crumb=sK4l77pf0SG (Caused by NameResolutionError(\"<urllib3.connection.HTTPSConnection object at 0x0000016570F6D970>: Failed to resolve \\'query2.finance.yahoo.com\\' ([Errno 11001] getaddrinfo failed)\"))'))\n",
      "[*********************100%***********************]  1 of 1 completed\n",
      "\n",
      "1 Failed download:\n",
      "['PYPL']: ConnectionError(MaxRetryError('HTTPSConnectionPool(host=\\'query2.finance.yahoo.com\\', port=443): Max retries exceeded with url: /v8/finance/chart/%ticker%?period1=1420088400&period2=1704085200&interval=1d&includePrePost=False&events=div%2Csplits%2CcapitalGains&crumb=sK4l77pf0SG (Caused by NameResolutionError(\"<urllib3.connection.HTTPSConnection object at 0x0000016569DFDDC0>: Failed to resolve \\'query2.finance.yahoo.com\\' ([Errno 11001] getaddrinfo failed)\"))'))\n",
      "[*********************100%***********************]  1 of 1 completed\n",
      "\n",
      "1 Failed download:\n",
      "['PNR']: ConnectionError(MaxRetryError('HTTPSConnectionPool(host=\\'query2.finance.yahoo.com\\', port=443): Max retries exceeded with url: /v8/finance/chart/%ticker%?period1=1420088400&period2=1704085200&interval=1d&includePrePost=False&events=div%2Csplits%2CcapitalGains&crumb=sK4l77pf0SG (Caused by NameResolutionError(\"<urllib3.connection.HTTPSConnection object at 0x000001657A0944A0>: Failed to resolve \\'query2.finance.yahoo.com\\' ([Errno 11001] getaddrinfo failed)\"))'))\n",
      "[*********************100%***********************]  1 of 1 completed\n",
      "\n",
      "1 Failed download:\n",
      "['PEP']: ConnectionError(MaxRetryError('HTTPSConnectionPool(host=\\'query2.finance.yahoo.com\\', port=443): Max retries exceeded with url: /v8/finance/chart/%ticker%?period1=1420088400&period2=1704085200&interval=1d&includePrePost=False&events=div%2Csplits%2CcapitalGains&crumb=sK4l77pf0SG (Caused by NameResolutionError(\"<urllib3.connection.HTTPSConnection object at 0x0000016569DFCAD0>: Failed to resolve \\'query2.finance.yahoo.com\\' ([Errno 11001] getaddrinfo failed)\"))'))\n",
      "[*********************100%***********************]  1 of 1 completed\n",
      "\n",
      "1 Failed download:\n",
      "['PFE']: ConnectionError(MaxRetryError('HTTPSConnectionPool(host=\\'query2.finance.yahoo.com\\', port=443): Max retries exceeded with url: /v8/finance/chart/%ticker%?period1=1420088400&period2=1704085200&interval=1d&includePrePost=False&events=div%2Csplits%2CcapitalGains&crumb=sK4l77pf0SG (Caused by NameResolutionError(\"<urllib3.connection.HTTPSConnection object at 0x0000016570FD37D0>: Failed to resolve \\'query2.finance.yahoo.com\\' ([Errno 11001] getaddrinfo failed)\"))'))\n",
      "[*********************100%***********************]  1 of 1 completed"
     ]
    },
    {
     "name": "stdout",
     "output_type": "stream",
     "text": [
      "Skipping PKG: Not enough data\n",
      "Processing PLTR...\n",
      "Skipping PLTR: Not enough data\n",
      "Processing PANW...\n",
      "Skipping PANW: Not enough data\n",
      "Processing PARA...\n",
      "Skipping PARA: Not enough data\n",
      "Processing PH...\n",
      "Skipping PH: Not enough data\n",
      "Processing PAYX...\n",
      "Skipping PAYX: Not enough data\n",
      "Processing PAYC...\n",
      "Skipping PAYC: Not enough data\n",
      "Processing PYPL...\n",
      "Skipping PYPL: Not enough data\n",
      "Processing PNR...\n",
      "Skipping PNR: Not enough data\n",
      "Processing PEP...\n",
      "Skipping PEP: Not enough data\n",
      "Processing PFE...\n",
      "Skipping PFE: Not enough data\n",
      "Processing PCG...\n"
     ]
    },
    {
     "name": "stderr",
     "output_type": "stream",
     "text": [
      "\n",
      "\n",
      "1 Failed download:\n",
      "['PCG']: ConnectionError(MaxRetryError('HTTPSConnectionPool(host=\\'query2.finance.yahoo.com\\', port=443): Max retries exceeded with url: /v8/finance/chart/%ticker%?period1=1420088400&period2=1704085200&interval=1d&includePrePost=False&events=div%2Csplits%2CcapitalGains&crumb=sK4l77pf0SG (Caused by NameResolutionError(\"<urllib3.connection.HTTPSConnection object at 0x000001657A0965D0>: Failed to resolve \\'query2.finance.yahoo.com\\' ([Errno 11001] getaddrinfo failed)\"))'))\n",
      "[*********************100%***********************]  1 of 1 completed\n",
      "\n",
      "1 Failed download:\n",
      "['PM']: ConnectionError(MaxRetryError('HTTPSConnectionPool(host=\\'query2.finance.yahoo.com\\', port=443): Max retries exceeded with url: /v8/finance/chart/%ticker%?period1=1420088400&period2=1704085200&interval=1d&includePrePost=False&events=div%2Csplits%2CcapitalGains&crumb=sK4l77pf0SG (Caused by NameResolutionError(\"<urllib3.connection.HTTPSConnection object at 0x000001657A0977A0>: Failed to resolve \\'query2.finance.yahoo.com\\' ([Errno 11001] getaddrinfo failed)\"))'))\n",
      "[*********************100%***********************]  1 of 1 completed\n",
      "\n",
      "1 Failed download:\n",
      "['PSX']: ConnectionError(MaxRetryError('HTTPSConnectionPool(host=\\'query2.finance.yahoo.com\\', port=443): Max retries exceeded with url: /v8/finance/chart/%ticker%?period1=1420088400&period2=1704085200&interval=1d&includePrePost=False&events=div%2Csplits%2CcapitalGains&crumb=sK4l77pf0SG (Caused by NameResolutionError(\"<urllib3.connection.HTTPSConnection object at 0x000001657A14FF50>: Failed to resolve \\'query2.finance.yahoo.com\\' ([Errno 11001] getaddrinfo failed)\"))'))\n",
      "[*********************100%***********************]  1 of 1 completed\n",
      "\n",
      "1 Failed download:\n",
      "['PNW']: ConnectionError(MaxRetryError('HTTPSConnectionPool(host=\\'query2.finance.yahoo.com\\', port=443): Max retries exceeded with url: /v8/finance/chart/%ticker%?period1=1420088400&period2=1704085200&interval=1d&includePrePost=False&events=div%2Csplits%2CcapitalGains&crumb=sK4l77pf0SG (Caused by NameResolutionError(\"<urllib3.connection.HTTPSConnection object at 0x0000016558B6BAD0>: Failed to resolve \\'query2.finance.yahoo.com\\' ([Errno 11001] getaddrinfo failed)\"))'))\n",
      "[*********************100%***********************]  1 of 1 completed\n",
      "\n",
      "1 Failed download:\n",
      "['PNC']: ConnectionError(MaxRetryError('HTTPSConnectionPool(host=\\'query2.finance.yahoo.com\\', port=443): Max retries exceeded with url: /v8/finance/chart/%ticker%?period1=1420088400&period2=1704085200&interval=1d&includePrePost=False&events=div%2Csplits%2CcapitalGains&crumb=sK4l77pf0SG (Caused by NameResolutionError(\"<urllib3.connection.HTTPSConnection object at 0x000001657A095A90>: Failed to resolve \\'query2.finance.yahoo.com\\' ([Errno 11001] getaddrinfo failed)\"))'))\n",
      "[*********************100%***********************]  1 of 1 completed\n",
      "\n",
      "1 Failed download:\n",
      "['POOL']: ConnectionError(MaxRetryError('HTTPSConnectionPool(host=\\'query2.finance.yahoo.com\\', port=443): Max retries exceeded with url: /v8/finance/chart/%ticker%?period1=1420088400&period2=1704085200&interval=1d&includePrePost=False&events=div%2Csplits%2CcapitalGains&crumb=sK4l77pf0SG (Caused by NameResolutionError(\"<urllib3.connection.HTTPSConnection object at 0x000001657A097D10>: Failed to resolve \\'query2.finance.yahoo.com\\' ([Errno 11001] getaddrinfo failed)\"))'))\n",
      "[*********************100%***********************]  1 of 1 completed\n",
      "\n",
      "1 Failed download:\n",
      "['PPG']: ConnectionError(MaxRetryError('HTTPSConnectionPool(host=\\'query2.finance.yahoo.com\\', port=443): Max retries exceeded with url: /v8/finance/chart/%ticker%?period1=1420088400&period2=1704085200&interval=1d&includePrePost=False&events=div%2Csplits%2CcapitalGains&crumb=sK4l77pf0SG (Caused by NameResolutionError(\"<urllib3.connection.HTTPSConnection object at 0x000001657A14E8A0>: Failed to resolve \\'query2.finance.yahoo.com\\' ([Errno 11001] getaddrinfo failed)\"))'))\n",
      "[*********************100%***********************]  1 of 1 completed\n",
      "\n",
      "1 Failed download:\n",
      "['PPL']: ConnectionError(MaxRetryError('HTTPSConnectionPool(host=\\'query2.finance.yahoo.com\\', port=443): Max retries exceeded with url: /v8/finance/chart/%ticker%?period1=1420088400&period2=1704085200&interval=1d&includePrePost=False&events=div%2Csplits%2CcapitalGains&crumb=sK4l77pf0SG (Caused by NameResolutionError(\"<urllib3.connection.HTTPSConnection object at 0x000001657A14E2D0>: Failed to resolve \\'query2.finance.yahoo.com\\' ([Errno 11001] getaddrinfo failed)\"))'))\n",
      "[*********************100%***********************]  1 of 1 completed\n",
      "\n",
      "1 Failed download:\n",
      "['PFG']: ConnectionError(MaxRetryError('HTTPSConnectionPool(host=\\'query2.finance.yahoo.com\\', port=443): Max retries exceeded with url: /v8/finance/chart/%ticker%?period1=1420088400&period2=1704085200&interval=1d&includePrePost=False&events=div%2Csplits%2CcapitalGains&crumb=sK4l77pf0SG (Caused by NameResolutionError(\"<urllib3.connection.HTTPSConnection object at 0x000001656BFC0170>: Failed to resolve \\'query2.finance.yahoo.com\\' ([Errno 11001] getaddrinfo failed)\"))'))\n",
      "[*********************100%***********************]  1 of 1 completed\n",
      "\n",
      "1 Failed download:\n",
      "['PG']: ConnectionError(MaxRetryError('HTTPSConnectionPool(host=\\'query2.finance.yahoo.com\\', port=443): Max retries exceeded with url: /v8/finance/chart/%ticker%?period1=1420088400&period2=1704085200&interval=1d&includePrePost=False&events=div%2Csplits%2CcapitalGains&crumb=sK4l77pf0SG (Caused by NameResolutionError(\"<urllib3.connection.HTTPSConnection object at 0x000001657A0953A0>: Failed to resolve \\'query2.finance.yahoo.com\\' ([Errno 11001] getaddrinfo failed)\"))'))\n",
      "[*********************100%***********************]  1 of 1 completed\n",
      "\n",
      "1 Failed download:\n",
      "['PGR']: ConnectionError(MaxRetryError('HTTPSConnectionPool(host=\\'query2.finance.yahoo.com\\', port=443): Max retries exceeded with url: /v8/finance/chart/%ticker%?period1=1420088400&period2=1704085200&interval=1d&includePrePost=False&events=div%2Csplits%2CcapitalGains&crumb=sK4l77pf0SG (Caused by NameResolutionError(\"<urllib3.connection.HTTPSConnection object at 0x000001657A14E090>: Failed to resolve \\'query2.finance.yahoo.com\\' ([Errno 11001] getaddrinfo failed)\"))'))\n",
      "[*********************100%***********************]  1 of 1 completed\n",
      "\n",
      "1 Failed download:\n",
      "['PLD']: ConnectionError(MaxRetryError('HTTPSConnectionPool(host=\\'query2.finance.yahoo.com\\', port=443): Max retries exceeded with url: /v8/finance/chart/%ticker%?period1=1420088400&period2=1704085200&interval=1d&includePrePost=False&events=div%2Csplits%2CcapitalGains&crumb=sK4l77pf0SG (Caused by NameResolutionError(\"<urllib3.connection.HTTPSConnection object at 0x000001657A14C8F0>: Failed to resolve \\'query2.finance.yahoo.com\\' ([Errno 11001] getaddrinfo failed)\"))'))\n",
      "[*********************100%***********************]  1 of 1 completed"
     ]
    },
    {
     "name": "stdout",
     "output_type": "stream",
     "text": [
      "Skipping PCG: Not enough data\n",
      "Processing PM...\n",
      "Skipping PM: Not enough data\n",
      "Processing PSX...\n",
      "Skipping PSX: Not enough data\n",
      "Processing PNW...\n",
      "Skipping PNW: Not enough data\n",
      "Processing PNC...\n",
      "Skipping PNC: Not enough data\n",
      "Processing POOL...\n",
      "Skipping POOL: Not enough data\n",
      "Processing PPG...\n",
      "Skipping PPG: Not enough data\n",
      "Processing PPL...\n",
      "Skipping PPL: Not enough data\n",
      "Processing PFG...\n",
      "Skipping PFG: Not enough data\n",
      "Processing PG...\n",
      "Skipping PG: Not enough data\n",
      "Processing PGR...\n",
      "Skipping PGR: Not enough data\n",
      "Processing PLD...\n",
      "Skipping PLD: Not enough data\n",
      "Processing PRU...\n"
     ]
    },
    {
     "name": "stderr",
     "output_type": "stream",
     "text": [
      "\n",
      "\n",
      "1 Failed download:\n",
      "['PRU']: ConnectionError(MaxRetryError('HTTPSConnectionPool(host=\\'query2.finance.yahoo.com\\', port=443): Max retries exceeded with url: /v8/finance/chart/%ticker%?period1=1420088400&period2=1704085200&interval=1d&includePrePost=False&events=div%2Csplits%2CcapitalGains&crumb=sK4l77pf0SG (Caused by NameResolutionError(\"<urllib3.connection.HTTPSConnection object at 0x000001656BFC0B30>: Failed to resolve \\'query2.finance.yahoo.com\\' ([Errno 11001] getaddrinfo failed)\"))'))\n",
      "[*********************100%***********************]  1 of 1 completed\n",
      "\n",
      "1 Failed download:\n",
      "['PEG']: ConnectionError(MaxRetryError('HTTPSConnectionPool(host=\\'query2.finance.yahoo.com\\', port=443): Max retries exceeded with url: /v8/finance/chart/%ticker%?period1=1420088400&period2=1704085200&interval=1d&includePrePost=False&events=div%2Csplits%2CcapitalGains&crumb=sK4l77pf0SG (Caused by NameResolutionError(\"<urllib3.connection.HTTPSConnection object at 0x0000016574140380>: Failed to resolve \\'query2.finance.yahoo.com\\' ([Errno 11001] getaddrinfo failed)\"))'))\n",
      "[*********************100%***********************]  1 of 1 completed\n",
      "\n",
      "1 Failed download:\n",
      "['PTC']: ConnectionError(MaxRetryError('HTTPSConnectionPool(host=\\'query2.finance.yahoo.com\\', port=443): Max retries exceeded with url: /v8/finance/chart/%ticker%?period1=1420088400&period2=1704085200&interval=1d&includePrePost=False&events=div%2Csplits%2CcapitalGains&crumb=sK4l77pf0SG (Caused by NameResolutionError(\"<urllib3.connection.HTTPSConnection object at 0x000001657A14CC80>: Failed to resolve \\'query2.finance.yahoo.com\\' ([Errno 11001] getaddrinfo failed)\"))'))\n",
      "[*********************100%***********************]  1 of 1 completed\n",
      "\n",
      "1 Failed download:\n",
      "['PSA']: ConnectionError(MaxRetryError('HTTPSConnectionPool(host=\\'query2.finance.yahoo.com\\', port=443): Max retries exceeded with url: /v8/finance/chart/%ticker%?period1=1420088400&period2=1704085200&interval=1d&includePrePost=False&events=div%2Csplits%2CcapitalGains&crumb=sK4l77pf0SG (Caused by NameResolutionError(\"<urllib3.connection.HTTPSConnection object at 0x000001657A097C20>: Failed to resolve \\'query2.finance.yahoo.com\\' ([Errno 11001] getaddrinfo failed)\"))'))\n",
      "[*********************100%***********************]  1 of 1 completed\n",
      "\n",
      "1 Failed download:\n",
      "['PHM']: ConnectionError(MaxRetryError('HTTPSConnectionPool(host=\\'query2.finance.yahoo.com\\', port=443): Max retries exceeded with url: /v8/finance/chart/%ticker%?period1=1420088400&period2=1704085200&interval=1d&includePrePost=False&events=div%2Csplits%2CcapitalGains&crumb=sK4l77pf0SG (Caused by NameResolutionError(\"<urllib3.connection.HTTPSConnection object at 0x0000016570FD12E0>: Failed to resolve \\'query2.finance.yahoo.com\\' ([Errno 11001] getaddrinfo failed)\"))'))\n",
      "[*********************100%***********************]  1 of 1 completed\n",
      "\n",
      "1 Failed download:\n",
      "['QRVO']: ConnectionError(MaxRetryError('HTTPSConnectionPool(host=\\'query2.finance.yahoo.com\\', port=443): Max retries exceeded with url: /v8/finance/chart/%ticker%?period1=1420088400&period2=1704085200&interval=1d&includePrePost=False&events=div%2Csplits%2CcapitalGains&crumb=sK4l77pf0SG (Caused by NameResolutionError(\"<urllib3.connection.HTTPSConnection object at 0x000001657A097B00>: Failed to resolve \\'query2.finance.yahoo.com\\' ([Errno 11001] getaddrinfo failed)\"))'))\n",
      "[*********************100%***********************]  1 of 1 completed\n",
      "\n",
      "1 Failed download:\n",
      "['PWR']: ConnectionError(MaxRetryError('HTTPSConnectionPool(host=\\'query2.finance.yahoo.com\\', port=443): Max retries exceeded with url: /v8/finance/chart/%ticker%?period1=1420088400&period2=1704085200&interval=1d&includePrePost=False&events=div%2Csplits%2CcapitalGains&crumb=sK4l77pf0SG (Caused by NameResolutionError(\"<urllib3.connection.HTTPSConnection object at 0x000001657107AC00>: Failed to resolve \\'query2.finance.yahoo.com\\' ([Errno 11001] getaddrinfo failed)\"))'))\n",
      "[*********************100%***********************]  1 of 1 completed\n",
      "\n",
      "1 Failed download:\n",
      "['QCOM']: ConnectionError(MaxRetryError('HTTPSConnectionPool(host=\\'query2.finance.yahoo.com\\', port=443): Max retries exceeded with url: /v8/finance/chart/%ticker%?period1=1420088400&period2=1704085200&interval=1d&includePrePost=False&events=div%2Csplits%2CcapitalGains&crumb=sK4l77pf0SG (Caused by NameResolutionError(\"<urllib3.connection.HTTPSConnection object at 0x0000016566DB20F0>: Failed to resolve \\'query2.finance.yahoo.com\\' ([Errno 11001] getaddrinfo failed)\"))'))\n",
      "[*********************100%***********************]  1 of 1 completed\n",
      "\n",
      "1 Failed download:\n",
      "['DGX']: ConnectionError(MaxRetryError('HTTPSConnectionPool(host=\\'query2.finance.yahoo.com\\', port=443): Max retries exceeded with url: /v8/finance/chart/%ticker%?period1=1420088400&period2=1704085200&interval=1d&includePrePost=False&events=div%2Csplits%2CcapitalGains&crumb=sK4l77pf0SG (Caused by NameResolutionError(\"<urllib3.connection.HTTPSConnection object at 0x000001657A14C470>: Failed to resolve \\'query2.finance.yahoo.com\\' ([Errno 11001] getaddrinfo failed)\"))'))\n",
      "[*********************100%***********************]  1 of 1 completed\n",
      "\n",
      "1 Failed download:\n",
      "['RL']: ConnectionError(MaxRetryError('HTTPSConnectionPool(host=\\'query2.finance.yahoo.com\\', port=443): Max retries exceeded with url: /v8/finance/chart/%ticker%?period1=1420088400&period2=1704085200&interval=1d&includePrePost=False&events=div%2Csplits%2CcapitalGains&crumb=sK4l77pf0SG (Caused by NameResolutionError(\"<urllib3.connection.HTTPSConnection object at 0x000001657A14D4C0>: Failed to resolve \\'query2.finance.yahoo.com\\' ([Errno 11001] getaddrinfo failed)\"))'))\n",
      "[*********************100%***********************]  1 of 1 completed\n",
      "\n",
      "1 Failed download:\n",
      "['RJF']: ConnectionError(MaxRetryError('HTTPSConnectionPool(host=\\'query2.finance.yahoo.com\\', port=443): Max retries exceeded with url: /v8/finance/chart/%ticker%?period1=1420088400&period2=1704085200&interval=1d&includePrePost=False&events=div%2Csplits%2CcapitalGains&crumb=sK4l77pf0SG (Caused by NameResolutionError(\"<urllib3.connection.HTTPSConnection object at 0x000001655FDC5DF0>: Failed to resolve \\'query2.finance.yahoo.com\\' ([Errno 11001] getaddrinfo failed)\"))'))\n",
      "[*********************100%***********************]  1 of 1 completed\n",
      "\n",
      "1 Failed download:\n"
     ]
    },
    {
     "name": "stdout",
     "output_type": "stream",
     "text": [
      "Skipping PRU: Not enough data\n",
      "Processing PEG...\n",
      "Skipping PEG: Not enough data\n",
      "Processing PTC...\n",
      "Skipping PTC: Not enough data\n",
      "Processing PSA...\n",
      "Skipping PSA: Not enough data\n",
      "Processing PHM...\n",
      "Skipping PHM: Not enough data\n",
      "Processing QRVO...\n",
      "Skipping QRVO: Not enough data\n",
      "Processing PWR...\n",
      "Skipping PWR: Not enough data\n",
      "Processing QCOM...\n",
      "Skipping QCOM: Not enough data\n",
      "Processing DGX...\n",
      "Skipping DGX: Not enough data\n",
      "Processing RL...\n",
      "Skipping RL: Not enough data\n",
      "Processing RJF...\n",
      "Skipping RJF: Not enough data\n",
      "Processing RTX...\n"
     ]
    },
    {
     "name": "stderr",
     "output_type": "stream",
     "text": [
      "['RTX']: ConnectionError(MaxRetryError('HTTPSConnectionPool(host=\\'query2.finance.yahoo.com\\', port=443): Max retries exceeded with url: /v8/finance/chart/%ticker%?period1=1420088400&period2=1704085200&interval=1d&includePrePost=False&events=div%2Csplits%2CcapitalGains&crumb=sK4l77pf0SG (Caused by NameResolutionError(\"<urllib3.connection.HTTPSConnection object at 0x000001657A0A3020>: Failed to resolve \\'query2.finance.yahoo.com\\' ([Errno 11001] getaddrinfo failed)\"))'))\n",
      "[*********************100%***********************]  1 of 1 completed\n",
      "\n",
      "1 Failed download:\n",
      "['O']: ConnectionError(MaxRetryError('HTTPSConnectionPool(host=\\'query2.finance.yahoo.com\\', port=443): Max retries exceeded with url: /v8/finance/chart/%ticker%?period1=1420088400&period2=1704085200&interval=1d&includePrePost=False&events=div%2Csplits%2CcapitalGains&crumb=sK4l77pf0SG (Caused by NameResolutionError(\"<urllib3.connection.HTTPSConnection object at 0x000001657A14E840>: Failed to resolve \\'query2.finance.yahoo.com\\' ([Errno 11001] getaddrinfo failed)\"))'))\n",
      "[*********************100%***********************]  1 of 1 completed\n",
      "\n",
      "1 Failed download:\n",
      "['REG']: ConnectionError(MaxRetryError('HTTPSConnectionPool(host=\\'query2.finance.yahoo.com\\', port=443): Max retries exceeded with url: /v8/finance/chart/%ticker%?period1=1420088400&period2=1704085200&interval=1d&includePrePost=False&events=div%2Csplits%2CcapitalGains&crumb=sK4l77pf0SG (Caused by NameResolutionError(\"<urllib3.connection.HTTPSConnection object at 0x000001657A096600>: Failed to resolve \\'query2.finance.yahoo.com\\' ([Errno 11001] getaddrinfo failed)\"))'))\n",
      "[*********************100%***********************]  1 of 1 completed\n",
      "\n",
      "1 Failed download:\n",
      "['REGN']: ConnectionError(MaxRetryError('HTTPSConnectionPool(host=\\'query2.finance.yahoo.com\\', port=443): Max retries exceeded with url: /v8/finance/chart/%ticker%?period1=1420088400&period2=1704085200&interval=1d&includePrePost=False&events=div%2Csplits%2CcapitalGains&crumb=sK4l77pf0SG (Caused by NameResolutionError(\"<urllib3.connection.HTTPSConnection object at 0x0000016574142ED0>: Failed to resolve \\'query2.finance.yahoo.com\\' ([Errno 11001] getaddrinfo failed)\"))'))\n",
      "[*********************100%***********************]  1 of 1 completed\n",
      "\n",
      "1 Failed download:\n",
      "['RF']: ConnectionError(MaxRetryError('HTTPSConnectionPool(host=\\'query2.finance.yahoo.com\\', port=443): Max retries exceeded with url: /v8/finance/chart/%ticker%?period1=1420088400&period2=1704085200&interval=1d&includePrePost=False&events=div%2Csplits%2CcapitalGains&crumb=sK4l77pf0SG (Caused by NameResolutionError(\"<urllib3.connection.HTTPSConnection object at 0x00000165740D1A60>: Failed to resolve \\'query2.finance.yahoo.com\\' ([Errno 11001] getaddrinfo failed)\"))'))\n",
      "[*********************100%***********************]  1 of 1 completed\n",
      "\n",
      "1 Failed download:\n",
      "['RSG']: ConnectionError(MaxRetryError('HTTPSConnectionPool(host=\\'query2.finance.yahoo.com\\', port=443): Max retries exceeded with url: /v8/finance/chart/%ticker%?period1=1420088400&period2=1704085200&interval=1d&includePrePost=False&events=div%2Csplits%2CcapitalGains&crumb=sK4l77pf0SG (Caused by NameResolutionError(\"<urllib3.connection.HTTPSConnection object at 0x00000165740D12E0>: Failed to resolve \\'query2.finance.yahoo.com\\' ([Errno 11001] getaddrinfo failed)\"))'))\n",
      "[*********************100%***********************]  1 of 1 completed\n",
      "\n",
      "1 Failed download:\n",
      "['RMD']: ConnectionError(MaxRetryError('HTTPSConnectionPool(host=\\'query2.finance.yahoo.com\\', port=443): Max retries exceeded with url: /v8/finance/chart/%ticker%?period1=1420088400&period2=1704085200&interval=1d&includePrePost=False&events=div%2Csplits%2CcapitalGains&crumb=sK4l77pf0SG (Caused by NameResolutionError(\"<urllib3.connection.HTTPSConnection object at 0x0000016566D1DA60>: Failed to resolve \\'query2.finance.yahoo.com\\' ([Errno 11001] getaddrinfo failed)\"))'))\n",
      "[*********************100%***********************]  1 of 1 completed\n",
      "\n",
      "1 Failed download:\n",
      "['RVTY']: ConnectionError(MaxRetryError('HTTPSConnectionPool(host=\\'query2.finance.yahoo.com\\', port=443): Max retries exceeded with url: /v8/finance/chart/%ticker%?period1=1420088400&period2=1704085200&interval=1d&includePrePost=False&events=div%2Csplits%2CcapitalGains&crumb=sK4l77pf0SG (Caused by NameResolutionError(\"<urllib3.connection.HTTPSConnection object at 0x000001657A0959D0>: Failed to resolve \\'query2.finance.yahoo.com\\' ([Errno 11001] getaddrinfo failed)\"))'))\n"
     ]
    },
    {
     "name": "stdout",
     "output_type": "stream",
     "text": [
      "Skipping RTX: Not enough data\n",
      "Processing O...\n",
      "Skipping O: Not enough data\n",
      "Processing REG...\n",
      "Skipping REG: Not enough data\n",
      "Processing REGN...\n",
      "Skipping REGN: Not enough data\n",
      "Processing RF...\n",
      "Skipping RF: Not enough data\n",
      "Processing RSG...\n",
      "Skipping RSG: Not enough data\n",
      "Processing RMD...\n",
      "Skipping RMD: Not enough data\n",
      "Processing RVTY...\n",
      "Skipping RVTY: Not enough data\n",
      "Processing ROK...\n"
     ]
    },
    {
     "name": "stderr",
     "output_type": "stream",
     "text": [
      "[*********************100%***********************]  1 of 1 completed\n",
      "\n",
      "1 Failed download:\n",
      "['ROK']: ConnectionError(MaxRetryError('HTTPSConnectionPool(host=\\'query2.finance.yahoo.com\\', port=443): Max retries exceeded with url: /v8/finance/chart/%ticker%?period1=1420088400&period2=1704085200&interval=1d&includePrePost=False&events=div%2Csplits%2CcapitalGains&crumb=sK4l77pf0SG (Caused by NameResolutionError(\"<urllib3.connection.HTTPSConnection object at 0x00000165740D2A20>: Failed to resolve \\'query2.finance.yahoo.com\\' ([Errno 11001] getaddrinfo failed)\"))'))\n",
      "[*********************100%***********************]  1 of 1 completed\n",
      "\n",
      "1 Failed download:\n",
      "['ROL']: ConnectionError(MaxRetryError('HTTPSConnectionPool(host=\\'query2.finance.yahoo.com\\', port=443): Max retries exceeded with url: /v8/finance/chart/%ticker%?period1=1420088400&period2=1704085200&interval=1d&includePrePost=False&events=div%2Csplits%2CcapitalGains&crumb=sK4l77pf0SG (Caused by NameResolutionError(\"<urllib3.connection.HTTPSConnection object at 0x00000165740D28A0>: Failed to resolve \\'query2.finance.yahoo.com\\' ([Errno 11001] getaddrinfo failed)\"))'))\n",
      "[*********************100%***********************]  1 of 1 completed\n",
      "\n",
      "1 Failed download:\n",
      "['ROP']: ConnectionError(MaxRetryError('HTTPSConnectionPool(host=\\'query2.finance.yahoo.com\\', port=443): Max retries exceeded with url: /v8/finance/chart/%ticker%?period1=1420088400&period2=1704085200&interval=1d&includePrePost=False&events=div%2Csplits%2CcapitalGains&crumb=sK4l77pf0SG (Caused by NameResolutionError(\"<urllib3.connection.HTTPSConnection object at 0x00000165740D10A0>: Failed to resolve \\'query2.finance.yahoo.com\\' ([Errno 11001] getaddrinfo failed)\"))'))\n",
      "[*********************100%***********************]  1 of 1 completed\n",
      "\n",
      "1 Failed download:\n",
      "['ROST']: ConnectionError(MaxRetryError('HTTPSConnectionPool(host=\\'query2.finance.yahoo.com\\', port=443): Max retries exceeded with url: /v8/finance/chart/%ticker%?period1=1420088400&period2=1704085200&interval=1d&includePrePost=False&events=div%2Csplits%2CcapitalGains&crumb=sK4l77pf0SG (Caused by NameResolutionError(\"<urllib3.connection.HTTPSConnection object at 0x00000165710BBE00>: Failed to resolve \\'query2.finance.yahoo.com\\' ([Errno 11001] getaddrinfo failed)\"))'))\n",
      "[*********************100%***********************]  1 of 1 completed\n",
      "\n",
      "1 Failed download:\n",
      "['RCL']: ConnectionError(MaxRetryError('HTTPSConnectionPool(host=\\'query2.finance.yahoo.com\\', port=443): Max retries exceeded with url: /v8/finance/chart/%ticker%?period1=1420088400&period2=1704085200&interval=1d&includePrePost=False&events=div%2Csplits%2CcapitalGains&crumb=sK4l77pf0SG (Caused by NameResolutionError(\"<urllib3.connection.HTTPSConnection object at 0x00000165740D2A20>: Failed to resolve \\'query2.finance.yahoo.com\\' ([Errno 11001] getaddrinfo failed)\"))'))\n",
      "[*********************100%***********************]  1 of 1 completed\n",
      "\n",
      "1 Failed download:\n",
      "['SPGI']: ConnectionError(MaxRetryError('HTTPSConnectionPool(host=\\'query2.finance.yahoo.com\\', port=443): Max retries exceeded with url: /v8/finance/chart/%ticker%?period1=1420088400&period2=1704085200&interval=1d&includePrePost=False&events=div%2Csplits%2CcapitalGains&crumb=sK4l77pf0SG (Caused by NameResolutionError(\"<urllib3.connection.HTTPSConnection object at 0x000001657A14DD00>: Failed to resolve \\'query2.finance.yahoo.com\\' ([Errno 11001] getaddrinfo failed)\"))'))\n",
      "[*********************100%***********************]  1 of 1 completed\n",
      "\n",
      "1 Failed download:\n",
      "['CRM']: ConnectionError(MaxRetryError('HTTPSConnectionPool(host=\\'query2.finance.yahoo.com\\', port=443): Max retries exceeded with url: /v8/finance/chart/%ticker%?period1=1420088400&period2=1704085200&interval=1d&includePrePost=False&events=div%2Csplits%2CcapitalGains&crumb=sK4l77pf0SG (Caused by NameResolutionError(\"<urllib3.connection.HTTPSConnection object at 0x000001657A096F30>: Failed to resolve \\'query2.finance.yahoo.com\\' ([Errno 11001] getaddrinfo failed)\"))'))\n",
      "[*********************100%***********************]  1 of 1 completed\n",
      "\n",
      "1 Failed download:\n",
      "['SBAC']: ConnectionError(MaxRetryError('HTTPSConnectionPool(host=\\'query2.finance.yahoo.com\\', port=443): Max retries exceeded with url: /v8/finance/chart/%ticker%?period1=1420088400&period2=1704085200&interval=1d&includePrePost=False&events=div%2Csplits%2CcapitalGains&crumb=sK4l77pf0SG (Caused by NameResolutionError(\"<urllib3.connection.HTTPSConnection object at 0x000001657107BC80>: Failed to resolve \\'query2.finance.yahoo.com\\' ([Errno 11001] getaddrinfo failed)\"))'))\n",
      "[*********************100%***********************]  1 of 1 completed"
     ]
    },
    {
     "name": "stdout",
     "output_type": "stream",
     "text": [
      "Skipping ROK: Not enough data\n",
      "Processing ROL...\n",
      "Skipping ROL: Not enough data\n",
      "Processing ROP...\n",
      "Skipping ROP: Not enough data\n",
      "Processing ROST...\n",
      "Skipping ROST: Not enough data\n",
      "Processing RCL...\n",
      "Skipping RCL: Not enough data\n",
      "Processing SPGI...\n",
      "Skipping SPGI: Not enough data\n",
      "Processing CRM...\n",
      "Skipping CRM: Not enough data\n",
      "Processing SBAC...\n",
      "Skipping SBAC: Not enough data\n",
      "Processing SLB...\n"
     ]
    },
    {
     "name": "stderr",
     "output_type": "stream",
     "text": [
      "\n",
      "\n",
      "1 Failed download:\n",
      "['SLB']: ConnectionError(MaxRetryError('HTTPSConnectionPool(host=\\'query2.finance.yahoo.com\\', port=443): Max retries exceeded with url: /v8/finance/chart/%ticker%?period1=1420088400&period2=1704085200&interval=1d&includePrePost=False&events=div%2Csplits%2CcapitalGains&crumb=sK4l77pf0SG (Caused by NameResolutionError(\"<urllib3.connection.HTTPSConnection object at 0x0000016570FD1400>: Failed to resolve \\'query2.finance.yahoo.com\\' ([Errno 11001] getaddrinfo failed)\"))'))\n",
      "[*********************100%***********************]  1 of 1 completed\n",
      "\n",
      "1 Failed download:\n",
      "['STX']: ConnectionError(MaxRetryError('HTTPSConnectionPool(host=\\'query2.finance.yahoo.com\\', port=443): Max retries exceeded with url: /v8/finance/chart/%ticker%?period1=1420088400&period2=1704085200&interval=1d&includePrePost=False&events=div%2Csplits%2CcapitalGains&crumb=sK4l77pf0SG (Caused by NameResolutionError(\"<urllib3.connection.HTTPSConnection object at 0x000001657A097B60>: Failed to resolve \\'query2.finance.yahoo.com\\' ([Errno 11001] getaddrinfo failed)\"))'))\n",
      "[*********************100%***********************]  1 of 1 completed\n",
      "\n",
      "1 Failed download:\n",
      "['SRE']: ConnectionError(MaxRetryError('HTTPSConnectionPool(host=\\'query2.finance.yahoo.com\\', port=443): Max retries exceeded with url: /v8/finance/chart/%ticker%?period1=1420088400&period2=1704085200&interval=1d&includePrePost=False&events=div%2Csplits%2CcapitalGains&crumb=sK4l77pf0SG (Caused by NameResolutionError(\"<urllib3.connection.HTTPSConnection object at 0x000001657A14D940>: Failed to resolve \\'query2.finance.yahoo.com\\' ([Errno 11001] getaddrinfo failed)\"))'))\n",
      "[*********************100%***********************]  1 of 1 completed\n",
      "\n",
      "1 Failed download:\n",
      "['NOW']: ConnectionError(MaxRetryError('HTTPSConnectionPool(host=\\'query2.finance.yahoo.com\\', port=443): Max retries exceeded with url: /v8/finance/chart/%ticker%?period1=1420088400&period2=1704085200&interval=1d&includePrePost=False&events=div%2Csplits%2CcapitalGains&crumb=sK4l77pf0SG (Caused by NameResolutionError(\"<urllib3.connection.HTTPSConnection object at 0x00000165740D1F10>: Failed to resolve \\'query2.finance.yahoo.com\\' ([Errno 11001] getaddrinfo failed)\"))'))\n",
      "[*********************100%***********************]  1 of 1 completed\n",
      "\n",
      "1 Failed download:\n",
      "['SHW']: ConnectionError(MaxRetryError('HTTPSConnectionPool(host=\\'query2.finance.yahoo.com\\', port=443): Max retries exceeded with url: /v8/finance/chart/%ticker%?period1=1420088400&period2=1704085200&interval=1d&includePrePost=False&events=div%2Csplits%2CcapitalGains&crumb=sK4l77pf0SG (Caused by NameResolutionError(\"<urllib3.connection.HTTPSConnection object at 0x000001657101E690>: Failed to resolve \\'query2.finance.yahoo.com\\' ([Errno 11001] getaddrinfo failed)\"))'))\n",
      "[*********************100%***********************]  1 of 1 completed\n",
      "\n",
      "1 Failed download:\n",
      "['SPG']: ConnectionError(MaxRetryError('HTTPSConnectionPool(host=\\'query2.finance.yahoo.com\\', port=443): Max retries exceeded with url: /v8/finance/chart/%ticker%?period1=1420088400&period2=1704085200&interval=1d&includePrePost=False&events=div%2Csplits%2CcapitalGains&crumb=sK4l77pf0SG (Caused by NameResolutionError(\"<urllib3.connection.HTTPSConnection object at 0x00000165710F2180>: Failed to resolve \\'query2.finance.yahoo.com\\' ([Errno 11001] getaddrinfo failed)\"))'))\n",
      "[*********************100%***********************]  1 of 1 completed\n",
      "\n",
      "1 Failed download:\n",
      "['SWKS']: ConnectionError(MaxRetryError('HTTPSConnectionPool(host=\\'query2.finance.yahoo.com\\', port=443): Max retries exceeded with url: /v8/finance/chart/%ticker%?period1=1420088400&period2=1704085200&interval=1d&includePrePost=False&events=div%2Csplits%2CcapitalGains&crumb=sK4l77pf0SG (Caused by NameResolutionError(\"<urllib3.connection.HTTPSConnection object at 0x00000165740D0140>: Failed to resolve \\'query2.finance.yahoo.com\\' ([Errno 11001] getaddrinfo failed)\"))'))\n",
      "[*********************100%***********************]  1 of 1 completed\n",
      "\n",
      "1 Failed download:\n",
      "['SJM']: ConnectionError(MaxRetryError('HTTPSConnectionPool(host=\\'query2.finance.yahoo.com\\', port=443): Max retries exceeded with url: /v8/finance/chart/%ticker%?period1=1420088400&period2=1704085200&interval=1d&includePrePost=False&events=div%2Csplits%2CcapitalGains&crumb=sK4l77pf0SG (Caused by NameResolutionError(\"<urllib3.connection.HTTPSConnection object at 0x00000165740D2300>: Failed to resolve \\'query2.finance.yahoo.com\\' ([Errno 11001] getaddrinfo failed)\"))'))\n",
      "[*********************100%***********************]  1 of 1 completed\n",
      "\n",
      "1 Failed download:\n",
      "['SW']: ConnectionError(MaxRetryError('HTTPSConnectionPool(host=\\'query2.finance.yahoo.com\\', port=443): Max retries exceeded with url: /v8/finance/chart/%ticker%?period1=1420088400&period2=1704085200&interval=1d&includePrePost=False&events=div%2Csplits%2CcapitalGains&crumb=sK4l77pf0SG (Caused by NameResolutionError(\"<urllib3.connection.HTTPSConnection object at 0x000001657A0A3350>: Failed to resolve \\'query2.finance.yahoo.com\\' ([Errno 11001] getaddrinfo failed)\"))'))\n",
      "[*********************100%***********************]  1 of 1 completed\n",
      "\n",
      "1 Failed download:\n",
      "['SNA']: ConnectionError(MaxRetryError('HTTPSConnectionPool(host=\\'query2.finance.yahoo.com\\', port=443): Max retries exceeded with url: /v8/finance/chart/%ticker%?period1=1420088400&period2=1704085200&interval=1d&includePrePost=False&events=div%2Csplits%2CcapitalGains&crumb=sK4l77pf0SG (Caused by NameResolutionError(\"<urllib3.connection.HTTPSConnection object at 0x000001657417E6C0>: Failed to resolve \\'query2.finance.yahoo.com\\' ([Errno 11001] getaddrinfo failed)\"))'))\n",
      "[*********************100%***********************]  1 of 1 completed\n",
      "\n",
      "1 Failed download:\n",
      "['SOLV']: ConnectionError(MaxRetryError('HTTPSConnectionPool(host=\\'query2.finance.yahoo.com\\', port=443): Max retries exceeded with url: /v8/finance/chart/%ticker%?period1=1420088400&period2=1704085200&interval=1d&includePrePost=False&events=div%2Csplits%2CcapitalGains&crumb=sK4l77pf0SG (Caused by NameResolutionError(\"<urllib3.connection.HTTPSConnection object at 0x000001657A097110>: Failed to resolve \\'query2.finance.yahoo.com\\' ([Errno 11001] getaddrinfo failed)\"))'))\n",
      "[*********************100%***********************]  1 of 1 completed\n",
      "\n",
      "1 Failed download:\n",
      "['SO']: ConnectionError(MaxRetryError('HTTPSConnectionPool(host=\\'query2.finance.yahoo.com\\', port=443): Max retries exceeded with url: /v8/finance/chart/%ticker%?period1=1420088400&period2=1704085200&interval=1d&includePrePost=False&events=div%2Csplits%2CcapitalGains&crumb=sK4l77pf0SG (Caused by NameResolutionError(\"<urllib3.connection.HTTPSConnection object at 0x000001653CB01EB0>: Failed to resolve \\'query2.finance.yahoo.com\\' ([Errno 11001] getaddrinfo failed)\"))'))\n",
      "[*********************100%***********************]  1 of 1 completed"
     ]
    },
    {
     "name": "stdout",
     "output_type": "stream",
     "text": [
      "Skipping SLB: Not enough data\n",
      "Processing STX...\n",
      "Skipping STX: Not enough data\n",
      "Processing SRE...\n",
      "Skipping SRE: Not enough data\n",
      "Processing NOW...\n",
      "Skipping NOW: Not enough data\n",
      "Processing SHW...\n",
      "Skipping SHW: Not enough data\n",
      "Processing SPG...\n",
      "Skipping SPG: Not enough data\n",
      "Processing SWKS...\n",
      "Skipping SWKS: Not enough data\n",
      "Processing SJM...\n",
      "Skipping SJM: Not enough data\n",
      "Processing SW...\n",
      "Skipping SW: Not enough data\n",
      "Processing SNA...\n",
      "Skipping SNA: Not enough data\n",
      "Processing SOLV...\n",
      "Skipping SOLV: Not enough data\n",
      "Processing SO...\n",
      "Skipping SO: Not enough data\n",
      "Processing LUV...\n"
     ]
    },
    {
     "name": "stderr",
     "output_type": "stream",
     "text": [
      "\n",
      "\n",
      "1 Failed download:\n",
      "['LUV']: ConnectionError(MaxRetryError('HTTPSConnectionPool(host=\\'query2.finance.yahoo.com\\', port=443): Max retries exceeded with url: /v8/finance/chart/%ticker%?period1=1420088400&period2=1704085200&interval=1d&includePrePost=False&events=div%2Csplits%2CcapitalGains&crumb=sK4l77pf0SG (Caused by NameResolutionError(\"<urllib3.connection.HTTPSConnection object at 0x00000165710BA570>: Failed to resolve \\'query2.finance.yahoo.com\\' ([Errno 11001] getaddrinfo failed)\"))'))\n",
      "[*********************100%***********************]  1 of 1 completed\n",
      "\n",
      "1 Failed download:\n",
      "['SWK']: ConnectionError(MaxRetryError('HTTPSConnectionPool(host=\\'query2.finance.yahoo.com\\', port=443): Max retries exceeded with url: /v8/finance/chart/%ticker%?period1=1420088400&period2=1704085200&interval=1d&includePrePost=False&events=div%2Csplits%2CcapitalGains&crumb=sK4l77pf0SG (Caused by NameResolutionError(\"<urllib3.connection.HTTPSConnection object at 0x00000165740D2CF0>: Failed to resolve \\'query2.finance.yahoo.com\\' ([Errno 11001] getaddrinfo failed)\"))'))\n",
      "[*********************100%***********************]  1 of 1 completed\n",
      "\n",
      "1 Failed download:\n",
      "['SBUX']: ConnectionError(MaxRetryError('HTTPSConnectionPool(host=\\'query2.finance.yahoo.com\\', port=443): Max retries exceeded with url: /v8/finance/chart/%ticker%?period1=1420088400&period2=1704085200&interval=1d&includePrePost=False&events=div%2Csplits%2CcapitalGains&crumb=sK4l77pf0SG (Caused by NameResolutionError(\"<urllib3.connection.HTTPSConnection object at 0x000001657A0A0650>: Failed to resolve \\'query2.finance.yahoo.com\\' ([Errno 11001] getaddrinfo failed)\"))'))\n",
      "[*********************100%***********************]  1 of 1 completed\n",
      "\n",
      "1 Failed download:\n",
      "['STT']: ConnectionError(MaxRetryError('HTTPSConnectionPool(host=\\'query2.finance.yahoo.com\\', port=443): Max retries exceeded with url: /v8/finance/chart/%ticker%?period1=1420088400&period2=1704085200&interval=1d&includePrePost=False&events=div%2Csplits%2CcapitalGains&crumb=sK4l77pf0SG (Caused by NameResolutionError(\"<urllib3.connection.HTTPSConnection object at 0x000001657107B0E0>: Failed to resolve \\'query2.finance.yahoo.com\\' ([Errno 11001] getaddrinfo failed)\"))'))\n",
      "[*********************100%***********************]  1 of 1 completed\n",
      "\n",
      "1 Failed download:\n",
      "['STLD']: ConnectionError(MaxRetryError('HTTPSConnectionPool(host=\\'query2.finance.yahoo.com\\', port=443): Max retries exceeded with url: /v8/finance/chart/%ticker%?period1=1420088400&period2=1704085200&interval=1d&includePrePost=False&events=div%2Csplits%2CcapitalGains&crumb=sK4l77pf0SG (Caused by NameResolutionError(\"<urllib3.connection.HTTPSConnection object at 0x00000165740D3110>: Failed to resolve \\'query2.finance.yahoo.com\\' ([Errno 11001] getaddrinfo failed)\"))'))\n",
      "[*********************100%***********************]  1 of 1 completed\n",
      "\n",
      "1 Failed download:\n",
      "['STE']: ConnectionError(MaxRetryError('HTTPSConnectionPool(host=\\'query2.finance.yahoo.com\\', port=443): Max retries exceeded with url: /v8/finance/chart/%ticker%?period1=1420088400&period2=1704085200&interval=1d&includePrePost=False&events=div%2Csplits%2CcapitalGains&crumb=sK4l77pf0SG (Caused by NameResolutionError(\"<urllib3.connection.HTTPSConnection object at 0x000001655DBCEDE0>: Failed to resolve \\'query2.finance.yahoo.com\\' ([Errno 11001] getaddrinfo failed)\"))'))\n",
      "[*********************100%***********************]  1 of 1 completed\n",
      "\n",
      "1 Failed download:\n",
      "['SYK']: ConnectionError(MaxRetryError('HTTPSConnectionPool(host=\\'query2.finance.yahoo.com\\', port=443): Max retries exceeded with url: /v8/finance/chart/%ticker%?period1=1420088400&period2=1704085200&interval=1d&includePrePost=False&events=div%2Csplits%2CcapitalGains&crumb=sK4l77pf0SG (Caused by NameResolutionError(\"<urllib3.connection.HTTPSConnection object at 0x00000165710F2930>: Failed to resolve \\'query2.finance.yahoo.com\\' ([Errno 11001] getaddrinfo failed)\"))'))\n",
      "[*********************100%***********************]  1 of 1 completed\n",
      "\n",
      "1 Failed download:\n",
      "['SMCI']: ConnectionError(MaxRetryError('HTTPSConnectionPool(host=\\'query2.finance.yahoo.com\\', port=443): Max retries exceeded with url: /v8/finance/chart/%ticker%?period1=1420088400&period2=1704085200&interval=1d&includePrePost=False&events=div%2Csplits%2CcapitalGains&crumb=sK4l77pf0SG (Caused by NameResolutionError(\"<urllib3.connection.HTTPSConnection object at 0x0000016574140CB0>: Failed to resolve \\'query2.finance.yahoo.com\\' ([Errno 11001] getaddrinfo failed)\"))'))\n",
      "[*********************100%***********************]  1 of 1 completed\n",
      "\n",
      "1 Failed download:\n",
      "['SYF']: ConnectionError(MaxRetryError('HTTPSConnectionPool(host=\\'query2.finance.yahoo.com\\', port=443): Max retries exceeded with url: /v8/finance/chart/%ticker%?period1=1420088400&period2=1704085200&interval=1d&includePrePost=False&events=div%2Csplits%2CcapitalGains&crumb=sK4l77pf0SG (Caused by NameResolutionError(\"<urllib3.connection.HTTPSConnection object at 0x000001656BFC2B40>: Failed to resolve \\'query2.finance.yahoo.com\\' ([Errno 11001] getaddrinfo failed)\"))'))\n",
      "[*********************100%***********************]  1 of 1 completed\n",
      "\n",
      "1 Failed download:\n",
      "['SNPS']: ConnectionError(MaxRetryError('HTTPSConnectionPool(host=\\'query2.finance.yahoo.com\\', port=443): Max retries exceeded with url: /v8/finance/chart/%ticker%?period1=1420088400&period2=1704085200&interval=1d&includePrePost=False&events=div%2Csplits%2CcapitalGains&crumb=sK4l77pf0SG (Caused by NameResolutionError(\"<urllib3.connection.HTTPSConnection object at 0x0000016569DFC230>: Failed to resolve \\'query2.finance.yahoo.com\\' ([Errno 11001] getaddrinfo failed)\"))'))\n",
      "[*********************100%***********************]  1 of 1 completed\n",
      "\n",
      "1 Failed download:\n",
      "['SYY']: ConnectionError(MaxRetryError('HTTPSConnectionPool(host=\\'query2.finance.yahoo.com\\', port=443): Max retries exceeded with url: /v8/finance/chart/%ticker%?period1=1420088400&period2=1704085200&interval=1d&includePrePost=False&events=div%2Csplits%2CcapitalGains&crumb=sK4l77pf0SG (Caused by NameResolutionError(\"<urllib3.connection.HTTPSConnection object at 0x000001655DD09130>: Failed to resolve \\'query2.finance.yahoo.com\\' ([Errno 11001] getaddrinfo failed)\"))'))\n",
      "[*********************100%***********************]  1 of 1 completed\n",
      "\n",
      "1 Failed download:\n",
      "['TMUS']: ConnectionError(MaxRetryError('HTTPSConnectionPool(host=\\'query2.finance.yahoo.com\\', port=443): Max retries exceeded with url: /v8/finance/chart/%ticker%?period1=1420088400&period2=1704085200&interval=1d&includePrePost=False&events=div%2Csplits%2CcapitalGains&crumb=sK4l77pf0SG (Caused by NameResolutionError(\"<urllib3.connection.HTTPSConnection object at 0x00000165740D2AE0>: Failed to resolve \\'query2.finance.yahoo.com\\' ([Errno 11001] getaddrinfo failed)\"))'))\n",
      "[*********************100%***********************]  1 of 1 completed"
     ]
    },
    {
     "name": "stdout",
     "output_type": "stream",
     "text": [
      "Skipping LUV: Not enough data\n",
      "Processing SWK...\n",
      "Skipping SWK: Not enough data\n",
      "Processing SBUX...\n",
      "Skipping SBUX: Not enough data\n",
      "Processing STT...\n",
      "Skipping STT: Not enough data\n",
      "Processing STLD...\n",
      "Skipping STLD: Not enough data\n",
      "Processing STE...\n",
      "Skipping STE: Not enough data\n",
      "Processing SYK...\n",
      "Skipping SYK: Not enough data\n",
      "Processing SMCI...\n",
      "Skipping SMCI: Not enough data\n",
      "Processing SYF...\n",
      "Skipping SYF: Not enough data\n",
      "Processing SNPS...\n",
      "Skipping SNPS: Not enough data\n",
      "Processing SYY...\n",
      "Skipping SYY: Not enough data\n",
      "Processing TMUS...\n",
      "Skipping TMUS: Not enough data\n",
      "Processing TROW...\n"
     ]
    },
    {
     "name": "stderr",
     "output_type": "stream",
     "text": [
      "\n",
      "\n",
      "1 Failed download:\n",
      "['TROW']: ConnectionError(MaxRetryError('HTTPSConnectionPool(host=\\'query2.finance.yahoo.com\\', port=443): Max retries exceeded with url: /v8/finance/chart/%ticker%?period1=1420088400&period2=1704085200&interval=1d&includePrePost=False&events=div%2Csplits%2CcapitalGains&crumb=sK4l77pf0SG (Caused by NameResolutionError(\"<urllib3.connection.HTTPSConnection object at 0x000001657A14F170>: Failed to resolve \\'query2.finance.yahoo.com\\' ([Errno 11001] getaddrinfo failed)\"))'))\n",
      "[*********************100%***********************]  1 of 1 completed\n",
      "\n",
      "1 Failed download:\n",
      "['TTWO']: ConnectionError(MaxRetryError('HTTPSConnectionPool(host=\\'query2.finance.yahoo.com\\', port=443): Max retries exceeded with url: /v8/finance/chart/%ticker%?period1=1420088400&period2=1704085200&interval=1d&includePrePost=False&events=div%2Csplits%2CcapitalGains&crumb=sK4l77pf0SG (Caused by NameResolutionError(\"<urllib3.connection.HTTPSConnection object at 0x000001657A095640>: Failed to resolve \\'query2.finance.yahoo.com\\' ([Errno 11001] getaddrinfo failed)\"))'))\n",
      "[*********************100%***********************]  1 of 1 completed\n",
      "\n",
      "1 Failed download:\n",
      "['TPR']: ConnectionError(MaxRetryError('HTTPSConnectionPool(host=\\'query2.finance.yahoo.com\\', port=443): Max retries exceeded with url: /v8/finance/chart/%ticker%?period1=1420088400&period2=1704085200&interval=1d&includePrePost=False&events=div%2Csplits%2CcapitalGains&crumb=sK4l77pf0SG (Caused by NameResolutionError(\"<urllib3.connection.HTTPSConnection object at 0x00000165710BB170>: Failed to resolve \\'query2.finance.yahoo.com\\' ([Errno 11001] getaddrinfo failed)\"))'))\n",
      "[*********************100%***********************]  1 of 1 completed\n",
      "\n",
      "1 Failed download:\n",
      "['TRGP']: ConnectionError(MaxRetryError('HTTPSConnectionPool(host=\\'query2.finance.yahoo.com\\', port=443): Max retries exceeded with url: /v8/finance/chart/%ticker%?period1=1420088400&period2=1704085200&interval=1d&includePrePost=False&events=div%2Csplits%2CcapitalGains&crumb=sK4l77pf0SG (Caused by NameResolutionError(\"<urllib3.connection.HTTPSConnection object at 0x00000165710F13A0>: Failed to resolve \\'query2.finance.yahoo.com\\' ([Errno 11001] getaddrinfo failed)\"))'))\n",
      "[*********************100%***********************]  1 of 1 completed\n",
      "\n",
      "1 Failed download:\n",
      "['TGT']: ConnectionError(MaxRetryError('HTTPSConnectionPool(host=\\'query2.finance.yahoo.com\\', port=443): Max retries exceeded with url: /v8/finance/chart/%ticker%?period1=1420088400&period2=1704085200&interval=1d&includePrePost=False&events=div%2Csplits%2CcapitalGains&crumb=sK4l77pf0SG (Caused by NameResolutionError(\"<urllib3.connection.HTTPSConnection object at 0x000001656BF58530>: Failed to resolve \\'query2.finance.yahoo.com\\' ([Errno 11001] getaddrinfo failed)\"))'))\n",
      "[*********************100%***********************]  1 of 1 completed\n",
      "\n",
      "1 Failed download:\n",
      "['TEL']: ConnectionError(MaxRetryError('HTTPSConnectionPool(host=\\'query2.finance.yahoo.com\\', port=443): Max retries exceeded with url: /v8/finance/chart/%ticker%?period1=1420088400&period2=1704085200&interval=1d&includePrePost=False&events=div%2Csplits%2CcapitalGains&crumb=sK4l77pf0SG (Caused by NameResolutionError(\"<urllib3.connection.HTTPSConnection object at 0x0000016570FD0170>: Failed to resolve \\'query2.finance.yahoo.com\\' ([Errno 11001] getaddrinfo failed)\"))'))\n",
      "[*********************100%***********************]  1 of 1 completed\n",
      "\n",
      "1 Failed download:\n",
      "['TDY']: ConnectionError(MaxRetryError('HTTPSConnectionPool(host=\\'query2.finance.yahoo.com\\', port=443): Max retries exceeded with url: /v8/finance/chart/%ticker%?period1=1420088400&period2=1704085200&interval=1d&includePrePost=False&events=div%2Csplits%2CcapitalGains&crumb=sK4l77pf0SG (Caused by NameResolutionError(\"<urllib3.connection.HTTPSConnection object at 0x0000016570F6F1A0>: Failed to resolve \\'query2.finance.yahoo.com\\' ([Errno 11001] getaddrinfo failed)\"))'))\n",
      "[*********************100%***********************]  1 of 1 completed\n",
      "\n",
      "1 Failed download:\n",
      "['TFX']: ConnectionError(MaxRetryError('HTTPSConnectionPool(host=\\'query2.finance.yahoo.com\\', port=443): Max retries exceeded with url: /v8/finance/chart/%ticker%?period1=1420088400&period2=1704085200&interval=1d&includePrePost=False&events=div%2Csplits%2CcapitalGains&crumb=sK4l77pf0SG (Caused by NameResolutionError(\"<urllib3.connection.HTTPSConnection object at 0x0000016569F6F920>: Failed to resolve \\'query2.finance.yahoo.com\\' ([Errno 11001] getaddrinfo failed)\"))'))\n",
      "[*********************100%***********************]  1 of 1 completed\n",
      "\n",
      "1 Failed download:\n",
      "['TER']: ConnectionError(MaxRetryError('HTTPSConnectionPool(host=\\'query2.finance.yahoo.com\\', port=443): Max retries exceeded with url: /v8/finance/chart/%ticker%?period1=1420088400&period2=1704085200&interval=1d&includePrePost=False&events=div%2Csplits%2CcapitalGains&crumb=sK4l77pf0SG (Caused by NameResolutionError(\"<urllib3.connection.HTTPSConnection object at 0x000001657A14D7C0>: Failed to resolve \\'query2.finance.yahoo.com\\' ([Errno 11001] getaddrinfo failed)\"))'))\n",
      "[*********************100%***********************]  1 of 1 completed\n",
      "\n",
      "1 Failed download:\n",
      "['TSLA']: ConnectionError(MaxRetryError('HTTPSConnectionPool(host=\\'query2.finance.yahoo.com\\', port=443): Max retries exceeded with url: /v8/finance/chart/%ticker%?period1=1420088400&period2=1704085200&interval=1d&includePrePost=False&events=div%2Csplits%2CcapitalGains&crumb=sK4l77pf0SG (Caused by NameResolutionError(\"<urllib3.connection.HTTPSConnection object at 0x00000165740D2F00>: Failed to resolve \\'query2.finance.yahoo.com\\' ([Errno 11001] getaddrinfo failed)\"))'))\n",
      "[*********************100%***********************]  1 of 1 completed\n",
      "\n",
      "1 Failed download:\n",
      "['TXN']: ConnectionError(MaxRetryError('HTTPSConnectionPool(host=\\'query2.finance.yahoo.com\\', port=443): Max retries exceeded with url: /v8/finance/chart/%ticker%?period1=1420088400&period2=1704085200&interval=1d&includePrePost=False&events=div%2Csplits%2CcapitalGains&crumb=sK4l77pf0SG (Caused by NameResolutionError(\"<urllib3.connection.HTTPSConnection object at 0x000001657417ECF0>: Failed to resolve \\'query2.finance.yahoo.com\\' ([Errno 11001] getaddrinfo failed)\"))'))\n",
      "[*********************100%***********************]  1 of 1 completed\n",
      "\n",
      "1 Failed download:\n",
      "['TXT']: ConnectionError(MaxRetryError('HTTPSConnectionPool(host=\\'query2.finance.yahoo.com\\', port=443): Max retries exceeded with url: /v8/finance/chart/%ticker%?period1=1420088400&period2=1704085200&interval=1d&includePrePost=False&events=div%2Csplits%2CcapitalGains&crumb=sK4l77pf0SG (Caused by NameResolutionError(\"<urllib3.connection.HTTPSConnection object at 0x000001657A1695E0>: Failed to resolve \\'query2.finance.yahoo.com\\' ([Errno 11001] getaddrinfo failed)\"))'))\n",
      "[*********************100%***********************]  1 of 1 completed"
     ]
    },
    {
     "name": "stdout",
     "output_type": "stream",
     "text": [
      "Skipping TROW: Not enough data\n",
      "Processing TTWO...\n",
      "Skipping TTWO: Not enough data\n",
      "Processing TPR...\n",
      "Skipping TPR: Not enough data\n",
      "Processing TRGP...\n",
      "Skipping TRGP: Not enough data\n",
      "Processing TGT...\n",
      "Skipping TGT: Not enough data\n",
      "Processing TEL...\n",
      "Skipping TEL: Not enough data\n",
      "Processing TDY...\n",
      "Skipping TDY: Not enough data\n",
      "Processing TFX...\n",
      "Skipping TFX: Not enough data\n",
      "Processing TER...\n",
      "Skipping TER: Not enough data\n",
      "Processing TSLA...\n",
      "Skipping TSLA: Not enough data\n",
      "Processing TXN...\n",
      "Skipping TXN: Not enough data\n",
      "Processing TXT...\n",
      "Skipping TXT: Not enough data\n",
      "Processing TMO...\n"
     ]
    },
    {
     "name": "stderr",
     "output_type": "stream",
     "text": [
      "\n",
      "\n",
      "1 Failed download:\n",
      "['TMO']: ConnectionError(MaxRetryError('HTTPSConnectionPool(host=\\'query2.finance.yahoo.com\\', port=443): Max retries exceeded with url: /v8/finance/chart/%ticker%?period1=1420088400&period2=1704085200&interval=1d&includePrePost=False&events=div%2Csplits%2CcapitalGains&crumb=sK4l77pf0SG (Caused by NameResolutionError(\"<urllib3.connection.HTTPSConnection object at 0x00000165710BAAE0>: Failed to resolve \\'query2.finance.yahoo.com\\' ([Errno 11001] getaddrinfo failed)\"))'))\n",
      "[*********************100%***********************]  1 of 1 completed\n",
      "\n",
      "1 Failed download:\n",
      "['TJX']: ConnectionError(MaxRetryError('HTTPSConnectionPool(host=\\'query2.finance.yahoo.com\\', port=443): Max retries exceeded with url: /v8/finance/chart/%ticker%?period1=1420088400&period2=1704085200&interval=1d&includePrePost=False&events=div%2Csplits%2CcapitalGains&crumb=sK4l77pf0SG (Caused by NameResolutionError(\"<urllib3.connection.HTTPSConnection object at 0x00000165740D2300>: Failed to resolve \\'query2.finance.yahoo.com\\' ([Errno 11001] getaddrinfo failed)\"))'))\n",
      "[*********************100%***********************]  1 of 1 completed\n",
      "\n",
      "1 Failed download:\n",
      "['TSCO']: ConnectionError(MaxRetryError('HTTPSConnectionPool(host=\\'query2.finance.yahoo.com\\', port=443): Max retries exceeded with url: /v8/finance/chart/%ticker%?period1=1420088400&period2=1704085200&interval=1d&includePrePost=False&events=div%2Csplits%2CcapitalGains&crumb=sK4l77pf0SG (Caused by NameResolutionError(\"<urllib3.connection.HTTPSConnection object at 0x000001657A096F30>: Failed to resolve \\'query2.finance.yahoo.com\\' ([Errno 11001] getaddrinfo failed)\"))'))\n",
      "[*********************100%***********************]  1 of 1 completed\n",
      "\n",
      "1 Failed download:\n",
      "['TT']: ConnectionError(MaxRetryError('H%ticker%PSConnectionPool(host=\\'query2.finance.yahoo.com\\', port=443): Max retries exceeded with url: /v8/finance/chart/%ticker%?period1=1420088400&period2=1704085200&interval=1d&includePrePost=False&events=div%2Csplits%2CcapitalGains&crumb=sK4l77pf0SG (Caused by NameResolutionError(\"<urllib3.connection.H%ticker%PSConnection object at 0x000001657A169580>: Failed to resolve \\'query2.finance.yahoo.com\\' ([Errno 11001] getaddrinfo failed)\"))'))\n",
      "[*********************100%***********************]  1 of 1 completed\n",
      "\n",
      "1 Failed download:\n",
      "['TDG']: ConnectionError(MaxRetryError('HTTPSConnectionPool(host=\\'query2.finance.yahoo.com\\', port=443): Max retries exceeded with url: /v8/finance/chart/%ticker%?period1=1420088400&period2=1704085200&interval=1d&includePrePost=False&events=div%2Csplits%2CcapitalGains&crumb=sK4l77pf0SG (Caused by NameResolutionError(\"<urllib3.connection.HTTPSConnection object at 0x000001657A12DA60>: Failed to resolve \\'query2.finance.yahoo.com\\' ([Errno 11001] getaddrinfo failed)\"))'))\n",
      "[*********************100%***********************]  1 of 1 completed\n",
      "\n",
      "1 Failed download:\n",
      "['TRV']: ConnectionError(MaxRetryError('HTTPSConnectionPool(host=\\'query2.finance.yahoo.com\\', port=443): Max retries exceeded with url: /v8/finance/chart/%ticker%?period1=1420088400&period2=1704085200&interval=1d&includePrePost=False&events=div%2Csplits%2CcapitalGains&crumb=sK4l77pf0SG (Caused by NameResolutionError(\"<urllib3.connection.HTTPSConnection object at 0x0000016574140FB0>: Failed to resolve \\'query2.finance.yahoo.com\\' ([Errno 11001] getaddrinfo failed)\"))'))\n",
      "[*********************100%***********************]  1 of 1 completed\n",
      "\n",
      "1 Failed download:\n",
      "['TRMB']: ConnectionError(MaxRetryError('HTTPSConnectionPool(host=\\'query2.finance.yahoo.com\\', port=443): Max retries exceeded with url: /v8/finance/chart/%ticker%?period1=1420088400&period2=1704085200&interval=1d&includePrePost=False&events=div%2Csplits%2CcapitalGains&crumb=sK4l77pf0SG (Caused by NameResolutionError(\"<urllib3.connection.HTTPSConnection object at 0x000001657A14C3B0>: Failed to resolve \\'query2.finance.yahoo.com\\' ([Errno 11001] getaddrinfo failed)\"))'))\n",
      "[*********************100%***********************]  1 of 1 completed\n",
      "\n",
      "1 Failed download:\n",
      "['TFC']: ConnectionError(MaxRetryError('HTTPSConnectionPool(host=\\'query2.finance.yahoo.com\\', port=443): Max retries exceeded with url: /v8/finance/chart/%ticker%?period1=1420088400&period2=1704085200&interval=1d&includePrePost=False&events=div%2Csplits%2CcapitalGains&crumb=sK4l77pf0SG (Caused by NameResolutionError(\"<urllib3.connection.HTTPSConnection object at 0x0000016571079310>: Failed to resolve \\'query2.finance.yahoo.com\\' ([Errno 11001] getaddrinfo failed)\"))'))\n",
      "[*********************100%***********************]  1 of 1 completed\n",
      "\n",
      "1 Failed download:\n",
      "['TYL']: ConnectionError(MaxRetryError('HTTPSConnectionPool(host=\\'query2.finance.yahoo.com\\', port=443): Max retries exceeded with url: /v8/finance/chart/%ticker%?period1=1420088400&period2=1704085200&interval=1d&includePrePost=False&events=div%2Csplits%2CcapitalGains&crumb=sK4l77pf0SG (Caused by NameResolutionError(\"<urllib3.connection.HTTPSConnection object at 0x000001657A12E210>: Failed to resolve \\'query2.finance.yahoo.com\\' ([Errno 11001] getaddrinfo failed)\"))'))\n",
      "[*********************100%***********************]  1 of 1 completed\n",
      "\n",
      "1 Failed download:\n",
      "['TSN']: ConnectionError(MaxRetryError('HTTPSConnectionPool(host=\\'query2.finance.yahoo.com\\', port=443): Max retries exceeded with url: /v8/finance/chart/%ticker%?period1=1420088400&period2=1704085200&interval=1d&includePrePost=False&events=div%2Csplits%2CcapitalGains&crumb=sK4l77pf0SG (Caused by NameResolutionError(\"<urllib3.connection.HTTPSConnection object at 0x000001657A12F470>: Failed to resolve \\'query2.finance.yahoo.com\\' ([Errno 11001] getaddrinfo failed)\"))'))\n",
      "[*********************100%***********************]  1 of 1 completed"
     ]
    },
    {
     "name": "stdout",
     "output_type": "stream",
     "text": [
      "Skipping TMO: Not enough data\n",
      "Processing TJX...\n",
      "Skipping TJX: Not enough data\n",
      "Processing TSCO...\n",
      "Skipping TSCO: Not enough data\n",
      "Processing TT...\n",
      "Skipping TT: Not enough data\n",
      "Processing TDG...\n",
      "Skipping TDG: Not enough data\n",
      "Processing TRV...\n",
      "Skipping TRV: Not enough data\n",
      "Processing TRMB...\n",
      "Skipping TRMB: Not enough data\n",
      "Processing TFC...\n",
      "Skipping TFC: Not enough data\n",
      "Processing TYL...\n",
      "Skipping TYL: Not enough data\n",
      "Processing TSN...\n",
      "Skipping TSN: Not enough data\n",
      "Processing USB...\n"
     ]
    },
    {
     "name": "stderr",
     "output_type": "stream",
     "text": [
      "\n",
      "\n",
      "1 Failed download:\n",
      "['USB']: ConnectionError(MaxRetryError('HTTPSConnectionPool(host=\\'query2.finance.yahoo.com\\', port=443): Max retries exceeded with url: /v8/finance/chart/%ticker%?period1=1420088400&period2=1704085200&interval=1d&includePrePost=False&events=div%2Csplits%2CcapitalGains&crumb=sK4l77pf0SG (Caused by NameResolutionError(\"<urllib3.connection.HTTPSConnection object at 0x000001657A14FBF0>: Failed to resolve \\'query2.finance.yahoo.com\\' ([Errno 11001] getaddrinfo failed)\"))'))\n",
      "[*********************100%***********************]  1 of 1 completed\n",
      "\n",
      "1 Failed download:\n",
      "['UBER']: ConnectionError(MaxRetryError('HTTPSConnectionPool(host=\\'query2.finance.yahoo.com\\', port=443): Max retries exceeded with url: /v8/finance/chart/%ticker%?period1=1420088400&period2=1704085200&interval=1d&includePrePost=False&events=div%2Csplits%2CcapitalGains&crumb=sK4l77pf0SG (Caused by NameResolutionError(\"<urllib3.connection.HTTPSConnection object at 0x000001656BF58530>: Failed to resolve \\'query2.finance.yahoo.com\\' ([Errno 11001] getaddrinfo failed)\"))'))\n",
      "[*********************100%***********************]  1 of 1 completed\n",
      "\n",
      "1 Failed download:\n",
      "['UDR']: ConnectionError(MaxRetryError('HTTPSConnectionPool(host=\\'query2.finance.yahoo.com\\', port=443): Max retries exceeded with url: /v8/finance/chart/%ticker%?period1=1420088400&period2=1704085200&interval=1d&includePrePost=False&events=div%2Csplits%2CcapitalGains&crumb=sK4l77pf0SG (Caused by NameResolutionError(\"<urllib3.connection.HTTPSConnection object at 0x000001657A12E900>: Failed to resolve \\'query2.finance.yahoo.com\\' ([Errno 11001] getaddrinfo failed)\"))'))\n",
      "[*********************100%***********************]  1 of 1 completed\n",
      "\n",
      "1 Failed download:\n",
      "['ULTA']: ConnectionError(MaxRetryError('HTTPSConnectionPool(host=\\'query2.finance.yahoo.com\\', port=443): Max retries exceeded with url: /v8/finance/chart/%ticker%?period1=1420088400&period2=1704085200&interval=1d&includePrePost=False&events=div%2Csplits%2CcapitalGains&crumb=sK4l77pf0SG (Caused by NameResolutionError(\"<urllib3.connection.HTTPSConnection object at 0x000001657A12E690>: Failed to resolve \\'query2.finance.yahoo.com\\' ([Errno 11001] getaddrinfo failed)\"))'))\n",
      "[*********************100%***********************]  1 of 1 completed\n",
      "\n",
      "1 Failed download:\n",
      "['UNP']: ConnectionError(MaxRetryError('HTTPSConnectionPool(host=\\'query2.finance.yahoo.com\\', port=443): Max retries exceeded with url: /v8/finance/chart/%ticker%?period1=1420088400&period2=1704085200&interval=1d&includePrePost=False&events=div%2Csplits%2CcapitalGains&crumb=sK4l77pf0SG (Caused by NameResolutionError(\"<urllib3.connection.HTTPSConnection object at 0x000001657A1519D0>: Failed to resolve \\'query2.finance.yahoo.com\\' ([Errno 11001] getaddrinfo failed)\"))'))\n",
      "[*********************100%***********************]  1 of 1 completed\n",
      "\n",
      "1 Failed download:\n",
      "['UAL']: ConnectionError(MaxRetryError('HTTPSConnectionPool(host=\\'query2.finance.yahoo.com\\', port=443): Max retries exceeded with url: /v8/finance/chart/%ticker%?period1=1420088400&period2=1704085200&interval=1d&includePrePost=False&events=div%2Csplits%2CcapitalGains&crumb=sK4l77pf0SG (Caused by NameResolutionError(\"<urllib3.connection.HTTPSConnection object at 0x000001657A12E900>: Failed to resolve \\'query2.finance.yahoo.com\\' ([Errno 11001] getaddrinfo failed)\"))'))\n",
      "[*********************100%***********************]  1 of 1 completed\n",
      "\n",
      "1 Failed download:\n",
      "['UPS']: ConnectionError(MaxRetryError('HTTPSConnectionPool(host=\\'query2.finance.yahoo.com\\', port=443): Max retries exceeded with url: /v8/finance/chart/%ticker%?period1=1420088400&period2=1704085200&interval=1d&includePrePost=False&events=div%2Csplits%2CcapitalGains&crumb=sK4l77pf0SG (Caused by NameResolutionError(\"<urllib3.connection.HTTPSConnection object at 0x000001657417C110>: Failed to resolve \\'query2.finance.yahoo.com\\' ([Errno 11001] getaddrinfo failed)\"))'))\n",
      "[*********************100%***********************]  1 of 1 completed\n",
      "\n",
      "1 Failed download:\n",
      "['URI']: ConnectionError(MaxRetryError('HTTPSConnectionPool(host=\\'query2.finance.yahoo.com\\', port=443): Max retries exceeded with url: /v8/finance/chart/%ticker%?period1=1420088400&period2=1704085200&interval=1d&includePrePost=False&events=div%2Csplits%2CcapitalGains&crumb=sK4l77pf0SG (Caused by NameResolutionError(\"<urllib3.connection.HTTPSConnection object at 0x00000165740D2660>: Failed to resolve \\'query2.finance.yahoo.com\\' ([Errno 11001] getaddrinfo failed)\"))'))\n",
      "[*********************100%***********************]  1 of 1 completed\n",
      "\n",
      "1 Failed download:\n",
      "['UNH']: ConnectionError(MaxRetryError('HTTPSConnectionPool(host=\\'query2.finance.yahoo.com\\', port=443): Max retries exceeded with url: /v8/finance/chart/%ticker%?period1=1420088400&period2=1704085200&interval=1d&includePrePost=False&events=div%2Csplits%2CcapitalGains&crumb=sK4l77pf0SG (Caused by NameResolutionError(\"<urllib3.connection.HTTPSConnection object at 0x000001657A150BC0>: Failed to resolve \\'query2.finance.yahoo.com\\' ([Errno 11001] getaddrinfo failed)\"))'))\n",
      "[*********************100%***********************]  1 of 1 completed"
     ]
    },
    {
     "name": "stdout",
     "output_type": "stream",
     "text": [
      "Skipping USB: Not enough data\n",
      "Processing UBER...\n",
      "Skipping UBER: Not enough data\n",
      "Processing UDR...\n",
      "Skipping UDR: Not enough data\n",
      "Processing ULTA...\n",
      "Skipping ULTA: Not enough data\n",
      "Processing UNP...\n",
      "Skipping UNP: Not enough data\n",
      "Processing UAL...\n",
      "Skipping UAL: Not enough data\n",
      "Processing UPS...\n",
      "Skipping UPS: Not enough data\n",
      "Processing URI...\n",
      "Skipping URI: Not enough data\n",
      "Processing UNH...\n",
      "Skipping UNH: Not enough data\n",
      "Processing UHS...\n"
     ]
    },
    {
     "name": "stderr",
     "output_type": "stream",
     "text": [
      "\n",
      "\n",
      "1 Failed download:\n",
      "['UHS']: ConnectionError(MaxRetryError('HTTPSConnectionPool(host=\\'query2.finance.yahoo.com\\', port=443): Max retries exceeded with url: /v8/finance/chart/%ticker%?period1=1420088400&period2=1704085200&interval=1d&includePrePost=False&events=div%2Csplits%2CcapitalGains&crumb=sK4l77pf0SG (Caused by NameResolutionError(\"<urllib3.connection.HTTPSConnection object at 0x000001657A151220>: Failed to resolve \\'query2.finance.yahoo.com\\' ([Errno 11001] getaddrinfo failed)\"))'))\n",
      "[*********************100%***********************]  1 of 1 completed\n",
      "\n",
      "1 Failed download:\n",
      "['VLO']: ConnectionError(MaxRetryError('HTTPSConnectionPool(host=\\'query2.finance.yahoo.com\\', port=443): Max retries exceeded with url: /v8/finance/chart/%ticker%?period1=1420088400&period2=1704085200&interval=1d&includePrePost=False&events=div%2Csplits%2CcapitalGains&crumb=sK4l77pf0SG (Caused by NameResolutionError(\"<urllib3.connection.HTTPSConnection object at 0x000001657A1686E0>: Failed to resolve \\'query2.finance.yahoo.com\\' ([Errno 11001] getaddrinfo failed)\"))'))\n",
      "[*********************100%***********************]  1 of 1 completed\n",
      "\n",
      "1 Failed download:\n",
      "['VTR']: ConnectionError(MaxRetryError('HTTPSConnectionPool(host=\\'query2.finance.yahoo.com\\', port=443): Max retries exceeded with url: /v8/finance/chart/%ticker%?period1=1420088400&period2=1704085200&interval=1d&includePrePost=False&events=div%2Csplits%2CcapitalGains&crumb=sK4l77pf0SG (Caused by NameResolutionError(\"<urllib3.connection.HTTPSConnection object at 0x0000016569DB9490>: Failed to resolve \\'query2.finance.yahoo.com\\' ([Errno 11001] getaddrinfo failed)\"))'))\n",
      "[*********************100%***********************]  1 of 1 completed\n",
      "\n",
      "1 Failed download:\n",
      "['VLTO']: ConnectionError(MaxRetryError('HTTPSConnectionPool(host=\\'query2.finance.yahoo.com\\', port=443): Max retries exceeded with url: /v8/finance/chart/%ticker%?period1=1420088400&period2=1704085200&interval=1d&includePrePost=False&events=div%2Csplits%2CcapitalGains&crumb=sK4l77pf0SG (Caused by NameResolutionError(\"<urllib3.connection.HTTPSConnection object at 0x000001657A12C0B0>: Failed to resolve \\'query2.finance.yahoo.com\\' ([Errno 11001] getaddrinfo failed)\"))'))\n",
      "[*********************100%***********************]  1 of 1 completed\n",
      "\n",
      "1 Failed download:\n",
      "['VRSN']: ConnectionError(MaxRetryError('HTTPSConnectionPool(host=\\'query2.finance.yahoo.com\\', port=443): Max retries exceeded with url: /v8/finance/chart/%ticker%?period1=1420088400&period2=1704085200&interval=1d&includePrePost=False&events=div%2Csplits%2CcapitalGains&crumb=sK4l77pf0SG (Caused by NameResolutionError(\"<urllib3.connection.HTTPSConnection object at 0x000001657A1504D0>: Failed to resolve \\'query2.finance.yahoo.com\\' ([Errno 11001] getaddrinfo failed)\"))'))\n",
      "[*********************100%***********************]  1 of 1 completed"
     ]
    },
    {
     "name": "stdout",
     "output_type": "stream",
     "text": [
      "Skipping UHS: Not enough data\n",
      "Processing VLO...\n",
      "Skipping VLO: Not enough data\n",
      "Processing VTR...\n",
      "Skipping VTR: Not enough data\n",
      "Processing VLTO...\n",
      "Skipping VLTO: Not enough data\n",
      "Processing VRSN...\n",
      "Skipping VRSN: Not enough data\n",
      "Processing VRSK...\n"
     ]
    },
    {
     "name": "stderr",
     "output_type": "stream",
     "text": [
      "\n",
      "\n",
      "1 Failed download:\n",
      "['VRSK']: ConnectionError(MaxRetryError('HTTPSConnectionPool(host=\\'query2.finance.yahoo.com\\', port=443): Max retries exceeded with url: /v8/finance/chart/%ticker%?period1=1420088400&period2=1704085200&interval=1d&includePrePost=False&events=div%2Csplits%2CcapitalGains&crumb=sK4l77pf0SG (Caused by NameResolutionError(\"<urllib3.connection.HTTPSConnection object at 0x000001657A1516A0>: Failed to resolve \\'query2.finance.yahoo.com\\' ([Errno 11001] getaddrinfo failed)\"))'))\n",
      "[*********************100%***********************]  1 of 1 completed\n",
      "\n",
      "1 Failed download:\n",
      "['VZ']: ConnectionError(MaxRetryError('HTTPSConnectionPool(host=\\'query2.finance.yahoo.com\\', port=443): Max retries exceeded with url: /v8/finance/chart/%ticker%?period1=1420088400&period2=1704085200&interval=1d&includePrePost=False&events=div%2Csplits%2CcapitalGains&crumb=sK4l77pf0SG (Caused by NameResolutionError(\"<urllib3.connection.HTTPSConnection object at 0x000001657A152CF0>: Failed to resolve \\'query2.finance.yahoo.com\\' ([Errno 11001] getaddrinfo failed)\"))'))\n",
      "[*********************100%***********************]  1 of 1 completed\n",
      "\n",
      "1 Failed download:\n",
      "['VRTX']: ConnectionError(MaxRetryError('HTTPSConnectionPool(host=\\'query2.finance.yahoo.com\\', port=443): Max retries exceeded with url: /v8/finance/chart/%ticker%?period1=1420088400&period2=1704085200&interval=1d&includePrePost=False&events=div%2Csplits%2CcapitalGains&crumb=sK4l77pf0SG (Caused by NameResolutionError(\"<urllib3.connection.HTTPSConnection object at 0x0000016574143320>: Failed to resolve \\'query2.finance.yahoo.com\\' ([Errno 11001] getaddrinfo failed)\"))'))\n",
      "[*********************100%***********************]  1 of 1 completed\n",
      "\n",
      "1 Failed download:\n",
      "['VTRS']: ConnectionError(MaxRetryError('HTTPSConnectionPool(host=\\'query2.finance.yahoo.com\\', port=443): Max retries exceeded with url: /v8/finance/chart/%ticker%?period1=1420088400&period2=1704085200&interval=1d&includePrePost=False&events=div%2Csplits%2CcapitalGains&crumb=sK4l77pf0SG (Caused by NameResolutionError(\"<urllib3.connection.HTTPSConnection object at 0x00000165710B8110>: Failed to resolve \\'query2.finance.yahoo.com\\' ([Errno 11001] getaddrinfo failed)\"))'))\n",
      "[*********************100%***********************]  1 of 1 completed\n",
      "\n",
      "1 Failed download:\n",
      "['VICI']: ConnectionError(MaxRetryError('HTTPSConnectionPool(host=\\'query2.finance.yahoo.com\\', port=443): Max retries exceeded with url: /v8/finance/chart/%ticker%?period1=1420088400&period2=1704085200&interval=1d&includePrePost=False&events=div%2Csplits%2CcapitalGains&crumb=sK4l77pf0SG (Caused by NameResolutionError(\"<urllib3.connection.HTTPSConnection object at 0x000001657A150FB0>: Failed to resolve \\'query2.finance.yahoo.com\\' ([Errno 11001] getaddrinfo failed)\"))'))\n",
      "[*********************100%***********************]  1 of 1 completed\n",
      "\n",
      "1 Failed download:\n",
      "['V']: ConnectionError(MaxRetryError('HTTPSConnectionPool(host=\\'query2.finance.yahoo.com\\', port=443): Max retries exceeded with url: /v8/finance/chart/%ticker%?period1=1420088400&period2=1704085200&interval=1d&includePrePost=False&events=div%2Csplits%2CcapitalGains&crumb=sK4l77pf0SG (Caused by NameResolutionError(\"<urllib3.connection.HTTPSConnection object at 0x000001657A152390>: Failed to resolve \\'query2.finance.yahoo.com\\' ([Errno 11001] getaddrinfo failed)\"))'))\n",
      "[*********************100%***********************]  1 of 1 completed\n",
      "\n",
      "1 Failed download:\n",
      "['VST']: ConnectionError(MaxRetryError('HTTPSConnectionPool(host=\\'query2.finance.yahoo.com\\', port=443): Max retries exceeded with url: /v8/finance/chart/%ticker%?period1=1420088400&period2=1704085200&interval=1d&includePrePost=False&events=div%2Csplits%2CcapitalGains&crumb=sK4l77pf0SG (Caused by NameResolutionError(\"<urllib3.connection.HTTPSConnection object at 0x000001657A1537D0>: Failed to resolve \\'query2.finance.yahoo.com\\' ([Errno 11001] getaddrinfo failed)\"))'))\n",
      "[*********************100%***********************]  1 of 1 completed"
     ]
    },
    {
     "name": "stdout",
     "output_type": "stream",
     "text": [
      "Skipping VRSK: Not enough data\n",
      "Processing VZ...\n",
      "Skipping VZ: Not enough data\n",
      "Processing VRTX...\n",
      "Skipping VRTX: Not enough data\n",
      "Processing VTRS...\n",
      "Skipping VTRS: Not enough data\n",
      "Processing VICI...\n",
      "Skipping VICI: Not enough data\n",
      "Processing V...\n",
      "Skipping V: Not enough data\n",
      "Processing VST...\n",
      "Skipping VST: Not enough data\n",
      "Processing VMC...\n"
     ]
    },
    {
     "name": "stderr",
     "output_type": "stream",
     "text": [
      "\n",
      "\n",
      "1 Failed download:\n",
      "['VMC']: ConnectionError(MaxRetryError('HTTPSConnectionPool(host=\\'query2.finance.yahoo.com\\', port=443): Max retries exceeded with url: /v8/finance/chart/%ticker%?period1=1420088400&period2=1704085200&interval=1d&includePrePost=False&events=div%2Csplits%2CcapitalGains&crumb=sK4l77pf0SG (Caused by NameResolutionError(\"<urllib3.connection.HTTPSConnection object at 0x000001657A095D90>: Failed to resolve \\'query2.finance.yahoo.com\\' ([Errno 11001] getaddrinfo failed)\"))'))\n",
      "[*********************100%***********************]  1 of 1 completed\n",
      "\n",
      "1 Failed download:\n",
      "['WRB']: ConnectionError(MaxRetryError('HTTPSConnectionPool(host=\\'query2.finance.yahoo.com\\', port=443): Max retries exceeded with url: /v8/finance/chart/%ticker%?period1=1420088400&period2=1704085200&interval=1d&includePrePost=False&events=div%2Csplits%2CcapitalGains&crumb=sK4l77pf0SG (Caused by NameResolutionError(\"<urllib3.connection.HTTPSConnection object at 0x000001657A150A70>: Failed to resolve \\'query2.finance.yahoo.com\\' ([Errno 11001] getaddrinfo failed)\"))'))\n",
      "[*********************100%***********************]  1 of 1 completed\n",
      "\n",
      "1 Failed download:\n",
      "['GWW']: ConnectionError(MaxRetryError('HTTPSConnectionPool(host=\\'query2.finance.yahoo.com\\', port=443): Max retries exceeded with url: /v8/finance/chart/%ticker%?period1=1420088400&period2=1704085200&interval=1d&includePrePost=False&events=div%2Csplits%2CcapitalGains&crumb=sK4l77pf0SG (Caused by NameResolutionError(\"<urllib3.connection.HTTPSConnection object at 0x000001657A151370>: Failed to resolve \\'query2.finance.yahoo.com\\' ([Errno 11001] getaddrinfo failed)\"))'))\n",
      "[*********************100%***********************]  1 of 1 completed\n",
      "\n",
      "1 Failed download:\n",
      "['WAB']: ConnectionError(MaxRetryError('HTTPSConnectionPool(host=\\'query2.finance.yahoo.com\\', port=443): Max retries exceeded with url: /v8/finance/chart/%ticker%?period1=1420088400&period2=1704085200&interval=1d&includePrePost=False&events=div%2Csplits%2CcapitalGains&crumb=sK4l77pf0SG (Caused by NameResolutionError(\"<urllib3.connection.HTTPSConnection object at 0x000001657A151E80>: Failed to resolve \\'query2.finance.yahoo.com\\' ([Errno 11001] getaddrinfo failed)\"))'))\n",
      "[*********************100%***********************]  1 of 1 completed\n",
      "\n",
      "1 Failed download:\n",
      "['WBA']: ConnectionError(MaxRetryError('HTTPSConnectionPool(host=\\'query2.finance.yahoo.com\\', port=443): Max retries exceeded with url: /v8/finance/chart/%ticker%?period1=1420088400&period2=1704085200&interval=1d&includePrePost=False&events=div%2Csplits%2CcapitalGains&crumb=sK4l77pf0SG (Caused by NameResolutionError(\"<urllib3.connection.HTTPSConnection object at 0x000001657A1009B0>: Failed to resolve \\'query2.finance.yahoo.com\\' ([Errno 11001] getaddrinfo failed)\"))'))\n",
      "[*********************100%***********************]  1 of 1 completed\n",
      "\n",
      "1 Failed download:\n",
      "['WMT']: ConnectionError(MaxRetryError('HTTPSConnectionPool(host=\\'query2.finance.yahoo.com\\', port=443): Max retries exceeded with url: /v8/finance/chart/%ticker%?period1=1420088400&period2=1704085200&interval=1d&includePrePost=False&events=div%2Csplits%2CcapitalGains&crumb=sK4l77pf0SG (Caused by NameResolutionError(\"<urllib3.connection.HTTPSConnection object at 0x000001657A12F050>: Failed to resolve \\'query2.finance.yahoo.com\\' ([Errno 11001] getaddrinfo failed)\"))'))\n",
      "[*********************100%***********************]  1 of 1 completed\n",
      "\n",
      "1 Failed download:\n",
      "['DIS']: ConnectionError(MaxRetryError('HTTPSConnectionPool(host=\\'query2.finance.yahoo.com\\', port=443): Max retries exceeded with url: /v8/finance/chart/%ticker%?period1=1420088400&period2=1704085200&interval=1d&includePrePost=False&events=div%2Csplits%2CcapitalGains&crumb=sK4l77pf0SG (Caused by NameResolutionError(\"<urllib3.connection.HTTPSConnection object at 0x000001657A16BCB0>: Failed to resolve \\'query2.finance.yahoo.com\\' ([Errno 11001] getaddrinfo failed)\"))'))\n",
      "[*********************100%***********************]  1 of 1 completed\n",
      "\n",
      "1 Failed download:\n",
      "['WBD']: ConnectionError(MaxRetryError('HTTPSConnectionPool(host=\\'query2.finance.yahoo.com\\', port=443): Max retries exceeded with url: /v8/finance/chart/%ticker%?period1=1420088400&period2=1704085200&interval=1d&includePrePost=False&events=div%2Csplits%2CcapitalGains&crumb=sK4l77pf0SG (Caused by NameResolutionError(\"<urllib3.connection.HTTPSConnection object at 0x0000016570F6F4D0>: Failed to resolve \\'query2.finance.yahoo.com\\' ([Errno 11001] getaddrinfo failed)\"))'))\n",
      "[*********************100%***********************]  1 of 1 completed\n",
      "\n",
      "1 Failed download:\n",
      "['WM']: ConnectionError(MaxRetryError('HTTPSConnectionPool(host=\\'query2.finance.yahoo.com\\', port=443): Max retries exceeded with url: /v8/finance/chart/%ticker%?period1=1420088400&period2=1704085200&interval=1d&includePrePost=False&events=div%2Csplits%2CcapitalGains&crumb=sK4l77pf0SG (Caused by NameResolutionError(\"<urllib3.connection.HTTPSConnection object at 0x000001657A14F3B0>: Failed to resolve \\'query2.finance.yahoo.com\\' ([Errno 11001] getaddrinfo failed)\"))'))\n",
      "[*********************100%***********************]  1 of 1 completed\n",
      "\n",
      "1 Failed download:\n"
     ]
    },
    {
     "name": "stdout",
     "output_type": "stream",
     "text": [
      "Skipping VMC: Not enough data\n",
      "Processing WRB...\n",
      "Skipping WRB: Not enough data\n",
      "Processing GWW...\n",
      "Skipping GWW: Not enough data\n",
      "Processing WAB...\n",
      "Skipping WAB: Not enough data\n",
      "Processing WBA...\n",
      "Skipping WBA: Not enough data\n",
      "Processing WMT...\n",
      "Skipping WMT: Not enough data\n",
      "Processing DIS...\n",
      "Skipping DIS: Not enough data\n",
      "Processing WBD...\n",
      "Skipping WBD: Not enough data\n",
      "Processing WM...\n",
      "Skipping WM: Not enough data\n",
      "Processing WAT...\n"
     ]
    },
    {
     "name": "stderr",
     "output_type": "stream",
     "text": [
      "['WAT']: ConnectionError(MaxRetryError('HTTPSConnectionPool(host=\\'query2.finance.yahoo.com\\', port=443): Max retries exceeded with url: /v8/finance/chart/%ticker%?period1=1420088400&period2=1704085200&interval=1d&includePrePost=False&events=div%2Csplits%2CcapitalGains&crumb=sK4l77pf0SG (Caused by NameResolutionError(\"<urllib3.connection.HTTPSConnection object at 0x00000165741428A0>: Failed to resolve \\'query2.finance.yahoo.com\\' ([Errno 11001] getaddrinfo failed)\"))'))\n",
      "[*********************100%***********************]  1 of 1 completed\n",
      "\n",
      "1 Failed download:\n",
      "['WEC']: ConnectionError(MaxRetryError('HTTPSConnectionPool(host=\\'query2.finance.yahoo.com\\', port=443): Max retries exceeded with url: /v8/finance/chart/%ticker%?period1=1420088400&period2=1704085200&interval=1d&includePrePost=False&events=div%2Csplits%2CcapitalGains&crumb=sK4l77pf0SG (Caused by NameResolutionError(\"<urllib3.connection.HTTPSConnection object at 0x0000016570F6E870>: Failed to resolve \\'query2.finance.yahoo.com\\' ([Errno 11001] getaddrinfo failed)\"))'))\n",
      "[*********************100%***********************]  1 of 1 completed\n",
      "\n",
      "1 Failed download:\n",
      "['WFC']: ConnectionError(MaxRetryError('HTTPSConnectionPool(host=\\'query2.finance.yahoo.com\\', port=443): Max retries exceeded with url: /v8/finance/chart/%ticker%?period1=1420088400&period2=1704085200&interval=1d&includePrePost=False&events=div%2Csplits%2CcapitalGains&crumb=sK4l77pf0SG (Caused by NameResolutionError(\"<urllib3.connection.HTTPSConnection object at 0x000001657A16ACC0>: Failed to resolve \\'query2.finance.yahoo.com\\' ([Errno 11001] getaddrinfo failed)\"))'))\n",
      "[*********************100%***********************]  1 of 1 completed\n",
      "\n",
      "1 Failed download:\n",
      "['WELL']: ConnectionError(MaxRetryError('HTTPSConnectionPool(host=\\'query2.finance.yahoo.com\\', port=443): Max retries exceeded with url: /v8/finance/chart/%ticker%?period1=1420088400&period2=1704085200&interval=1d&includePrePost=False&events=div%2Csplits%2CcapitalGains&crumb=sK4l77pf0SG (Caused by NameResolutionError(\"<urllib3.connection.HTTPSConnection object at 0x000001657A12C230>: Failed to resolve \\'query2.finance.yahoo.com\\' ([Errno 11001] getaddrinfo failed)\"))'))\n",
      "[*********************100%***********************]  1 of 1 completed\n",
      "\n",
      "1 Failed download:\n",
      "['WST']: ConnectionError(MaxRetryError('HTTPSConnectionPool(host=\\'query2.finance.yahoo.com\\', port=443): Max retries exceeded with url: /v8/finance/chart/%ticker%?period1=1420088400&period2=1704085200&interval=1d&includePrePost=False&events=div%2Csplits%2CcapitalGains&crumb=sK4l77pf0SG (Caused by NameResolutionError(\"<urllib3.connection.HTTPSConnection object at 0x000001657A0A2FC0>: Failed to resolve \\'query2.finance.yahoo.com\\' ([Errno 11001] getaddrinfo failed)\"))'))\n",
      "[*********************100%***********************]  1 of 1 completed\n",
      "\n",
      "1 Failed download:\n",
      "['WDC']: ConnectionError(MaxRetryError('HTTPSConnectionPool(host=\\'query2.finance.yahoo.com\\', port=443): Max retries exceeded with url: /v8/finance/chart/%ticker%?period1=1420088400&period2=1704085200&interval=1d&includePrePost=False&events=div%2Csplits%2CcapitalGains&crumb=sK4l77pf0SG (Caused by NameResolutionError(\"<urllib3.connection.HTTPSConnection object at 0x000001657107A450>: Failed to resolve \\'query2.finance.yahoo.com\\' ([Errno 11001] getaddrinfo failed)\"))'))\n",
      "[*********************100%***********************]  1 of 1 completed\n",
      "\n",
      "1 Failed download:\n",
      "['WY']: ConnectionError(MaxRetryError('HTTPSConnectionPool(host=\\'query2.finance.yahoo.com\\', port=443): Max retries exceeded with url: /v8/finance/chart/%ticker%?period1=1420088400&period2=1704085200&interval=1d&includePrePost=False&events=div%2Csplits%2CcapitalGains&crumb=sK4l77pf0SG (Caused by NameResolutionError(\"<urllib3.connection.HTTPSConnection object at 0x000001657A12C7D0>: Failed to resolve \\'query2.finance.yahoo.com\\' ([Errno 11001] getaddrinfo failed)\"))'))\n",
      "[*********************100%***********************]  1 of 1 completed\n",
      "\n",
      "1 Failed download:\n",
      "['WMB']: ConnectionError(MaxRetryError('HTTPSConnectionPool(host=\\'query2.finance.yahoo.com\\', port=443): Max retries exceeded with url: /v8/finance/chart/%ticker%?period1=1420088400&period2=1704085200&interval=1d&includePrePost=False&events=div%2Csplits%2CcapitalGains&crumb=sK4l77pf0SG (Caused by NameResolutionError(\"<urllib3.connection.HTTPSConnection object at 0x000001657A168FB0>: Failed to resolve \\'query2.finance.yahoo.com\\' ([Errno 11001] getaddrinfo failed)\"))'))\n",
      "[*********************100%***********************]  1 of 1 completed\n",
      "\n",
      "1 Failed download:\n",
      "['WTW']: ConnectionError(MaxRetryError('HTTPSConnectionPool(host=\\'query2.finance.yahoo.com\\', port=443): Max retries exceeded with url: /v8/finance/chart/%ticker%?period1=1420088400&period2=1704085200&interval=1d&includePrePost=False&events=div%2Csplits%2CcapitalGains&crumb=sK4l77pf0SG (Caused by NameResolutionError(\"<urllib3.connection.HTTPSConnection object at 0x000001657A094470>: Failed to resolve \\'query2.finance.yahoo.com\\' ([Errno 11001] getaddrinfo failed)\"))'))\n",
      "[*********************100%***********************]  1 of 1 completed\n",
      "\n",
      "1 Failed download:\n",
      "['WYNN']: ConnectionError(MaxRetryError('HTTPSConnectionPool(host=\\'query2.finance.yahoo.com\\', port=443): Max retries exceeded with url: /v8/finance/chart/%ticker%?period1=1420088400&period2=1704085200&interval=1d&includePrePost=False&events=div%2Csplits%2CcapitalGains&crumb=sK4l77pf0SG (Caused by NameResolutionError(\"<urllib3.connection.HTTPSConnection object at 0x000001657A153320>: Failed to resolve \\'query2.finance.yahoo.com\\' ([Errno 11001] getaddrinfo failed)\"))'))\n",
      "[*********************100%***********************]  1 of 1 completed\n",
      "\n",
      "1 Failed download:\n",
      "['XEL']: ConnectionError(MaxRetryError('HTTPSConnectionPool(host=\\'query2.finance.yahoo.com\\', port=443): Max retries exceeded with url: /v8/finance/chart/%ticker%?period1=1420088400&period2=1704085200&interval=1d&includePrePost=False&events=div%2Csplits%2CcapitalGains&crumb=sK4l77pf0SG (Caused by NameResolutionError(\"<urllib3.connection.HTTPSConnection object at 0x000001657A150D10>: Failed to resolve \\'query2.finance.yahoo.com\\' ([Errno 11001] getaddrinfo failed)\"))'))\n",
      "[*********************100%***********************]  1 of 1 completed"
     ]
    },
    {
     "name": "stdout",
     "output_type": "stream",
     "text": [
      "Skipping WAT: Not enough data\n",
      "Processing WEC...\n",
      "Skipping WEC: Not enough data\n",
      "Processing WFC...\n",
      "Skipping WFC: Not enough data\n",
      "Processing WELL...\n",
      "Skipping WELL: Not enough data\n",
      "Processing WST...\n",
      "Skipping WST: Not enough data\n",
      "Processing WDC...\n",
      "Skipping WDC: Not enough data\n",
      "Processing WY...\n",
      "Skipping WY: Not enough data\n",
      "Processing WMB...\n",
      "Skipping WMB: Not enough data\n",
      "Processing WTW...\n",
      "Skipping WTW: Not enough data\n",
      "Processing WYNN...\n",
      "Skipping WYNN: Not enough data\n",
      "Processing XEL...\n",
      "Skipping XEL: Not enough data\n",
      "Processing XYL...\n"
     ]
    },
    {
     "name": "stderr",
     "output_type": "stream",
     "text": [
      "\n",
      "\n",
      "1 Failed download:\n",
      "['XYL']: ConnectionError(MaxRetryError('HTTPSConnectionPool(host=\\'query2.finance.yahoo.com\\', port=443): Max retries exceeded with url: /v8/finance/chart/%ticker%?period1=1420088400&period2=1704085200&interval=1d&includePrePost=False&events=div%2Csplits%2CcapitalGains&crumb=sK4l77pf0SG (Caused by NameResolutionError(\"<urllib3.connection.HTTPSConnection object at 0x00000165740D32C0>: Failed to resolve \\'query2.finance.yahoo.com\\' ([Errno 11001] getaddrinfo failed)\"))'))\n",
      "[*********************100%***********************]  1 of 1 completed\n",
      "\n",
      "1 Failed download:\n",
      "['YUM']: ConnectionError(MaxRetryError('HTTPSConnectionPool(host=\\'query2.finance.yahoo.com\\', port=443): Max retries exceeded with url: /v8/finance/chart/%ticker%?period1=1420088400&period2=1704085200&interval=1d&includePrePost=False&events=div%2Csplits%2CcapitalGains&crumb=sK4l77pf0SG (Caused by NameResolutionError(\"<urllib3.connection.HTTPSConnection object at 0x000001657A12D610>: Failed to resolve \\'query2.finance.yahoo.com\\' ([Errno 11001] getaddrinfo failed)\"))'))\n",
      "[*********************100%***********************]  1 of 1 completed\n",
      "\n",
      "1 Failed download:\n",
      "['ZBRA']: ConnectionError(MaxRetryError('HTTPSConnectionPool(host=\\'query2.finance.yahoo.com\\', port=443): Max retries exceeded with url: /v8/finance/chart/%ticker%?period1=1420088400&period2=1704085200&interval=1d&includePrePost=False&events=div%2Csplits%2CcapitalGains&crumb=sK4l77pf0SG (Caused by NameResolutionError(\"<urllib3.connection.HTTPSConnection object at 0x000001657A1539B0>: Failed to resolve \\'query2.finance.yahoo.com\\' ([Errno 11001] getaddrinfo failed)\"))'))\n",
      "[*********************100%***********************]  1 of 1 completed\n",
      "\n",
      "1 Failed download:\n",
      "['ZBH']: ConnectionError(MaxRetryError('HTTPSConnectionPool(host=\\'query2.finance.yahoo.com\\', port=443): Max retries exceeded with url: /v8/finance/chart/%ticker%?period1=1420088400&period2=1704085200&interval=1d&includePrePost=False&events=div%2Csplits%2CcapitalGains&crumb=sK4l77pf0SG (Caused by NameResolutionError(\"<urllib3.connection.HTTPSConnection object at 0x000001657A151D00>: Failed to resolve \\'query2.finance.yahoo.com\\' ([Errno 11001] getaddrinfo failed)\"))'))\n",
      "[*********************100%***********************]  1 of 1 completed\n",
      "\n",
      "1 Failed download:\n",
      "['ZTS']: ConnectionError(MaxRetryError('HTTPSConnectionPool(host=\\'query2.finance.yahoo.com\\', port=443): Max retries exceeded with url: /v8/finance/chart/%ticker%?period1=1420088400&period2=1704085200&interval=1d&includePrePost=False&events=div%2Csplits%2CcapitalGains&crumb=sK4l77pf0SG (Caused by NameResolutionError(\"<urllib3.connection.HTTPSConnection object at 0x000001657A1513D0>: Failed to resolve \\'query2.finance.yahoo.com\\' ([Errno 11001] getaddrinfo failed)\"))'))\n"
     ]
    },
    {
     "name": "stdout",
     "output_type": "stream",
     "text": [
      "Skipping XYL: Not enough data\n",
      "Processing YUM...\n",
      "Skipping YUM: Not enough data\n",
      "Processing ZBRA...\n",
      "Skipping ZBRA: Not enough data\n",
      "Processing ZBH...\n",
      "Skipping ZBH: Not enough data\n",
      "Processing ZTS...\n",
      "Skipping ZTS: Not enough data\n",
      "All models saved to combined_arima_models.pkl\n"
     ]
    }
   ],
   "source": [
    "import yfinance as yf\n",
    "import pandas as pd\n",
    "import pickle\n",
    "from pmdarima import auto_arima\n",
    "import os\n",
    "\n",
    "# Fetch S&P 500 tickers and industries from Wikipedia\n",
    "def get_sp500_tickers_and_industries():\n",
    "    url = 'https://en.wikipedia.org/wiki/List_of_S%26P_500_companies'\n",
    "    tables = pd.read_html(url)\n",
    "    df = tables[0]  # The first table contains the S&P 500 data\n",
    "    df = df[['Symbol', 'GICS Sector', 'Security']]  # Select relevant columns\n",
    "    tickers_data = df.set_index('Symbol')[['GICS Sector', 'Security']].to_dict(orient='index')  # Create a dictionary of tickers, sectors, and company names\n",
    "    return tickers_data\n",
    "\n",
    "# Train ARIMA models for all stocks and store them in a dictionary\n",
    "def train_all_arima_models(tickers_data, save_path='combined_arima_models.pkl'):\n",
    "    all_models = {}  # Dictionary to hold all ARIMA models\n",
    "\n",
    "    # Loop through each ticker\n",
    "    for ticker, info in tickers_data.items():\n",
    "        try:\n",
    "            print(f\"Processing {ticker}...\")\n",
    "            \n",
    "            # Download historical stock data\n",
    "            stock_data = yf.download(ticker, start=\"2015-01-01\", end=\"2024-01-01\")\n",
    "\n",
    "            # Check if we have enough data to train the model\n",
    "            if len(stock_data) < 100:  # Arbitrary threshold for sufficient data\n",
    "                print(f\"Skipping {ticker}: Not enough data\")\n",
    "                continue\n",
    "\n",
    "            # Differencing to make the series stationary\n",
    "            stock_diff = stock_data['Close'].diff().dropna()\n",
    "\n",
    "            # Train an ARIMA model\n",
    "            arima_model = auto_arima(stock_diff, seasonal=False, trace=False, stepwise=True)\n",
    "\n",
    "            # Store the model in the dictionary\n",
    "            all_models[ticker] = arima_model\n",
    "            \n",
    "        except Exception as e:\n",
    "            print(f\"Error processing {ticker}: {e}\")\n",
    "\n",
    "    # Save the combined dictionary of models to a single file\n",
    "    with open(save_path, 'wb') as f:\n",
    "        pickle.dump(all_models, f)\n",
    "\n",
    "    print(f\"All models saved to {save_path}\")\n",
    "\n",
    "# Load the combined ARIMA model dictionary\n",
    "def load_combined_arima_models(save_path='combined_arima_models.pkl'):\n",
    "    with open(save_path, 'rb') as f:\n",
    "        all_models = pickle.load(f)\n",
    "    return all_models\n",
    "\n",
    "# Main Execution\n",
    "tickers_data = get_sp500_tickers_and_industries()\n",
    "\n",
    "# Train and save all ARIMA models\n",
    "train_all_arima_models(tickers_data)\n",
    "\n",
    "# To load the models later, use:\n",
    "# models = load_combined_arima_models()"
   ]
  }
 ],
 "metadata": {
  "kernelspec": {
   "display_name": "Python 3 (ipykernel)",
   "language": "python",
   "name": "python3"
  },
  "language_info": {
   "codemirror_mode": {
    "name": "ipython",
    "version": 3
   },
   "file_extension": ".py",
   "mimetype": "text/x-python",
   "name": "python",
   "nbconvert_exporter": "python",
   "pygments_lexer": "ipython3",
   "version": "3.12.4"
  }
 },
 "nbformat": 4,
 "nbformat_minor": 5
}
